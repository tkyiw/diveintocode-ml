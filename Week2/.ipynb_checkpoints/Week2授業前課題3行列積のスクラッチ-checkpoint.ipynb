{
 "cells": [
  {
   "cell_type": "markdown",
   "metadata": {},
   "source": [
    "# 1.このテキストについて\n",
    "### テキストの目的\n",
    "数式演算ライブラリのNumPyに慣れる  \n",
    "行列演算に慣れる\n",
    "\n",
    "### どのように学ぶか\n",
    "行列積の計算を手計算で行った後、スクラッチ実装することで理解を深めていきます。"
   ]
  },
  {
   "cell_type": "markdown",
   "metadata": {},
   "source": [
    "# 2.行列積\n",
    "以下のような行列A、Bを考えます。\n",
    "\n",
    "$$\n",
    "A =\n",
    "\\begin{bmatrix}\n",
    "-1 & 2 & 3 \\\\\n",
    "4 & -5 & 6 \\\\\n",
    "7 & 8 & -9 \\\\\n",
    "\\end{bmatrix},　\n",
    "B =\n",
    "\\begin{bmatrix}\n",
    "0 & 2 & 1 \\\\\n",
    "0 & 2 & -8 \\\\\n",
    "2 & 9 & -1 \\\\\n",
    "\\end{bmatrix}\n",
    "$$\n",
    "\n",
    "NumPyで表すと次のようになります。"
   ]
  },
  {
   "cell_type": "code",
   "execution_count": 1,
   "metadata": {},
   "outputs": [],
   "source": [
    "import numpy as np\n",
    "a_ndarray = np.array([[-1, 2, 3], [4, -5, 6], [7, 8, -9]])\n",
    "b_ndarray = np.array([[0, 2, 1], [0, 2, -8], [2, 9, -1]])"
   ]
  },
  {
   "cell_type": "markdown",
   "metadata": {},
   "source": [
    "# 【問題1】行列積を手計算する\n",
    "AとBの行列積を手計算で解いてください。\n",
    "\n",
    "計算過程もマークダウンテキストを用いて説明してください"
   ]
  },
  {
   "cell_type": "markdown",
   "metadata": {},
   "source": [
    "$$\n",
    "A \\times B =\n",
    "\\begin{bmatrix}\n",
    "-1 \\times 0 + 2 \\times 0 + 3 \\times 2 & -1 \\times 2 + 2 \\times 2 + 3 \\times 9 & -1 \\times 1 + 2 \\times -8 + 3 \\times -1 \\\\\n",
    "4 \\times 0 + -5 \\times 0 + 6 \\times 2 & 4 \\times 2 + -5 \\times 2 + 6 \\times 9 & 4 \\times 1 + -5 \\times -8 + 6 \\times -1 \\\\\n",
    "7 \\times 0 + 8 \\times 0 + -9 \\times 2 & 7 \\times 2 + 8 \\times 2 + -9 \\times 9 & 7 \\times 1 + 8 \\times -8 + -9 \\times -1 \\\\\n",
    "\\end{bmatrix}  \n",
    "=\n",
    "\\begin{bmatrix}\n",
    "6 & 29 & -20 \\\\\n",
    "12 & 52 & 38 \\\\\n",
    "-18 & -51 & -48 \\\\\n",
    "\\end{bmatrix} \n",
    "$$"
   ]
  },
  {
   "cell_type": "markdown",
   "metadata": {},
   "source": [
    "# 【問題2】NumPyの関数による計算\n",
    "この行列積はNumPyのnp.matmul()やnp.dot()、または@演算子を使うことで簡単に計算できます。\n",
    "\n",
    "\n",
    "これらを使い行列積を計算してください。"
   ]
  },
  {
   "cell_type": "code",
   "execution_count": 2,
   "metadata": {},
   "outputs": [
    {
     "data": {
      "text/plain": [
       "array([[  6,  29, -20],\n",
       "       [ 12,  52,  38],\n",
       "       [-18, -51, -48]])"
      ]
     },
     "execution_count": 2,
     "metadata": {},
     "output_type": "execute_result"
    }
   ],
   "source": [
    "# np.matmul()\n",
    "np.matmul(a_ndarray, b_ndarray)"
   ]
  },
  {
   "cell_type": "code",
   "execution_count": 3,
   "metadata": {},
   "outputs": [
    {
     "data": {
      "text/plain": [
       "array([[  6,  29, -20],\n",
       "       [ 12,  52,  38],\n",
       "       [-18, -51, -48]])"
      ]
     },
     "execution_count": 3,
     "metadata": {},
     "output_type": "execute_result"
    }
   ],
   "source": [
    "# np.dot()\n",
    "np.dot(a_ndarray, b_ndarray)"
   ]
  },
  {
   "cell_type": "code",
   "execution_count": 4,
   "metadata": {},
   "outputs": [
    {
     "data": {
      "text/plain": [
       "array([[  6,  29, -20],\n",
       "       [ 12,  52,  38],\n",
       "       [-18, -51, -48]])"
      ]
     },
     "execution_count": 4,
     "metadata": {},
     "output_type": "execute_result"
    }
   ],
   "source": [
    "# @演算子\n",
    "a_ndarray @ b_ndarray"
   ]
  },
  {
   "cell_type": "markdown",
   "metadata": {},
   "source": [
    "《3種類の違い》\n",
    "\n",
    "np.matmul()とnp.dot()は3次元以上の配列で挙動が変わります。@演算子はnp.matmul()と同じ働きをします。\n",
    "\n",
    "今回のような2次元配列の行列積ではnp.matmul()や@演算子が公式に推奨されています。以下はnp.dot()の説明からの引用です。\n",
    ">If both a and b are 2-D arrays, it is matrix multiplication, but using matmul or a @ b is preferred."
   ]
  },
  {
   "cell_type": "markdown",
   "metadata": {},
   "source": [
    "# 3.行列積のスクラッチ実装\n",
    "np.matmul()やnp.dot()、または@演算子を使わずに、手計算で行った計算過程をNumPyによるスクラッチ実装で再現していきましょう。これにより、行列積の計算に対する理解を深めます。ここで考えるのは行列AとBのような次元が2の配列に限定します。"
   ]
  },
  {
   "cell_type": "markdown",
   "metadata": {},
   "source": [
    "# 【問題3】ある要素の計算を実装\n",
    "手計算をする際はまず行列Aの0行目と行列Bの0列目に注目し、以下の計算を行ったかと思います。\n",
    "\n",
    "\n",
    "- 行列Aの(0,0)の要素$a_{0,0}$と行列Bの(0,0)の要素$b_{0,0}$を掛け合わせる\n",
    "- 行列Aの(0,1)の要素$a_{0,1}$と行列Bの(1,0)の要素$b_{1,0}$を掛け合わせる\n",
    "- 行列Aの(0,2)の要素$a_{0,2}$と行列Bの(2,0)の要素$b_{2,0}$を掛け合わせる\n",
    "- それらの値を全て足し合わせる\n",
    "\n",
    "数式で表すと\n",
    "$$\n",
    "\\sum_{k=0}^{2}a_{0,k}b_{k,0}\n",
    "$$\n",
    "です。\n",
    "\n",
    "この計算をnp.matmul()やnp.dot()、または@演算子を使わずに行うコードを書いてください。"
   ]
  },
  {
   "cell_type": "code",
   "execution_count": 5,
   "metadata": {},
   "outputs": [
    {
     "data": {
      "text/plain": [
       "array([[  6,  29, -20],\n",
       "       [ 12,  52,  38],\n",
       "       [-18, -51, -48]])"
      ]
     },
     "execution_count": 5,
     "metadata": {},
     "output_type": "execute_result"
    }
   ],
   "source": [
    "count = 0\n",
    "number = 0\n",
    "ndarray = []\n",
    "for i in range(a_ndarray.shape[0]):\n",
    "    for j in range(b_ndarray.shape[1]):\n",
    "        for k in range(a_ndarray.shape[1]):\n",
    "            mult = a_ndarray[i][k] * b_ndarray[k][j]\n",
    "            number += mult           \n",
    "            count += 1\n",
    "            if count == a_ndarray.shape[1]:\n",
    "                ndarray.append(number)\n",
    "                count = 0\n",
    "                number = 0\n",
    "\n",
    "ndarray = np.array(ndarray)\n",
    "ndarray.reshape(a_ndarray.shape[0], b_ndarray.shape[1])"
   ]
  },
  {
   "cell_type": "markdown",
   "metadata": {},
   "source": [
    "# 【問題4】行列積を行う関数の作成\n",
    "問題3のコードを拡張し、行列積のスクラッチ実装を完成させてください。行列AとBを引数に受け取り、行列積を返す関数としてください。\n",
    "\n",
    "\n",
    "行列積を計算する場合は、問題3の計算を異なる行や列に対して繰り返していくことになります。\n",
    "\n",
    "\n",
    "計算結果である$3×3$の行列Cの各要素$c_{i,j}$は数式で表すと次のようになります。\n",
    "\n",
    "$$\n",
    "c_{i,j}=\n",
    "\\sum_{k=o}^{2}a_{i,k}b_{k,j}\n",
    "$$\n",
    "\n",
    "for文を使い、ndarrayのインデックスを動かしていくことで、合計9つの要素が計算できます。インデックス$i$や$j$を1増やすと、次の行や列に移ることができます。"
   ]
  },
  {
   "cell_type": "code",
   "execution_count": 6,
   "metadata": {},
   "outputs": [],
   "source": [
    "def matrix_multiplication(a, b):\n",
    "    count = 0\n",
    "    number = 0\n",
    "    ndarray = []\n",
    "    for i in range(a.shape[0]):\n",
    "        for j in range(b.shape[1]):\n",
    "            for k in range(a.shape[1]):\n",
    "                mult = a[i][k] * b[k][j]\n",
    "                number += mult           \n",
    "                count += 1\n",
    "                if count == a.shape[1]:\n",
    "                    ndarray.append(number)\n",
    "                    count = 0\n",
    "                    number = 0\n",
    "\n",
    "    ndarray = np.array(ndarray)\n",
    "    return ndarray.reshape(a.shape[0],b.shape[1])"
   ]
  },
  {
   "cell_type": "code",
   "execution_count": 7,
   "metadata": {},
   "outputs": [
    {
     "data": {
      "text/plain": [
       "array([[  6,  29, -20],\n",
       "       [ 12,  52,  38],\n",
       "       [-18, -51, -48]])"
      ]
     },
     "execution_count": 7,
     "metadata": {},
     "output_type": "execute_result"
    }
   ],
   "source": [
    "matrix_multiplication(a_ndarray, b_ndarray)"
   ]
  },
  {
   "cell_type": "markdown",
   "metadata": {},
   "source": [
    "# 4.行列積が定義されない組み合わせの行列\n",
    "次に以下のような例を考えます。\n",
    "\n",
    "$$\n",
    "D =\n",
    "\\begin{bmatrix}\n",
    "-1 & 2 & 3 \\\\\n",
    "4 & -5 & 6 \\\\\n",
    "\\end{bmatrix},\n",
    "E =\n",
    "\\begin{bmatrix}\n",
    "-9 & 8 & 7 \\\\\n",
    "6 & -5 & 4 \\\\\n",
    "\\end{bmatrix}\n",
    "$$\n"
   ]
  },
  {
   "cell_type": "code",
   "execution_count": 8,
   "metadata": {},
   "outputs": [],
   "source": [
    "d_ndarray = np.array([[-1, 2, 3], [4, -5, 6]])\n",
    "e_ndarray = np.array([[-9, 8, 7], [6, -5, 4]])"
   ]
  },
  {
   "cell_type": "markdown",
   "metadata": {},
   "source": [
    "行列積DEはDの列数とEの行数が等しい場合に定義されていますから、この例では計算ができません。"
   ]
  },
  {
   "cell_type": "markdown",
   "metadata": {},
   "source": [
    "# 【問題5】計算が定義されない入力を判定する\n",
    "問題4で作成した関数は、実装方法によってはこのDとEの配列を入力しても動いてしまう可能性があります。この場合、不適切な計算が行われることになります。また、途中でエラーになる場合でも、なぜエラーになったかが直接的には分かりづらいメッセージが表示されます。\n",
    "\n",
    "if文などによってこれを防ぎ、入力される形に問題があることをprint()を使い表示するコードを書き加えてください。"
   ]
  },
  {
   "cell_type": "code",
   "execution_count": 9,
   "metadata": {},
   "outputs": [],
   "source": [
    "def matrix_multiplication(a, b):\n",
    "    if a.shape[1] != b.shape[0]:\n",
    "        print('第一引数の列数と第二引数の行数が異なる為、計算できません。')\n",
    "        return\n",
    "    count = 0\n",
    "    number = 0\n",
    "    ndarray = []\n",
    "    for i in range(a.shape[0]):\n",
    "        for j in range(b.shape[1]):\n",
    "            for k in range(a.shape[1]):\n",
    "                mult = a[i][k] * b[k][j]\n",
    "                number += mult           \n",
    "                count += 1\n",
    "                if count == a.shape[1]:\n",
    "                    ndarray.append(number)\n",
    "                    count = 0\n",
    "                    number = 0\n",
    "\n",
    "    ndarray = np.array(ndarray)\n",
    "    return ndarray.reshape(a.shape[0],b.shape[1])"
   ]
  },
  {
   "cell_type": "code",
   "execution_count": 10,
   "metadata": {},
   "outputs": [
    {
     "name": "stdout",
     "output_type": "stream",
     "text": [
      "第一引数の列数と第二引数の行数が異なる為、計算できません。\n"
     ]
    }
   ],
   "source": [
    "matrix_multiplication(d_ndarray, e_ndarray)"
   ]
  },
  {
   "cell_type": "markdown",
   "metadata": {},
   "source": [
    "# 【問題6】転置\n",
    "片方の行列を転置することで、行列積が計算できるようになります。\n",
    "\n",
    "np.transpose()や.Tアトリビュートを用いて転置し、行列積を計算してください。"
   ]
  },
  {
   "cell_type": "code",
   "execution_count": 11,
   "metadata": {},
   "outputs": [
    {
     "data": {
      "text/plain": [
       "array([[ 46,  -4],\n",
       "       [-34,  73]])"
      ]
     },
     "execution_count": 11,
     "metadata": {},
     "output_type": "execute_result"
    }
   ],
   "source": [
    "# e_ndarrayを転置した時の行列積を求める。(2*3)(3*2)\n",
    "matrix_multiplication(d_ndarray, e_ndarray.T)"
   ]
  },
  {
   "cell_type": "code",
   "execution_count": 12,
   "metadata": {},
   "outputs": [
    {
     "data": {
      "text/plain": [
       "array([[ 46,  -4],\n",
       "       [-34,  73]])"
      ]
     },
     "execution_count": 12,
     "metadata": {},
     "output_type": "execute_result"
    }
   ],
   "source": [
    "# 確認用\n",
    "d_ndarray @ e_ndarray.T"
   ]
  },
  {
   "cell_type": "code",
   "execution_count": 13,
   "metadata": {},
   "outputs": [
    {
     "data": {
      "text/plain": [
       "array([[ 46,  -4],\n",
       "       [-34,  73]])"
      ]
     },
     "execution_count": 13,
     "metadata": {},
     "output_type": "execute_result"
    }
   ],
   "source": [
    "# np.transpose()を使ってみる。\n",
    "matrix_multiplication(d_ndarray, np.transpose(e_ndarray))"
   ]
  },
  {
   "cell_type": "code",
   "execution_count": 14,
   "metadata": {},
   "outputs": [
    {
     "data": {
      "text/plain": [
       "array([[ 33, -28,   9],\n",
       "       [-48,  41,  -6],\n",
       "       [  9,  -6,  45]])"
      ]
     },
     "execution_count": 14,
     "metadata": {},
     "output_type": "execute_result"
    }
   ],
   "source": [
    "# d_ndarrayを転置した時の行列積を求める。(3*2)(2*3)\n",
    "matrix_multiplication(d_ndarray.T, e_ndarray)"
   ]
  },
  {
   "cell_type": "code",
   "execution_count": 15,
   "metadata": {},
   "outputs": [
    {
     "data": {
      "text/plain": [
       "array([[ 33, -28,   9],\n",
       "       [-48,  41,  -6],\n",
       "       [  9,  -6,  45]])"
      ]
     },
     "execution_count": 15,
     "metadata": {},
     "output_type": "execute_result"
    }
   ],
   "source": [
    "# 確認用\n",
    "d_ndarray.T @ e_ndarray"
   ]
  }
 ],
 "metadata": {
  "kernelspec": {
   "display_name": "Python 3",
   "language": "python",
   "name": "python3"
  },
  "language_info": {
   "codemirror_mode": {
    "name": "ipython",
    "version": 3
   },
   "file_extension": ".py",
   "mimetype": "text/x-python",
   "name": "python",
   "nbconvert_exporter": "python",
   "pygments_lexer": "ipython3",
   "version": "3.7.6"
  }
 },
 "nbformat": 4,
 "nbformat_minor": 2
}
