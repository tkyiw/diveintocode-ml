{
 "cells": [
  {
   "cell_type": "markdown",
   "metadata": {},
   "source": [
    "# 【問題1】ダーツのまとを選ぶ\n",
    "ダーツのまとを選ぶためにサイコロを実装しましょう。\n",
    "\n",
    "《ヒント》  \n",
    "「サイコロを振る」動作を表現するのにnp.random.choice()を用います。こうすることで配列の中からランダムに要素を1つ選ぶことができます。"
   ]
  },
  {
   "cell_type": "code",
   "execution_count": null,
   "metadata": {},
   "outputs": [],
   "source": [
    "import numpy as np\n",
    "dice = np.random.choice(6) + 1"
   ]
  },
  {
   "cell_type": "markdown",
   "metadata": {},
   "source": [
    "# 【問題2】ダーツを投げて、刺さった場所を記録する\n",
    "ダーツの刺さった場所(x座標、y座標)を正規分布から値を発生させることで表現しましょう。正規分布のx方向の「中心」は問題1で出たサイコロの番号、「標準偏差」は0.1としてください。 刺さった場所（座標）は、配列で保持するようにしてください。\n",
    "\n",
    "《ヒント》  \n",
    "ダーツが刺さった場所（座標）は、二次元正規分布を真上から見たときのx座標、y座標の交点として表現しましょう。x座標、y座標の各値は、それぞれが独立した一次元正規分布に従うものとし、x座標とy座標用に、別々にnp.random.normal()から変数を発生させ、それらの組みを座標点として、配列で保持してください。\n",
    "\n",
    "また、二次元正規分布はnp.random.multivariate_normal()を用いて表現することもできます。その場合、例えば平均値ベクトルを[0,0] (mean=[0,0])、共分散行列を[[[0.01,0],[0,0.01]] (cov=[[0.01,0],[0,0.01]])としてnp.random.multivariate_normal(mean, cov)とすると、x座標とy座標の変数の組みを作れます。"
   ]
  },
  {
   "cell_type": "code",
   "execution_count": null,
   "metadata": {},
   "outputs": [],
   "source": [
    "mu = [0, 0]\n",
    "cov = [[0.01,0],[0,0.01]]\n",
    "xy = np.random.multivariate_normal(mu, cov, 1)\n",
    "xy"
   ]
  },
  {
   "cell_type": "markdown",
   "metadata": {},
   "source": [
    "# 【問題3】ダーツをたくさん投げて、まとの番号と紐付けた状態で記録する\n",
    "ダーツを1000回投げて、全てのダーツの刺さった位置をディクショナリに格納してください。ディクショナリのkeyはダーツのまとの番号になります。\n",
    "\n",
    "《ヒント》  \n",
    "「ダーツを1000回投げる」というのは 問題1のサイコロを1000回振る　ことに相当します。 問題1と問題2に加えディクショナリに座標を格納する操作をfor文の中に実装することになります。"
   ]
  },
  {
   "cell_type": "code",
   "execution_count": null,
   "metadata": {
    "scrolled": false
   },
   "outputs": [],
   "source": [
    "dic = {}\n",
    "for _ in range(1000):\n",
    "    dice = np.random.choice(6) + 1\n",
    "    mu = [dice, 0]\n",
    "    cov = [[0.01,0],[0,0.01]]\n",
    "    xy = np.random.multivariate_normal(mu, cov, 1)\n",
    "    xy = xy.tolist()[0]\n",
    "    dic.setdefault(dice, []).append(xy)"
   ]
  },
  {
   "cell_type": "markdown",
   "metadata": {},
   "source": [
    "# 【問題4】ダーツのまとと刺さった位置を描画する\n",
    "問題3で作成したディクショナリからkeyごとに値を取り出し、まとごとに刺さった場所を描画してみましょう。ダーツのまとを表現するためここではmatplotlibのpatchesクラスを用いてください。"
   ]
  },
  {
   "cell_type": "code",
   "execution_count": null,
   "metadata": {
    "scrolled": true
   },
   "outputs": [],
   "source": [
    "import matplotlib.pyplot as plt\n",
    "%matplotlib inline\n",
    "fig = plt.figure(figsize=(15, 2.5))\n",
    "ax = fig.add_subplot(111)\n",
    "for i in range(1, 7):\n",
    "    plt.scatter(np.array(dic[i])[:, 0], np.array(dic[i])[:,1], alpha=0.3)\n",
    "    circle1 = plt.Circle((i,0),0.5,ec=\"lightskyblue\", fill=False)\n",
    "    circle2 = plt.Circle((i,0),0.3,ec=\"green\", fill=False)\n",
    "    circle3 = plt.Circle((i,0),0.1,ec=\"red\", fill=False)\n",
    "    ax.add_patch(circle1)\n",
    "    ax.add_patch(circle2)\n",
    "    ax.add_patch(circle3)"
   ]
  },
  {
   "cell_type": "markdown",
   "metadata": {},
   "source": [
    "# 【問題5】関数化\n",
    "ダーツを投げる回数、ダーツのまとの数が変わっても描画できるように、問題1~問題4で作成したコードを関数化しましょう。\n",
    "\n",
    "《ヒント》  \n",
    "ダーツの投げる回数とダーツのまとの数を関数の引数にしましょう。"
   ]
  },
  {
   "cell_type": "code",
   "execution_count": null,
   "metadata": {},
   "outputs": [],
   "source": [
    "def darts_game(times, target):\n",
    "    dic = {}\n",
    "    for _ in range(times):\n",
    "        dice = np.random.choice(target) + 1\n",
    "        mu = [dice, 0]\n",
    "        cov = [[0.01,0],[0,0.01]]\n",
    "        xy = np.random.multivariate_normal(mu, cov, 1)\n",
    "        xy = xy.tolist()[0]\n",
    "        dic.setdefault(dice, []).append(xy)\n",
    "    \n",
    "    fig = plt.figure(figsize=(17, (17/target)))\n",
    "    ax = fig.add_subplot(111)\n",
    "    plt.xlim(0.5, (target+.5))\n",
    "    for i in range(1, target+1):\n",
    "        plt.scatter(np.array(dic.get(i, [[0, 0]]))[:, 0], np.array(dic.get(i, [[0, 0]]))[:,1], alpha=0.3)\n",
    "        circle1 = plt.Circle((i,0),0.5,ec=\"lightskyblue\", fill=False)\n",
    "        circle2 = plt.Circle((i,0),0.3,ec=\"green\", fill=False)\n",
    "        circle3 = plt.Circle((i,0),0.1,ec=\"red\", fill=False)\n",
    "        ax.add_patch(circle1)\n",
    "        ax.add_patch(circle2)\n",
    "        ax.add_patch(circle3)"
   ]
  },
  {
   "cell_type": "code",
   "execution_count": null,
   "metadata": {},
   "outputs": [],
   "source": [
    "darts_game(30, 3)"
   ]
  },
  {
   "cell_type": "markdown",
   "metadata": {},
   "source": [
    "# 【発展】ダーツシミュレーションの数理的な話\n",
    "今回実装する中でいくつか確率分布を使用した部分があったと思います。具体的には以下です。\n",
    "\n",
    "\n",
    "どのまとを選択するかを一様分布のサイコロを振ることで表現\n",
    "ダーツが刺さる場所を正規分布と仮定することで表現\n",
    "\n",
    "言い換えると、この2つの事象を　確率的に生じる　と仮定して、シミュレーションをしたわけです。このように、ある入力に対して出力が確率的に生成されるという仮説のもとモデルを構築することを　確率的生成モデル　と言います。\n",
    "\n",
    "\n",
    "ここでいうモデルとは機械学習モデルのことではなく、一般的な数理的なシミューション全般をさします。\n",
    "\n",
    "\n",
    "出る目の分布が一様分布に従うサイコロは以下のように表せます。\n",
    "\n",
    "\n",
    "$p(d=1)=\\frac{1}{6}, \\cdots, p(d=6)=\\frac{1}{6}$\n",
    "\n",
    "\n",
    "ダーツが刺さる場所は、x座標もy座標も正規分布に従うと仮定すると以下のように表せます。\n",
    "\n",
    "\n",
    "$p(x|d) = p(x|\\mu(d)) = N(x|\\mu(d), \\sigma^{2})$\n",
    "\n",
    "\n",
    "そして、サイコロを振る→正規分布からx座標とy座標のデータをサンプリングする　という連続的な2つの事象は上記の2つの確率分布の積で表現できるのでダーツが刺さる場所は以下のような確率密度分布で表現できます。\n",
    "\n",
    "\n",
    "$p(x) = \\sum_{d=1}^{6} p(d)p(x|d) = \\sum_{d=1}^{6} \\frac{1}{6} N(x|\\mu(d), \\sigma^{2})$\n",
    "\n",
    "\n",
    "このようないくつかの正規分布の重みつき平均で得られる確率分布を　混合正規分布　と言います。\n",
    "\n",
    "\n",
    "ここでは、確率的生成モデルの入り口に立ってもらうために確率分布を用いたプログラミングに取り組んでいただきました。アニメのキャラクター生成など、メディアでよく取り上げられているものもGANやVAEなどの生成モデルを使っています。今はそれらについて勉強する必要はありませんが、事象が確率的に生じると仮定して、ある入力に対して出力が確率的に生成されるという仮説のもと構築されるモデル ということは覚えておくと良いでしょう。"
   ]
  }
 ],
 "metadata": {
  "kernelspec": {
   "display_name": "Python 3",
   "language": "python",
   "name": "python3"
  },
  "language_info": {
   "codemirror_mode": {
    "name": "ipython",
    "version": 3
   },
   "file_extension": ".py",
   "mimetype": "text/x-python",
   "name": "python",
   "nbconvert_exporter": "python",
   "pygments_lexer": "ipython3",
   "version": "3.7.6"
  }
 },
 "nbformat": 4,
 "nbformat_minor": 2
}
