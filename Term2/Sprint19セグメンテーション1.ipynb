{
 "cells": [
  {
   "cell_type": "code",
   "execution_count": null,
   "metadata": {
    "colab": {},
    "colab_type": "code",
    "id": "zYwQjWfFKpPC"
   },
   "outputs": [],
   "source": [
    "# !pip install tensorflow==1.5.0"
   ]
  },
  {
   "cell_type": "code",
   "execution_count": null,
   "metadata": {
    "colab": {},
    "colab_type": "code",
    "id": "Wdn9jTnIrHW7"
   },
   "outputs": [],
   "source": [
    "# import tensorflow"
   ]
  },
  {
   "cell_type": "code",
   "execution_count": null,
   "metadata": {
    "colab": {},
    "colab_type": "code",
    "id": "AuSdSYe4rN9o"
   },
   "outputs": [],
   "source": [
    "# tensorflow.__version__"
   ]
  },
  {
   "cell_type": "code",
   "execution_count": null,
   "metadata": {
    "colab": {
     "base_uri": "https://localhost:8080/",
     "height": 224
    },
    "colab_type": "code",
    "executionInfo": {
     "elapsed": 4715,
     "status": "ok",
     "timestamp": 1593053157450,
     "user": {
      "displayName": "tky iw",
      "photoUrl": "https://lh3.googleusercontent.com/a-/AOh14Gi0Sa4H6uSatHCaoEQDIOQMjhXr3B6XJNWynf3QAQ=s64",
      "userId": "14648287999101461787"
     },
     "user_tz": -540
    },
    "id": "5Zo958VcYK7D",
    "outputId": "b4765273-2d6d-4f2d-aa43-0490f18c274a"
   },
   "outputs": [
    {
     "name": "stdout",
     "output_type": "stream",
     "text": [
      "Requirement already satisfied: kaggle in /usr/local/lib/python3.6/dist-packages (1.5.6)\n",
      "Requirement already satisfied: requests in /usr/local/lib/python3.6/dist-packages (from kaggle) (2.23.0)\n",
      "Requirement already satisfied: tqdm in /usr/local/lib/python3.6/dist-packages (from kaggle) (4.41.1)\n",
      "Requirement already satisfied: python-slugify in /usr/local/lib/python3.6/dist-packages (from kaggle) (4.0.0)\n",
      "Requirement already satisfied: six>=1.10 in /usr/local/lib/python3.6/dist-packages (from kaggle) (1.12.0)\n",
      "Requirement already satisfied: certifi in /usr/local/lib/python3.6/dist-packages (from kaggle) (2020.4.5.2)\n",
      "Requirement already satisfied: python-dateutil in /usr/local/lib/python3.6/dist-packages (from kaggle) (2.8.1)\n",
      "Requirement already satisfied: urllib3<1.25,>=1.21.1 in /usr/local/lib/python3.6/dist-packages (from kaggle) (1.24.3)\n",
      "Requirement already satisfied: chardet<4,>=3.0.2 in /usr/local/lib/python3.6/dist-packages (from requests->kaggle) (3.0.4)\n",
      "Requirement already satisfied: idna<3,>=2.5 in /usr/local/lib/python3.6/dist-packages (from requests->kaggle) (2.9)\n",
      "Requirement already satisfied: text-unidecode>=1.3 in /usr/local/lib/python3.6/dist-packages (from python-slugify->kaggle) (1.3)\n"
     ]
    }
   ],
   "source": [
    "!pip install kaggle"
   ]
  },
  {
   "cell_type": "code",
   "execution_count": null,
   "metadata": {
    "colab": {
     "base_uri": "https://localhost:8080/",
     "height": 122
    },
    "colab_type": "code",
    "executionInfo": {
     "elapsed": 21729,
     "status": "ok",
     "timestamp": 1593053178082,
     "user": {
      "displayName": "tky iw",
      "photoUrl": "https://lh3.googleusercontent.com/a-/AOh14Gi0Sa4H6uSatHCaoEQDIOQMjhXr3B6XJNWynf3QAQ=s64",
      "userId": "14648287999101461787"
     },
     "user_tz": -540
    },
    "id": "NmusYUjgX5Rf",
    "outputId": "cec59b2a-ec1d-4aea-e7a7-4d402ad47a4a"
   },
   "outputs": [
    {
     "name": "stdout",
     "output_type": "stream",
     "text": [
      "Go to this URL in a browser: https://accounts.google.com/o/oauth2/auth?client_id=947318989803-6bn6qk8qdgf4n4g3pfee6491hc0brc4i.apps.googleusercontent.com&redirect_uri=urn%3aietf%3awg%3aoauth%3a2.0%3aoob&response_type=code&scope=email%20https%3a%2f%2fwww.googleapis.com%2fauth%2fdocs.test%20https%3a%2f%2fwww.googleapis.com%2fauth%2fdrive%20https%3a%2f%2fwww.googleapis.com%2fauth%2fdrive.photos.readonly%20https%3a%2f%2fwww.googleapis.com%2fauth%2fpeopleapi.readonly\n",
      "\n",
      "Enter your authorization code:\n",
      "··········\n",
      "Mounted at /content/drive/\n"
     ]
    }
   ],
   "source": [
    "# 自分のマイドライブにマウントする\n",
    "\n",
    "from google.colab import drive\n",
    "drive.mount('/content/drive/')"
   ]
  },
  {
   "cell_type": "code",
   "execution_count": null,
   "metadata": {
    "colab": {},
    "colab_type": "code",
    "id": "Lz94s0BqX50p"
   },
   "outputs": [],
   "source": [
    "mkdir .kaggle"
   ]
  },
  {
   "cell_type": "code",
   "execution_count": null,
   "metadata": {
    "colab": {
     "base_uri": "https://localhost:8080/",
     "height": 34
    },
    "colab_type": "code",
    "executionInfo": {
     "elapsed": 3314,
     "status": "ok",
     "timestamp": 1593053188217,
     "user": {
      "displayName": "tky iw",
      "photoUrl": "https://lh3.googleusercontent.com/a-/AOh14Gi0Sa4H6uSatHCaoEQDIOQMjhXr3B6XJNWynf3QAQ=s64",
      "userId": "14648287999101461787"
     },
     "user_tz": -540
    },
    "id": "QOb2_xktYC8f",
    "outputId": "9a74d031-9264-43e9-ce4a-57a8e6eb8646"
   },
   "outputs": [
    {
     "name": "stdout",
     "output_type": "stream",
     "text": [
      "\u001b[0m\u001b[01;34m.\u001b[0m/  \u001b[01;34m..\u001b[0m/  \u001b[01;34m.config\u001b[0m/  \u001b[01;34mdrive\u001b[0m/  \u001b[01;34m.kaggle\u001b[0m/  \u001b[01;34msample_data\u001b[0m/\n"
     ]
    }
   ],
   "source": [
    "ls -a"
   ]
  },
  {
   "cell_type": "markdown",
   "metadata": {
    "colab_type": "text",
    "id": "51z4ApjkC_b7"
   },
   "source": [
    "# New Section"
   ]
  },
  {
   "cell_type": "code",
   "execution_count": null,
   "metadata": {
    "colab": {},
    "colab_type": "code",
    "id": "UbrlwyoYayv7"
   },
   "outputs": [],
   "source": [
    "# https://www.kaggle.com/　へアクセスし、ログイン後に右上のプロフィール画像をクリック、さらに\"My Account\"をクリックする\n",
    "# このサイトの「API」項目にある\"Create New API Token\"をクリックすると、kaggle.jsonファイルが自動的にダウンロードされる\n",
    "# ローカルで、kaggle.json（ダウンロードフォルダにあるはず）をエディターで開く。\n",
    "# このセルの以下のコードにある token = {'username':'***','key':'***'} における「***」部分を、\n",
    "# ダウンロードしたkaggle.jsonを参照して書き換え、このセルを実行する\n",
    "\n",
    "import json\n",
    "\n",
    "token = {\"username\":\"tkyiws\",\"key\":\"7eca0f661c4121148aa73a66cf8c82ce\"}\n",
    "with open('/content/.kaggle/kaggle.json', 'w') as file:\n",
    "    json.dump(token, file)"
   ]
  },
  {
   "cell_type": "code",
   "execution_count": null,
   "metadata": {
    "colab": {},
    "colab_type": "code",
    "id": "c0YHd6LcbSJn"
   },
   "outputs": [],
   "source": [
    "!chmod 600 /content/.kaggle/kaggle.json"
   ]
  },
  {
   "cell_type": "code",
   "execution_count": null,
   "metadata": {
    "colab": {
     "base_uri": "https://localhost:8080/",
     "height": 34
    },
    "colab_type": "code",
    "executionInfo": {
     "elapsed": 664,
     "status": "ok",
     "timestamp": 1593053238569,
     "user": {
      "displayName": "tky iw",
      "photoUrl": "https://lh3.googleusercontent.com/a-/AOh14Gi0Sa4H6uSatHCaoEQDIOQMjhXr3B6XJNWynf3QAQ=s64",
      "userId": "14648287999101461787"
     },
     "user_tz": -540
    },
    "id": "9TgiYOStY72u",
    "outputId": "7b2b9abc-c4df-42ca-8ce0-b20368b37028"
   },
   "outputs": [
    {
     "data": {
      "text/plain": [
       "'/content'"
      ]
     },
     "execution_count": 11,
     "metadata": {
      "tags": []
     },
     "output_type": "execute_result"
    }
   ],
   "source": [
    "pwd"
   ]
  },
  {
   "cell_type": "code",
   "execution_count": null,
   "metadata": {
    "colab": {
     "base_uri": "https://localhost:8080/",
     "height": 34
    },
    "colab_type": "code",
    "executionInfo": {
     "elapsed": 2865,
     "status": "ok",
     "timestamp": 1593053245702,
     "user": {
      "displayName": "tky iw",
      "photoUrl": "https://lh3.googleusercontent.com/a-/AOh14Gi0Sa4H6uSatHCaoEQDIOQMjhXr3B6XJNWynf3QAQ=s64",
      "userId": "14648287999101461787"
     },
     "user_tz": -540
    },
    "id": "UYHvHU68PFsL",
    "outputId": "053eabb8-f65b-4eeb-ea95-b8b94ac70ee1"
   },
   "outputs": [
    {
     "name": "stdout",
     "output_type": "stream",
     "text": [
      "\u001b[0m\u001b[01;34m.\u001b[0m/  \u001b[01;34m..\u001b[0m/  kaggle.json\n"
     ]
    }
   ],
   "source": [
    "ls -a .kaggle"
   ]
  },
  {
   "cell_type": "code",
   "execution_count": null,
   "metadata": {
    "colab": {},
    "colab_type": "code",
    "id": "67WCst_X0Qjt"
   },
   "outputs": [],
   "source": [
    "mkdir　/root/.kaggle/"
   ]
  },
  {
   "cell_type": "code",
   "execution_count": null,
   "metadata": {
    "colab": {},
    "colab_type": "code",
    "id": "2E9gx_jSa9tJ"
   },
   "outputs": [],
   "source": [
    "!cp -R /content/.kaggle/kaggle.json /root/.kaggle/"
   ]
  },
  {
   "cell_type": "code",
   "execution_count": null,
   "metadata": {
    "colab": {
     "base_uri": "https://localhost:8080/",
     "height": 34
    },
    "colab_type": "code",
    "executionInfo": {
     "elapsed": 2870,
     "status": "ok",
     "timestamp": 1593053345503,
     "user": {
      "displayName": "tky iw",
      "photoUrl": "https://lh3.googleusercontent.com/a-/AOh14Gi0Sa4H6uSatHCaoEQDIOQMjhXr3B6XJNWynf3QAQ=s64",
      "userId": "14648287999101461787"
     },
     "user_tz": -540
    },
    "id": "-QKa7HD1bUcC",
    "outputId": "7f1ad939-3883-4a78-9e9c-81664a07122e"
   },
   "outputs": [
    {
     "name": "stdout",
     "output_type": "stream",
     "text": [
      ".  ..  kaggle.json\n"
     ]
    }
   ],
   "source": [
    "!ls -a /root/.kaggle/"
   ]
  },
  {
   "cell_type": "code",
   "execution_count": null,
   "metadata": {
    "colab": {
     "base_uri": "https://localhost:8080/",
     "height": 428
    },
    "colab_type": "code",
    "executionInfo": {
     "elapsed": 2496,
     "status": "ok",
     "timestamp": 1593053348743,
     "user": {
      "displayName": "tky iw",
      "photoUrl": "https://lh3.googleusercontent.com/a-/AOh14Gi0Sa4H6uSatHCaoEQDIOQMjhXr3B6XJNWynf3QAQ=s64",
      "userId": "14648287999101461787"
     },
     "user_tz": -540
    },
    "id": "ADlTo5WyxveO",
    "outputId": "11b9ba3e-6f8e-4a8b-bd31-ff954cc5dc83"
   },
   "outputs": [
    {
     "name": "stdout",
     "output_type": "stream",
     "text": [
      "Warning: Looks like you're using an outdated API Version, please consider updating (server 1.5.6 / client 1.5.4)\n",
      "ref                                               deadline             category            reward  teamCount  userHasEntered  \n",
      "------------------------------------------------  -------------------  ---------------  ---------  ---------  --------------  \n",
      "tpu-getting-started                               2030-06-03 23:59:00  Getting Started      Kudos         67           False  \n",
      "digit-recognizer                                  2030-01-01 00:00:00  Getting Started  Knowledge       3517           False  \n",
      "titanic                                           2030-01-01 00:00:00  Getting Started  Knowledge      26532           False  \n",
      "house-prices-advanced-regression-techniques       2030-01-01 00:00:00  Getting Started  Knowledge       5962            True  \n",
      "connectx                                          2030-01-01 00:00:00  Getting Started  Knowledge        607           False  \n",
      "nlp-getting-started                               2030-01-01 00:00:00  Getting Started      Kudos       1881           False  \n",
      "competitive-data-science-predict-future-sales     2020-12-31 23:59:00  Playground           Kudos       7456           False  \n",
      "halite                                            2020-09-15 23:59:00  Featured              Swag        348           False  \n",
      "birdsong-recognition                              2020-09-15 23:59:00  Research           $25,000        136           False  \n",
      "siim-isic-melanoma-classification                 2020-08-17 23:59:00  Featured           $30,000       1289           False  \n",
      "global-wheat-detection                            2020-08-04 23:59:00  Research           $15,000       1058           False  \n",
      "open-images-object-detection-rvc-2020             2020-07-31 16:00:00  Playground       Knowledge         39           False  \n",
      "open-images-instance-segmentation-rvc-2020        2020-07-31 16:00:00  Playground       Knowledge          8           False  \n",
      "hashcode-photo-slideshow                          2020-07-27 23:59:00  Playground       Knowledge         42           False  \n",
      "prostate-cancer-grade-assessment                  2020-07-22 23:59:00  Featured           $25,000        648           False  \n",
      "alaska2-image-steganalysis                        2020-07-20 23:59:00  Research           $25,000        660           False  \n",
      "m5-forecasting-accuracy                           2020-06-30 23:59:00  Featured           $50,000       5272            True  \n",
      "m5-forecasting-uncertainty                        2020-06-30 23:59:00  Featured           $50,000        774            True  \n",
      "trends-assessment-prediction                      2020-06-29 23:59:00  Research           $25,000        958            True  \n",
      "jigsaw-multilingual-toxic-comment-classification  2020-06-22 23:59:00  Featured           $50,000       1621           False  \n"
     ]
    }
   ],
   "source": [
    "# kaggle APIコマンドが使えるかどうかを確認\n",
    "\n",
    "\n",
    "!kaggle competitions list"
   ]
  },
  {
   "cell_type": "code",
   "execution_count": null,
   "metadata": {
    "colab": {
     "base_uri": "https://localhost:8080/",
     "height": 34
    },
    "colab_type": "code",
    "executionInfo": {
     "elapsed": 827,
     "status": "ok",
     "timestamp": 1593053372668,
     "user": {
      "displayName": "tky iw",
      "photoUrl": "https://lh3.googleusercontent.com/a-/AOh14Gi0Sa4H6uSatHCaoEQDIOQMjhXr3B6XJNWynf3QAQ=s64",
      "userId": "14648287999101461787"
     },
     "user_tz": -540
    },
    "id": "ot7Tqrikc0-W",
    "outputId": "6309e5ea-3bad-47fb-e744-e550e68210f5"
   },
   "outputs": [
    {
     "name": "stdout",
     "output_type": "stream",
     "text": [
      "/content/drive/My Drive/sprint19\n"
     ]
    }
   ],
   "source": [
    "# カレントディレクトリの変更\n",
    "\n",
    "import os\n",
    "\n",
    "os.chdir('/content/drive/My Drive/sprint19')\n",
    "\n",
    "# カレントディレクトリの取得\n",
    "print(os.getcwd())"
   ]
  },
  {
   "cell_type": "code",
   "execution_count": null,
   "metadata": {
    "colab": {},
    "colab_type": "code",
    "id": "0UPDgxjRhbWC"
   },
   "outputs": [],
   "source": [
    "# !kaggle competitions download -c tgs-salt-identification-challenge"
   ]
  },
  {
   "cell_type": "code",
   "execution_count": null,
   "metadata": {
    "colab": {},
    "colab_type": "code",
    "id": "QU2gCe1otDGE"
   },
   "outputs": [],
   "source": [
    "# !unzip /content/drive/'My Drive'/sprint19/train.zip -d /content/drive/'My Drive'/sprint19/train_data"
   ]
  },
  {
   "cell_type": "code",
   "execution_count": null,
   "metadata": {
    "colab": {},
    "colab_type": "code",
    "id": "g2jtaHMG4kVV"
   },
   "outputs": [],
   "source": [
    "# !unzip /content/drive/'My Drive'/sprint19/test.zip -d /content/drive/'My Drive'/sprint19/test_data"
   ]
  },
  {
   "cell_type": "markdown",
   "metadata": {
    "colab_type": "text",
    "id": "ue7KEDPMjxkB"
   },
   "source": [
    "# 【問題1】学習・推定\n",
    "以下のKeras実装を使用して学習・推定を行ってください。\n",
    "\n",
    "\n",
    "[zhixuhao/unet: unet for image segmentation](https://github.com/zhixuhao/unet)\n",
    "\n",
    "\n",
    "《GPU環境での学習》\n",
    "\n",
    "\n",
    "大規模なデータセット、大きなモデルになるため、GPUを使用する必要があります。\n",
    "\n",
    "\n",
    "《新たなデータセットの適用》\n",
    "\n",
    "\n",
    "公開されている実装で用意されたものとは異なるデータセットを入力するための準備が必要です。"
   ]
  },
  {
   "cell_type": "code",
   "execution_count": null,
   "metadata": {
    "colab": {
     "base_uri": "https://localhost:8080/",
     "height": 119
    },
    "colab_type": "code",
    "executionInfo": {
     "elapsed": 10075,
     "status": "ok",
     "timestamp": 1593056046514,
     "user": {
      "displayName": "tky iw",
      "photoUrl": "https://lh3.googleusercontent.com/a-/AOh14Gi0Sa4H6uSatHCaoEQDIOQMjhXr3B6XJNWynf3QAQ=s64",
      "userId": "14648287999101461787"
     },
     "user_tz": -540
    },
    "id": "N7rYrfC9d1wr",
    "outputId": "f76aae97-0895-4721-f8fe-b871e1f27a8e"
   },
   "outputs": [
    {
     "name": "stdout",
     "output_type": "stream",
     "text": [
      "Cloning into 'unet'...\n",
      "remote: Enumerating objects: 394, done.\u001b[K\n",
      "remote: Total 394 (delta 0), reused 0 (delta 0), pack-reused 394\u001b[K\n",
      "Receiving objects: 100% (394/394), 44.92 MiB | 16.80 MiB/s, done.\n",
      "Resolving deltas: 100% (79/79), done.\n",
      "Checking out files: 100% (253/253), done.\n"
     ]
    }
   ],
   "source": [
    "!git clone https://github.com/zhixuhao/unet.git"
   ]
  },
  {
   "cell_type": "code",
   "execution_count": null,
   "metadata": {
    "colab": {},
    "colab_type": "code",
    "id": "g6ucdN0yCy5P"
   },
   "outputs": [],
   "source": [
    "os.chdir('/content/drive/My Drive/sprint19/unet')"
   ]
  },
  {
   "cell_type": "code",
   "execution_count": null,
   "metadata": {
    "colab": {},
    "colab_type": "code",
    "id": "lLwoLzh8PW0a"
   },
   "outputs": [],
   "source": [
    "import matplotlib.pyplot as plt\n",
    "from PIL import Image\n",
    "import glob "
   ]
  },
  {
   "cell_type": "code",
   "execution_count": null,
   "metadata": {
    "colab": {
     "base_uri": "https://localhost:8080/",
     "height": 220
    },
    "colab_type": "code",
    "executionInfo": {
     "elapsed": 3051,
     "status": "ok",
     "timestamp": 1593068299671,
     "user": {
      "displayName": "tky iw",
      "photoUrl": "https://lh3.googleusercontent.com/a-/AOh14Gi0Sa4H6uSatHCaoEQDIOQMjhXr3B6XJNWynf3QAQ=s64",
      "userId": "14648287999101461787"
     },
     "user_tz": -540
    },
    "id": "zlYz4wZHPfCd",
    "outputId": "76a2fd51-40b6-4162-e0b7-e36ca9e3def4"
   },
   "outputs": [
    {
     "data": {
      "text/plain": [
       "<matplotlib.image.AxesImage at 0x7f411fb46080>"
      ]
     },
     "execution_count": 56,
     "metadata": {
      "tags": []
     },
     "output_type": "execute_result"
    },
    {
     "data": {
      "image/png": "[encoded data removed]",
      "text/plain": [
       "<Figure size 432x288 with 2 Axes>"
      ]
     },
     "metadata": {
      "needs_background": "light",
      "tags": []
     },
     "output_type": "display_data"
    }
   ],
   "source": [
    "img = Image.open('/content/drive/My Drive/sprint19/train_data/images/000e218f21.png')\n",
    "msk = Image.open('/content/drive/My Drive/sprint19/train_data/masks/000e218f21.png')\n",
    "plt.subplot(121)\n",
    "plt.imshow(img)\n",
    "plt.subplot(122)\n",
    "plt.imshow(msk)"
   ]
  },
  {
   "cell_type": "code",
   "execution_count": null,
   "metadata": {
    "colab": {
     "base_uri": "https://localhost:8080/",
     "height": 326
    },
    "colab_type": "code",
    "executionInfo": {
     "elapsed": 168458,
     "status": "ok",
     "timestamp": 1593072238572,
     "user": {
      "displayName": "tky iw",
      "photoUrl": "https://lh3.googleusercontent.com/a-/AOh14Gi0Sa4H6uSatHCaoEQDIOQMjhXr3B6XJNWynf3QAQ=s64",
      "userId": "14648287999101461787"
     },
     "user_tz": -540
    },
    "id": "4oOFV3Vw29Ko",
    "outputId": "92b89397-bf7e-47e0-e9d4-2e458b70c5de"
   },
   "outputs": [
    {
     "name": "stderr",
     "output_type": "stream",
     "text": [
      "/content/drive/My Drive/sprint19/unet/model.py:55: UserWarning: Update your `Model` call to the Keras 2 API: `Model(inputs=Tensor(\"in..., outputs=Tensor(\"co...)`\n",
      "  model = Model(input = inputs, output = conv10)\n"
     ]
    },
    {
     "name": "stdout",
     "output_type": "stream",
     "text": [
      "Epoch 1/3\n",
      "Found 4000 images belonging to 1 classes.\n",
      "Found 4000 images belonging to 1 classes.\n",
      "300/300 [==============================] - 52s 172ms/step - loss: 0.6237 - accuracy: 0.7405\n",
      "\n",
      "Epoch 00001: loss improved from inf to 0.62366, saving model to unet_membrane.hdf5\n",
      "Epoch 2/3\n",
      "300/300 [==============================] - 52s 172ms/step - loss: 0.5509 - accuracy: 0.7445\n",
      "\n",
      "Epoch 00002: loss improved from 0.62366 to 0.55093, saving model to unet_membrane.hdf5\n",
      "Epoch 3/3\n",
      "300/300 [==============================] - 52s 174ms/step - loss: 0.5271 - accuracy: 0.7616\n",
      "\n",
      "Epoch 00003: loss improved from 0.55093 to 0.52707, saving model to unet_membrane.hdf5\n"
     ]
    },
    {
     "data": {
      "text/plain": [
       "<keras.callbacks.callbacks.History at 0x7f411a1e3a90>"
      ]
     },
     "execution_count": 110,
     "metadata": {
      "tags": []
     },
     "output_type": "execute_result"
    }
   ],
   "source": [
    "from model import *\n",
    "from data import *\n",
    "\n",
    "#os.environ[\"CUDA_VISIBLE_DEVICES\"] = \"0\"\n",
    "\n",
    "\n",
    "data_gen_args = dict(rotation_range=0.2,\n",
    "                    width_shift_range=0.05,\n",
    "                    height_shift_range=0.05,\n",
    "                    shear_range=0.05,\n",
    "                    zoom_range=0.05,\n",
    "                    horizontal_flip=True,\n",
    "                    fill_mode='nearest')\n",
    "myGene = trainGenerator(2,\n",
    "                        '/content/drive/My Drive/sprint19/train_data',\n",
    "                        'images',\n",
    "                        'masks',\n",
    "                        data_gen_args,save_to_dir = None,\n",
    "                        )\n",
    "\n",
    "model = unet()\n",
    "model_checkpoint = ModelCheckpoint('unet_membrane.hdf5', monitor='loss',verbose=1, save_best_only=True)\n",
    "model.fit_generator(myGene,steps_per_epoch=300,epochs=3,callbacks=[model_checkpoint])"
   ]
  },
  {
   "cell_type": "code",
   "execution_count": null,
   "metadata": {
    "colab": {
     "base_uri": "https://localhost:8080/",
     "height": 51
    },
    "colab_type": "code",
    "executionInfo": {
     "elapsed": 163637,
     "status": "ok",
     "timestamp": 1593072238578,
     "user": {
      "displayName": "tky iw",
      "photoUrl": "https://lh3.googleusercontent.com/a-/AOh14Gi0Sa4H6uSatHCaoEQDIOQMjhXr3B6XJNWynf3QAQ=s64",
      "userId": "14648287999101461787"
     },
     "user_tz": -540
    },
    "id": "8NT9jiw5UWl3",
    "outputId": "80e660b5-9587-4bf0-b926-5140e3747700"
   },
   "outputs": [
    {
     "name": "stdout",
     "output_type": "stream",
     "text": [
      "/content/drive/My Drive/sprint19/test_data/images/8cf16aa0f5.png\n"
     ]
    },
    {
     "data": {
      "text/plain": [
       "18200"
      ]
     },
     "execution_count": 111,
     "metadata": {
      "tags": []
     },
     "output_type": "execute_result"
    }
   ],
   "source": [
    "testimg_list = glob.glob('/content/drive/My Drive/sprint19/test_data/images' + '/*' + \".png\")\n",
    "print(testimg_list[0]) \n",
    "len(testimg_list) # 200枚推定画像が入ってしまった。"
   ]
  },
  {
   "cell_type": "code",
   "execution_count": null,
   "metadata": {
    "colab": {},
    "colab_type": "code",
    "id": "Ud8ryPYDWWua"
   },
   "outputs": [],
   "source": [
    "def testGenerator(test_path,num_image = 30,\n",
    "                  target_size = (256,256),\n",
    "                  flag_multi_class = False,\n",
    "                  as_gray = True):\n",
    "    for i in range(num_image):\n",
    "        img = io.imread(os.path.join(testimg_list[i]),as_gray = as_gray)\n",
    "        img = img / 255\n",
    "        img = trans.resize(img,target_size)\n",
    "        img = np.reshape(img,img.shape+(1,)) if (not flag_multi_class) else img\n",
    "        img = np.reshape(img,(1,)+img.shape)\n",
    "        yield img"
   ]
  },
  {
   "cell_type": "code",
   "execution_count": null,
   "metadata": {
    "colab": {
     "base_uri": "https://localhost:8080/",
     "height": 564
    },
    "colab_type": "code",
    "executionInfo": {
     "elapsed": 2391,
     "status": "ok",
     "timestamp": 1593072280762,
     "user": {
      "displayName": "tky iw",
      "photoUrl": "https://lh3.googleusercontent.com/a-/AOh14Gi0Sa4H6uSatHCaoEQDIOQMjhXr3B6XJNWynf3QAQ=s64",
      "userId": "14648287999101461787"
     },
     "user_tz": -540
    },
    "id": "PtjI0EE385Gp",
    "outputId": "1da95e4f-4f24-49a1-de99-d29eebf4fdc6"
   },
   "outputs": [
    {
     "name": "stdout",
     "output_type": "stream",
     "text": [
      "30/30 [==============================] - 1s 38ms/step\n"
     ]
    },
    {
     "name": "stderr",
     "output_type": "stream",
     "text": [
      "WARNING:root:Lossy conversion from float32 to uint8. Range [0, 1]. Convert image to uint8 prior to saving to suppress this warning.\n",
      "WARNING:root:Lossy conversion from float32 to uint8. Range [0, 1]. Convert image to uint8 prior to saving to suppress this warning.\n",
      "WARNING:root:Lossy conversion from float32 to uint8. Range [0, 1]. Convert image to uint8 prior to saving to suppress this warning.\n",
      "WARNING:root:Lossy conversion from float32 to uint8. Range [0, 1]. Convert image to uint8 prior to saving to suppress this warning.\n",
      "WARNING:root:Lossy conversion from float32 to uint8. Range [0, 1]. Convert image to uint8 prior to saving to suppress this warning.\n",
      "WARNING:root:Lossy conversion from float32 to uint8. Range [0, 1]. Convert image to uint8 prior to saving to suppress this warning.\n",
      "WARNING:root:Lossy conversion from float32 to uint8. Range [0, 1]. Convert image to uint8 prior to saving to suppress this warning.\n",
      "WARNING:root:Lossy conversion from float32 to uint8. Range [0, 1]. Convert image to uint8 prior to saving to suppress this warning.\n",
      "WARNING:root:Lossy conversion from float32 to uint8. Range [0, 1]. Convert image to uint8 prior to saving to suppress this warning.\n",
      "WARNING:root:Lossy conversion from float32 to uint8. Range [0, 1]. Convert image to uint8 prior to saving to suppress this warning.\n",
      "WARNING:root:Lossy conversion from float32 to uint8. Range [0, 1]. Convert image to uint8 prior to saving to suppress this warning.\n",
      "WARNING:root:Lossy conversion from float32 to uint8. Range [0, 1]. Convert image to uint8 prior to saving to suppress this warning.\n",
      "WARNING:root:Lossy conversion from float32 to uint8. Range [0, 1]. Convert image to uint8 prior to saving to suppress this warning.\n",
      "WARNING:root:Lossy conversion from float32 to uint8. Range [0, 1]. Convert image to uint8 prior to saving to suppress this warning.\n",
      "WARNING:root:Lossy conversion from float32 to uint8. Range [0, 1]. Convert image to uint8 prior to saving to suppress this warning.\n",
      "WARNING:root:Lossy conversion from float32 to uint8. Range [0, 1]. Convert image to uint8 prior to saving to suppress this warning.\n",
      "WARNING:root:Lossy conversion from float32 to uint8. Range [0, 1]. Convert image to uint8 prior to saving to suppress this warning.\n",
      "WARNING:root:Lossy conversion from float32 to uint8. Range [0, 1]. Convert image to uint8 prior to saving to suppress this warning.\n",
      "WARNING:root:Lossy conversion from float32 to uint8. Range [0, 1]. Convert image to uint8 prior to saving to suppress this warning.\n",
      "WARNING:root:Lossy conversion from float32 to uint8. Range [0, 1]. Convert image to uint8 prior to saving to suppress this warning.\n",
      "WARNING:root:Lossy conversion from float32 to uint8. Range [0, 1]. Convert image to uint8 prior to saving to suppress this warning.\n",
      "WARNING:root:Lossy conversion from float32 to uint8. Range [0, 1]. Convert image to uint8 prior to saving to suppress this warning.\n",
      "WARNING:root:Lossy conversion from float32 to uint8. Range [0, 1]. Convert image to uint8 prior to saving to suppress this warning.\n",
      "WARNING:root:Lossy conversion from float32 to uint8. Range [0, 1]. Convert image to uint8 prior to saving to suppress this warning.\n",
      "WARNING:root:Lossy conversion from float32 to uint8. Range [0, 1]. Convert image to uint8 prior to saving to suppress this warning.\n",
      "WARNING:root:Lossy conversion from float32 to uint8. Range [0, 1]. Convert image to uint8 prior to saving to suppress this warning.\n",
      "WARNING:root:Lossy conversion from float32 to uint8. Range [0, 1]. Convert image to uint8 prior to saving to suppress this warning.\n",
      "WARNING:root:Lossy conversion from float32 to uint8. Range [0, 1]. Convert image to uint8 prior to saving to suppress this warning.\n",
      "WARNING:root:Lossy conversion from float32 to uint8. Range [0, 1]. Convert image to uint8 prior to saving to suppress this warning.\n",
      "WARNING:root:Lossy conversion from float32 to uint8. Range [0, 1]. Convert image to uint8 prior to saving to suppress this warning.\n"
     ]
    }
   ],
   "source": [
    "testGene = testGenerator(\"/content/drive/My Drive/sprint19/test_data/images\")\n",
    "results = model.predict_generator(testGene,30,verbose=1)\n",
    "saveResult(\"/content/drive/My Drive/sprint19/test_data/pred\",results)"
   ]
  },
  {
   "cell_type": "code",
   "execution_count": null,
   "metadata": {
    "colab": {
     "base_uri": "https://localhost:8080/",
     "height": 595
    },
    "colab_type": "code",
    "executionInfo": {
     "elapsed": 3944,
     "status": "ok",
     "timestamp": 1593072428412,
     "user": {
      "displayName": "tky iw",
      "photoUrl": "https://lh3.googleusercontent.com/a-/AOh14Gi0Sa4H6uSatHCaoEQDIOQMjhXr3B6XJNWynf3QAQ=s64",
      "userId": "14648287999101461787"
     },
     "user_tz": -540
    },
    "id": "y_KBii37Uyy6",
    "outputId": "266012c3-7ce3-43f5-9459-9357e50c8530"
   },
   "outputs": [
    {
     "data": {
      "image/png": "[encoded data removed]",
      "text/plain": [
       "<Figure size 720x720 with 30 Axes>"
      ]
     },
     "metadata": {
      "needs_background": "light",
      "tags": []
     },
     "output_type": "display_data"
    }
   ],
   "source": [
    "pre_list = glob.glob('/content/drive/My Drive/sprint19/test_data/pred' + '/*' + \".png\")\n",
    "plt.figure(figsize=(10, 10))\n",
    "for i, im in enumerate(pre_list):\n",
    "    img = Image.open(im)\n",
    "    plt.subplot(len(pre_list)/5, 5, i+1)\n",
    "    plt.imshow(pre_img)"
   ]
  },
  {
   "cell_type": "markdown",
   "metadata": {
    "colab": {},
    "colab_type": "code",
    "id": "Mnmlz4aou_0s"
   },
   "source": [
    "# 【問題2】コードリーディング\n",
    "論文[1]に目を通した上で、上記実装のコードリーディングを行ってください。"
   ]
  },
  {
   "cell_type": "markdown",
   "metadata": {},
   "source": [
    "U-Netは出力も画像で得られるように「fully convolution networt(FCN)」と呼ばれる全畳み込み層からなる。それによって生じる問題を次のように解決する。まず広域な画像の特徴を元にした認識を行うためには極端な多層化が必要になる問題に対して、ダウンサンプリング（contracting path）によって少層で画像の参照領域を拡大する。次に、アップサンプリング（expansive path）によって解像度を復元する。それだけでは元の画像の特徴が薄れ、ぼやけたような画像になる為、スキップコネクションでダウンサンプリング前の高解像度の特徴を後段のアップサンプリング後の特徴と結合することでダウンサンプリング後に抽出された広い範囲の特徴と解像度を保つ為に必要な高解像度の特徴の両方を使って確率マップを出力することができる。また、バックプロパゲーションの際にも安定化と高速化に寄与する構成となっている。\n",
    "\n",
    "\n",
    "\n",
    "```python\n",
    "def unet(pretrained_weights = None,input_size = (256,256,1)):\n",
    "    inputs = Input(input_size)\n",
    "    # contracting path\n",
    "    conv1 = Conv2D(64, 3, activation = 'relu', padding = 'same', kernel_initializer = 'he_normal')(inputs)\n",
    "    conv1 = Conv2D(64, 3, activation = 'relu', padding = 'same', kernel_initializer = 'he_normal')(conv1)\n",
    "    pool1 = MaxPooling2D(pool_size=(2, 2))(conv1)\n",
    "    conv2 = Conv2D(128, 3, activation = 'relu', padding = 'same', kernel_initializer = 'he_normal')(pool1)\n",
    "    conv2 = Conv2D(128, 3, activation = 'relu', padding = 'same', kernel_initializer = 'he_normal')(conv2)\n",
    "    pool2 = MaxPooling2D(pool_size=(2, 2))(conv2)\n",
    "    conv3 = Conv2D(256, 3, activation = 'relu', padding = 'same', kernel_initializer = 'he_normal')(pool2)\n",
    "    conv3 = Conv2D(256, 3, activation = 'relu', padding = 'same', kernel_initializer = 'he_normal')(conv3)\n",
    "    pool3 = MaxPooling2D(pool_size=(2, 2))(conv3)\n",
    "    conv4 = Conv2D(512, 3, activation = 'relu', padding = 'same', kernel_initializer = 'he_normal')(pool3)\n",
    "    conv4 = Conv2D(512, 3, activation = 'relu', padding = 'same', kernel_initializer = 'he_normal')(conv4)\n",
    "    drop4 = Dropout(0.5)(conv4)\n",
    "    pool4 = MaxPooling2D(pool_size=(2, 2))(drop4)\n",
    "\n",
    "    conv5 = Conv2D(1024, 3, activation = 'relu', padding = 'same', kernel_initializer = 'he_normal')(pool4)\n",
    "    conv5 = Conv2D(1024, 3, activation = 'relu', padding = 'same', kernel_initializer = 'he_normal')(conv5)\n",
    "    drop5 = Dropout(0.5)(conv5)\n",
    "    \n",
    "    # expansive path\n",
    "    up6 = Conv2D(512, 2, activation = 'relu', padding = 'same', kernel_initializer = 'he_normal')(UpSampling2D(size = (2,2))(drop5))\n",
    "    merge6 = concatenate([drop4,up6], axis = 3) # skip-conection\n",
    "    conv6 = Conv2D(512, 3, activation = 'relu', padding = 'same', kernel_initializer = 'he_normal')(merge6)\n",
    "    conv6 = Conv2D(512, 3, activation = 'relu', padding = 'same', kernel_initializer = 'he_normal')(conv6)\n",
    "\n",
    "    up7 = Conv2D(256, 2, activation = 'relu', padding = 'same', kernel_initializer = 'he_normal')(UpSampling2D(size = (2,2))(conv6))\n",
    "    merge7 = concatenate([conv3,up7], axis = 3) # skip-conection \n",
    "    conv7 = Conv2D(256, 3, activation = 'relu', padding = 'same', kernel_initializer = 'he_normal')(merge7)\n",
    "    conv7 = Conv2D(256, 3, activation = 'relu', padding = 'same', kernel_initializer = 'he_normal')(conv7)\n",
    "\n",
    "    up8 = Conv2D(128, 2, activation = 'relu', padding = 'same', kernel_initializer = 'he_normal')(UpSampling2D(size = (2,2))(conv7))\n",
    "    merge8 = concatenate([conv2,up8], axis = 3) # skip-conection\n",
    "    conv8 = Conv2D(128, 3, activation = 'relu', padding = 'same', kernel_initializer = 'he_normal')(merge8)\n",
    "    conv8 = Conv2D(128, 3, activation = 'relu', padding = 'same', kernel_initializer = 'he_normal')(conv8)\n",
    "\n",
    "    up9 = Conv2D(64, 2, activation = 'relu', padding = 'same', kernel_initializer = 'he_normal')(UpSampling2D(size = (2,2))(conv8))\n",
    "    merge9 = concatenate([conv1,up9], axis = 3) # skip-conection\n",
    "    conv9 = Conv2D(64, 3, activation = 'relu', padding = 'same', kernel_initializer = 'he_normal')(merge9)\n",
    "    conv9 = Conv2D(64, 3, activation = 'relu', padding = 'same', kernel_initializer = 'he_normal')(conv9)\n",
    "    conv9 = Conv2D(2, 3, activation = 'relu', padding = 'same', kernel_initializer = 'he_normal')(conv9)\n",
    "    conv10 = Conv2D(1, 1, activation = 'sigmoid')(conv9)\n",
    "\n",
    "    model = Model(input = inputs, output = conv10)\n",
    "\n",
    "    model.compile(optimizer = Adam(lr = 1e-4), loss = 'binary_crossentropy', metrics = ['accuracy'])\n",
    "    \n",
    "    #model.summary()\n",
    "\n",
    "    if(pretrained_weights):\n",
    "    \tmodel.load_weights(pretrained_weights)\n",
    "\n",
    "    return model\n",
    "```"
   ]
  },
  {
   "cell_type": "code",
   "execution_count": null,
   "metadata": {},
   "outputs": [],
   "source": []
  }
 ],
 "metadata": {
  "accelerator": "GPU",
  "colab": {
   "collapsed_sections": [],
   "name": "colab版の準備.ipynb",
   "provenance": []
  },
  "kernelspec": {
   "display_name": "Python 3",
   "language": "python",
   "name": "python3"
  },
  "language_info": {
   "codemirror_mode": {
    "name": "ipython",
    "version": 3
   },
   "file_extension": ".py",
   "mimetype": "text/x-python",
   "name": "python",
   "nbconvert_exporter": "python",
   "pygments_lexer": "ipython3",
   "version": "3.7.6"
  }
 },
 "nbformat": 4,
 "nbformat_minor": 4
}
