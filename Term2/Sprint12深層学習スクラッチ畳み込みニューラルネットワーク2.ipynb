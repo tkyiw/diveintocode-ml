{
 "cells": [
  {
   "cell_type": "code",
   "execution_count": 279,
   "metadata": {},
   "outputs": [],
   "source": [
    "import numpy as np\n",
    "import pandas as pd\n",
    "import warnings\n",
    "warnings.filterwarnings('ignore')\n",
    "import matplotlib.pyplot as plt\n",
    "import seaborn as sns\n",
    "from sklearn.model_selection import train_test_split\n",
    "from sklearn.metrics import accuracy_score"
   ]
  },
  {
   "cell_type": "code",
   "execution_count": 280,
   "metadata": {},
   "outputs": [],
   "source": [
    "# データセット読み込み\n",
    "from keras.datasets import mnist\n",
    "(X_train, y_train), (X_test, y_test) = mnist.load_data()\n",
    "\n",
    "# # 標準化\n",
    "# X_train = X_train.reshape(-1, 784)\n",
    "# X_test = X_test.reshape(-1, 784)\n",
    "\n",
    "# 前処理\n",
    "X_train = X_train.astype(np.float)\n",
    "X_test = X_test.astype(np.float)\n",
    "X_train /= 255 # (60000, 28, 28) (N, H, W)\n",
    "X_test /= 255\n",
    "\n",
    "# チャネル数の軸を追加\n",
    "X_train = X_train[:, np.newaxis, :, :] # (60000, 1, 28, 28) (N, C, H, W)\n",
    "X_test = X_test[:, np.newaxis, :, :]\n",
    "\n",
    "# 分割\n",
    "X_train, X_val, y_train, y_val = train_test_split(X_train, y_train, test_size=0.2)\n",
    "\n",
    "# ワンホットエンコーディング\n",
    "from sklearn.preprocessing import OneHotEncoder\n",
    "enc = OneHotEncoder(handle_unknown='ignore', sparse=False)\n",
    "y_train_one_hot = enc.fit_transform(y_train[:, np.newaxis])\n",
    "y_test_one_hot = enc.transform(y_val[:, np.newaxis])"
   ]
  },
  {
   "cell_type": "markdown",
   "metadata": {},
   "source": [
    "# 【問題1】2次元畳み込み層の作成\n",
    "1次元畳み込み層のクラスConv1dを発展させ、2次元畳み込み層のクラスConv2dを作成してください。"
   ]
  },
  {
   "cell_type": "code",
   "execution_count": 281,
   "metadata": {},
   "outputs": [],
   "source": [
    "def im2col(input_data, filter_h, filter_w, stride=1, pad=0):\n",
    "    \"\"\"\n",
    "\n",
    "    Parameters\n",
    "    ----------\n",
    "    input_data : (データ数, チャンネル, 高さ, 幅)の4次元配列からなる入力データ\n",
    "    filter_h : フィルターの高さ\n",
    "    filter_w : フィルターの幅\n",
    "    stride : ストライド\n",
    "    pad : パディング\n",
    "\n",
    "    Returns\n",
    "    -------\n",
    "    col : 2次元配列\n",
    "    \"\"\"\n",
    "    N, C, H, W = input_data.shape\n",
    "    out_h = (H + 2*pad - filter_h)//stride + 1\n",
    "    out_w = (W + 2*pad - filter_w)//stride + 1\n",
    "\n",
    "    img = np.pad(input_data, [(0,0), (0,0), (pad, pad), (pad, pad)], 'constant')\n",
    "    col = np.zeros((N, C, filter_h, filter_w, out_h, out_w))\n",
    "\n",
    "    for y in range(filter_h):\n",
    "        y_max = y + stride*out_h\n",
    "        for x in range(filter_w):\n",
    "            x_max = x + stride*out_w\n",
    "            col[:, :, y, x, :, :] = img[:, :, y:y_max:stride, x:x_max:stride]\n",
    "\n",
    "    col = col.transpose(0, 4, 5, 1, 2, 3).reshape(N*out_h*out_w, -1)\n",
    "    return col"
   ]
  },
  {
   "cell_type": "markdown",
   "metadata": {},
   "source": [
    "### im2col動作確認 "
   ]
  },
  {
   "cell_type": "code",
   "execution_count": 282,
   "metadata": {},
   "outputs": [],
   "source": [
    "# サンプルデータ\n",
    "input_data = np.arange(1, 26).reshape((1, 1, 5, 5))\n",
    "filter_h = 2\n",
    "filter_w = 2\n",
    "stride=1\n",
    "pad=0"
   ]
  },
  {
   "cell_type": "code",
   "execution_count": 283,
   "metadata": {
    "scrolled": false
   },
   "outputs": [
    {
     "name": "stdout",
     "output_type": "stream",
     "text": [
      "フィルタサイズ２×２の場合\n",
      "\n",
      "(1, 1, 5, 5)\n",
      "[[[[ 1  2  3  4  5]\n",
      "   [ 6  7  8  9 10]\n",
      "   [11 12 13 14 15]\n",
      "   [16 17 18 19 20]\n",
      "   [21 22 23 24 25]]]]\n",
      "\n",
      "　　　⬇︎⬇︎⬇︎⬇︎⬇︎⬇︎⬇︎⬇︎\n",
      "\n",
      "(1, 1, 2, 2, 4, 4)\n",
      "[[[[[[ 1.  2.  3.  4.]\n",
      "     [ 6.  7.  8.  9.]\n",
      "     [11. 12. 13. 14.]\n",
      "     [16. 17. 18. 19.]]\n",
      "\n",
      "    [[ 2.  3.  4.  5.]\n",
      "     [ 7.  8.  9. 10.]\n",
      "     [12. 13. 14. 15.]\n",
      "     [17. 18. 19. 20.]]]\n",
      "\n",
      "\n",
      "   [[[ 6.  7.  8.  9.]\n",
      "     [11. 12. 13. 14.]\n",
      "     [16. 17. 18. 19.]\n",
      "     [21. 22. 23. 24.]]\n",
      "\n",
      "    [[ 7.  8.  9. 10.]\n",
      "     [12. 13. 14. 15.]\n",
      "     [17. 18. 19. 20.]\n",
      "     [22. 23. 24. 25.]]]]]]\n",
      "\n",
      "　　　⬇︎⬇︎⬇︎⬇︎⬇︎⬇︎⬇︎⬇︎ transpose(0, 4, 5, 1, 2, 3)\n",
      "\n",
      "(1, 4, 4, 1, 2, 2)\n",
      "[[[[[[ 1.  2.]\n",
      "     [ 6.  7.]]]\n",
      "\n",
      "\n",
      "   [[[ 2.  3.]\n",
      "     [ 7.  8.]]]\n",
      "\n",
      "\n",
      "   [[[ 3.  4.]\n",
      "     [ 8.  9.]]]\n",
      "\n",
      "\n",
      "   [[[ 4.  5.]\n",
      "     [ 9. 10.]]]]\n",
      "\n",
      "\n",
      "\n",
      "  [[[[ 6.  7.]\n",
      "     [11. 12.]]]\n",
      "\n",
      "\n",
      "   [[[ 7.  8.]\n",
      "     [12. 13.]]]\n",
      "\n",
      "\n",
      "   [[[ 8.  9.]\n",
      "     [13. 14.]]]\n",
      "\n",
      "\n",
      "   [[[ 9. 10.]\n",
      "     [14. 15.]]]]\n",
      "\n",
      "\n",
      "\n",
      "  [[[[11. 12.]\n",
      "     [16. 17.]]]\n",
      "\n",
      "\n",
      "   [[[12. 13.]\n",
      "     [17. 18.]]]\n",
      "\n",
      "\n",
      "   [[[13. 14.]\n",
      "     [18. 19.]]]\n",
      "\n",
      "\n",
      "   [[[14. 15.]\n",
      "     [19. 20.]]]]\n",
      "\n",
      "\n",
      "\n",
      "  [[[[16. 17.]\n",
      "     [21. 22.]]]\n",
      "\n",
      "\n",
      "   [[[17. 18.]\n",
      "     [22. 23.]]]\n",
      "\n",
      "\n",
      "   [[[18. 19.]\n",
      "     [23. 24.]]]\n",
      "\n",
      "\n",
      "   [[[19. 20.]\n",
      "     [24. 25.]]]]]]\n",
      "\n",
      "　　　⬇︎⬇︎⬇︎⬇︎⬇︎⬇︎⬇︎⬇︎ reshape(N*out_h*out_w, -1)\n",
      "\n",
      "(16, 4)\n",
      "[[ 1.  2.  6.  7.]\n",
      " [ 2.  3.  7.  8.]\n",
      " [ 3.  4.  8.  9.]\n",
      " [ 4.  5.  9. 10.]\n",
      " [ 6.  7. 11. 12.]\n",
      " [ 7.  8. 12. 13.]\n",
      " [ 8.  9. 13. 14.]\n",
      " [ 9. 10. 14. 15.]\n",
      " [11. 12. 16. 17.]\n",
      " [12. 13. 17. 18.]\n",
      " [13. 14. 18. 19.]\n",
      " [14. 15. 19. 20.]\n",
      " [16. 17. 21. 22.]\n",
      " [17. 18. 22. 23.]\n",
      " [18. 19. 23. 24.]\n",
      " [19. 20. 24. 25.]]\n"
     ]
    }
   ],
   "source": [
    "N, C, H, W = input_data.shape\n",
    "out_h = (H + 2*pad - filter_h)//stride + 1\n",
    "out_w = (W + 2*pad - filter_w)//stride + 1\n",
    "\n",
    "img = np.pad(input_data, [(0,0), (0,0), (pad, pad), (pad, pad)], 'constant')\n",
    "col = np.zeros((N, C, filter_h, filter_w, out_h, out_w))\n",
    "\n",
    "check0 = col.copy()\n",
    "\n",
    "for y in range(filter_h):\n",
    "    y_max = y + stride*out_h\n",
    "    for x in range(filter_w):\n",
    "        x_max = x + stride*out_w\n",
    "        col[:, :, y, x, :, :] = img[:, :, y:y_max:stride, x:x_max:stride]\n",
    "        \n",
    "check1 = col.copy()\n",
    "check2 = check1.transpose(0, 4, 5, 1, 2, 3)\n",
    "\n",
    "col = col.transpose(0, 4, 5, 1, 2, 3).reshape(N*out_h*out_w, -1)\n",
    "\n",
    "\n",
    "print('フィルタサイズ２×２の場合\\n')\n",
    "print(img.shape)\n",
    "print(f'{img}\\n')\n",
    "print('　　　⬇︎⬇︎⬇︎⬇︎⬇︎⬇︎⬇︎⬇︎\\n')\n",
    "print(check1.shape)\n",
    "print(f'{check1}\\n')\n",
    "print('　　　⬇︎⬇︎⬇︎⬇︎⬇︎⬇︎⬇︎⬇︎ transpose(0, 4, 5, 1, 2, 3)\\n')\n",
    "print(check2.shape)\n",
    "print(f'{check2}\\n')\n",
    "print('　　　⬇︎⬇︎⬇︎⬇︎⬇︎⬇︎⬇︎⬇︎ reshape(N*out_h*out_w, -1)\\n')\n",
    "print(col.shape)\n",
    "print(col)"
   ]
  },
  {
   "cell_type": "code",
   "execution_count": 284,
   "metadata": {},
   "outputs": [],
   "source": [
    "def col2im(col, input_shape, filter_h, filter_w, stride=1, pad=0):\n",
    "    \"\"\"\n",
    "\n",
    "    Parameters\n",
    "    ----------\n",
    "    col :\n",
    "    input_shape : 入力データの形状（例：(10, 1, 28, 28)）\n",
    "    filter_h :\n",
    "    filter_w\n",
    "    stride\n",
    "    pad\n",
    "\n",
    "    Returns\n",
    "    -------\n",
    "\n",
    "    \"\"\"\n",
    "    N, C, H, W = input_shape\n",
    "    out_h = (H + 2*pad - filter_h)//stride + 1\n",
    "    out_w = (W + 2*pad - filter_w)//stride + 1\n",
    "    col = col.reshape(N, out_h, out_w, C, filter_h, filter_w).transpose(0, 3, 4, 5, 1, 2)\n",
    "\n",
    "    img = np.zeros((N, C, H + 2*pad + stride - 1, W + 2*pad + stride - 1))\n",
    "    for y in range(filter_h):\n",
    "        y_max = y + stride*out_h\n",
    "        for x in range(filter_w):\n",
    "            x_max = x + stride*out_w\n",
    "            img[:, :, y:y_max:stride, x:x_max:stride] += col[:, :, y, x, :, :]\n",
    "\n",
    "    return img[:, :, pad:H + pad, pad:W + pad]"
   ]
  },
  {
   "cell_type": "code",
   "execution_count": 285,
   "metadata": {},
   "outputs": [
    {
     "data": {
      "text/plain": [
       "(1, 1, 5, 5)"
      ]
     },
     "execution_count": 285,
     "metadata": {},
     "output_type": "execute_result"
    }
   ],
   "source": [
    "col2im(col, input_data.shape, 2, 2).shape"
   ]
  },
  {
   "cell_type": "code",
   "execution_count": 286,
   "metadata": {},
   "outputs": [],
   "source": [
    "class Conv2d:\n",
    "    '''\n",
    "    2次元畳み込み層\n",
    "    '''\n",
    "    def __init__(self, W, b, lr=0.05, stride=1, pad=0):\n",
    "        self.W = W\n",
    "        self.b = b.astype('float64')\n",
    "        self.stride = stride\n",
    "        self.pad = pad\n",
    "        self.lr = lr\n",
    "        \n",
    "        # 中間データ（backward時に使用）\n",
    "        self.x = None   \n",
    "        self.col = None\n",
    "        self.col_W = None\n",
    "        \n",
    "        # 重み・バイアスパラメータの勾配\n",
    "        self.dW = None\n",
    "        self.db = None\n",
    "\n",
    "    def forward(self, x):\n",
    "        FN, C, FH, FW = self.W.shape\n",
    "        N, C, H, W = x.shape\n",
    "        out_h = 1 + int((H + 2*self.pad - FH) / self.stride)\n",
    "        out_w = 1 + int((W + 2*self.pad - FW) / self.stride)\n",
    "\n",
    "        col = im2col(x, FH, FW, self.stride, self.pad)\n",
    "        col_W = self.W.reshape(FN, -1).T\n",
    "\n",
    "        out = np.dot(col, col_W) + self.b\n",
    "        out = out.reshape(N, out_h, out_w, -1).transpose(0, 3, 1, 2)\n",
    "\n",
    "        self.x = x\n",
    "        self.col = col\n",
    "        self.col_W = col_W\n",
    "\n",
    "        return out\n",
    "\n",
    "    def backward(self, dout):\n",
    "        FN, C, FH, FW = self.W.shape\n",
    "        dout = dout.transpose(0,2,3,1).reshape(-1, FN)\n",
    "\n",
    "        self.db = np.sum(dout, axis=0)\n",
    "        self.dW = np.dot(self.col.T, dout)\n",
    "        self.dW = self.dW.transpose(1, 0).reshape(FN, C, FH, FW)\n",
    "\n",
    "        dcol = np.dot(dout, self.col_W.T)\n",
    "        dx = col2im(dcol, self.x.shape, FH, FW, self.stride, self.pad)\n",
    "        \n",
    "        # パラメータ更新\n",
    "        self.update()\n",
    "\n",
    "        return dx\n",
    "    \n",
    "    def update(self):\n",
    "        self.W -= self.lr * self.dW\n",
    "        self.b -= self.lr * self.db"
   ]
  },
  {
   "cell_type": "code",
   "execution_count": 287,
   "metadata": {
    "scrolled": false
   },
   "outputs": [
    {
     "name": "stdout",
     "output_type": "stream",
     "text": [
      "・w\n",
      "[[[[1. 1.]\n",
      "   [1. 1.]]]\n",
      "\n",
      "\n",
      " [[[1. 1.]\n",
      "   [1. 1.]]]\n",
      "\n",
      "\n",
      " [[[1. 1.]\n",
      "   [1. 1.]]]]\n",
      "\n",
      "・b\n",
      "[1. 1. 1.]\n",
      "\n",
      "・input_data.shape:\n",
      "(1, 1, 5, 5)\n"
     ]
    }
   ],
   "source": [
    "# サンプルデータ\n",
    "FN, C, FH, FW = 3, 1, 2, 2\n",
    "w = np.ones((FN, C, FH, FW))\n",
    "b = np.ones((FN,))\n",
    "print(f'・w\\n{w}\\n')\n",
    "print(f'・b\\n{b}\\n')\n",
    "print(f'・input_data.shape:\\n{input_data.shape}')"
   ]
  },
  {
   "cell_type": "code",
   "execution_count": 288,
   "metadata": {},
   "outputs": [],
   "source": [
    "co = Conv2d(w, b)"
   ]
  },
  {
   "cell_type": "code",
   "execution_count": 289,
   "metadata": {},
   "outputs": [
    {
     "name": "stdout",
     "output_type": "stream",
     "text": [
      "・forward\n",
      "out: (1, 3, 4, 4)\n",
      "\n",
      "・backward\n",
      "db: (3,)\n",
      "dw: (3, 1, 2, 2)\n",
      "dx: (1, 1, 5, 5)\n"
     ]
    }
   ],
   "source": [
    "out = co.forward(input_data)\n",
    "dx = co.backward(out)\n",
    "print(f'・forward\\nout: {out.shape}\\n')\n",
    "print(f'・backward\\ndb: {co.db.shape}')\n",
    "print(f'dw: {co.dW.shape}')\n",
    "print(f'dx: {dx.shape}')"
   ]
  },
  {
   "cell_type": "markdown",
   "metadata": {},
   "source": [
    "# 【問題2】2次元畳み込み後の出力サイズ\n",
    "畳み込みを行うと特徴マップのサイズが変化します。どのように変化するかは以下の数式から求められます。この計算を行う関数を作成してください。\n",
    "$$N_{h,out} =  \\frac{N_{h,in}+2P_{h}-F_{h}}{S_{h}} + 1$$\n",
    "$$N_{w,out} =  \\frac{N_{w,in}+2P_{w}-F_{w}}{S_{w}} + 1$$\n",
    "$N_{out}$ : 出力のサイズ（特徴量の数）  \n",
    "$N_{in}$ : 入力のサイズ（特徴量の数）  \n",
    "$P$ : ある方向へのパディングの数  \n",
    "$F$ : フィルタのサイズ  \n",
    "$S$ : ストライドのサイズ  \n",
    "$h$ が高さ方向、 $w$ が幅方向である"
   ]
  },
  {
   "cell_type": "code",
   "execution_count": 290,
   "metadata": {},
   "outputs": [],
   "source": [
    "def out_size(H, W, P, FH, FW, S):\n",
    "    out_h = (H + 2 * P - FH) // S + 1\n",
    "    out_w = (W + 2 * P - FW) // S + 1\n",
    "    return out_h, out_w"
   ]
  },
  {
   "cell_type": "markdown",
   "metadata": {},
   "source": [
    "# 【問題3】最大プーリング層の作成\n",
    "最大プーリング層のクラスMaxPool2Dを作成してください。プーリング層は数式で表さない方が分かりやすい部分もありますが、数式で表すとフォワードプロパゲーションは以下のようになります。\n",
    "\n",
    "$$\n",
    "a_{i,j,k} = \\max_{(p,q)\\in P_{i,j}}x_{p,q,k}\n",
    "$$\n",
    "\n",
    "$P_{i,j}$ : i行j列への出力する場合の入力配列のインデックスの集合。 $S_{h}×S_{w}$ の範囲内の行（p）と列（q）  \n",
    "$S_{h}$, $S_{w}$ : 高さ方向（h）と幅方向（w）のストライドのサイズ  \n",
    "$(p,q)\\in P_{i,j} : P_{i,j}$ に含まれる行（p）と列（q）のインデックス  \n",
    "$a_{i,j,m}$ : 出力される配列のi行j列、kチャンネルの値  \n",
    "$x_{p,q,k}$ : 入力の配列のp行q列、kチャンネルの値  \n",
    "ある範囲の中でチャンネル方向の軸は残したまま最大値を計算することになります。  \n",
    "バックプロパゲーションのためには、フォワードプロパゲーションのときの最大値のインデックス (p,q) を保持しておく必要があります。フォワード時に最大値を持っていた箇所にそのままの誤差を流し、そこ以外には0を入れるためです。"
   ]
  },
  {
   "cell_type": "code",
   "execution_count": 291,
   "metadata": {},
   "outputs": [],
   "source": [
    "class MaxPool2D:\n",
    "    '''\n",
    "    最大プーリング層\n",
    "    '''\n",
    "    def __init__(self, pool_h, pool_w, pad=0):\n",
    "        self.pool_h = pool_h\n",
    "        self.pool_w = pool_w\n",
    "        self.stride = pool_h\n",
    "        self.pad = pad\n",
    "        \n",
    "        self.x = None\n",
    "        self.arg_max = None\n",
    "\n",
    "    def forward(self, x):\n",
    "        N, C, H, W = x.shape\n",
    "        out_h = int(1 + (H - self.pool_h) / self.stride)\n",
    "        out_w = int(1 + (W - self.pool_w) / self.stride)\n",
    "\n",
    "        col = im2col(x, self.pool_h, self.pool_w, self.stride, self.pad)\n",
    "        col = col.reshape(-1, self.pool_h*self.pool_w)\n",
    "\n",
    "        arg_max = np.argmax(col, axis=1)\n",
    "        out = np.max(col, axis=1)\n",
    "        out = out.reshape(N, out_h, out_w, C).transpose(0, 3, 1, 2)\n",
    "\n",
    "        self.x = x\n",
    "        self.arg_max = arg_max\n",
    "\n",
    "        return out\n",
    "\n",
    "    def backward(self, dout):\n",
    "        dout = dout.transpose(0, 2, 3, 1)\n",
    "        \n",
    "        pool_size = self.pool_h * self.pool_w\n",
    "        dmax = np.zeros((dout.size, pool_size))\n",
    "        dmax[np.arange(self.arg_max.size), self.arg_max.flatten()] = dout.flatten()\n",
    "        dmax = dmax.reshape(dout.shape + (pool_size,)) \n",
    "        \n",
    "        dcol = dmax.reshape(dmax.shape[0] * dmax.shape[1] * dmax.shape[2], -1)\n",
    "        dx = col2im(dcol, self.x.shape, self.pool_h, self.pool_w, self.stride, self.pad)\n",
    "        \n",
    "        return dx"
   ]
  },
  {
   "cell_type": "code",
   "execution_count": 292,
   "metadata": {},
   "outputs": [
    {
     "name": "stdout",
     "output_type": "stream",
     "text": [
      "out:   (1, 3, 4, 4)\n",
      "mp_out:(1, 3, 2, 2)\n",
      "mp_dx: (1, 3, 4, 4)\n"
     ]
    }
   ],
   "source": [
    "mp = MaxPool2D(2, 2)\n",
    "mp_out = mp.forward(out)\n",
    "mp_dx = mp.backward(mp_out)\n",
    "print(f'out:   {out.shape}')\n",
    "print(f'mp_out:{mp_out.shape}')\n",
    "print(f'mp_dx: {mp_dx.shape}')"
   ]
  },
  {
   "cell_type": "code",
   "execution_count": 293,
   "metadata": {},
   "outputs": [
    {
     "data": {
      "text/plain": [
       "array([[[[17., 21., 25., 29.],\n",
       "         [37., 41., 45., 49.],\n",
       "         [57., 61., 65., 69.],\n",
       "         [77., 81., 85., 89.]],\n",
       "\n",
       "        [[17., 21., 25., 29.],\n",
       "         [37., 41., 45., 49.],\n",
       "         [57., 61., 65., 69.],\n",
       "         [77., 81., 85., 89.]],\n",
       "\n",
       "        [[17., 21., 25., 29.],\n",
       "         [37., 41., 45., 49.],\n",
       "         [57., 61., 65., 69.],\n",
       "         [77., 81., 85., 89.]]]])"
      ]
     },
     "execution_count": 293,
     "metadata": {},
     "output_type": "execute_result"
    }
   ],
   "source": [
    "# 元データ\n",
    "out"
   ]
  },
  {
   "cell_type": "code",
   "execution_count": 294,
   "metadata": {},
   "outputs": [
    {
     "data": {
      "text/plain": [
       "array([[[[41., 49.],\n",
       "         [81., 89.]],\n",
       "\n",
       "        [[41., 49.],\n",
       "         [81., 89.]],\n",
       "\n",
       "        [[41., 49.],\n",
       "         [81., 89.]]]])"
      ]
     },
     "execution_count": 294,
     "metadata": {},
     "output_type": "execute_result"
    }
   ],
   "source": [
    "# forward\n",
    "mp_out"
   ]
  },
  {
   "cell_type": "code",
   "execution_count": 295,
   "metadata": {},
   "outputs": [
    {
     "data": {
      "text/plain": [
       "array([[[[ 0.,  0.,  0.,  0.],\n",
       "         [ 0., 41.,  0., 49.],\n",
       "         [ 0.,  0.,  0.,  0.],\n",
       "         [ 0., 81.,  0., 89.]],\n",
       "\n",
       "        [[ 0.,  0.,  0.,  0.],\n",
       "         [ 0., 41.,  0., 49.],\n",
       "         [ 0.,  0.,  0.,  0.],\n",
       "         [ 0., 81.,  0., 89.]],\n",
       "\n",
       "        [[ 0.,  0.,  0.,  0.],\n",
       "         [ 0., 41.,  0., 49.],\n",
       "         [ 0.,  0.,  0.,  0.],\n",
       "         [ 0., 81.,  0., 89.]]]])"
      ]
     },
     "execution_count": 295,
     "metadata": {},
     "output_type": "execute_result"
    }
   ],
   "source": [
    "# backward\n",
    "mp_dx"
   ]
  },
  {
   "cell_type": "markdown",
   "metadata": {},
   "source": [
    "# 【問題4】（アドバンス課題）平均プーリングの作成\n",
    "平均プーリング層のクラスAveragePool2Dを作成してください。  \n",
    "範囲内の最大値ではなく、平均値を出力とするプーリング層です。  \n",
    "画像認識関係では最大プーリング層が一般的で、平均プーリングはあまり使われません。"
   ]
  },
  {
   "cell_type": "code",
   "execution_count": null,
   "metadata": {},
   "outputs": [],
   "source": []
  },
  {
   "cell_type": "markdown",
   "metadata": {},
   "source": [
    "# 【問題5】平滑化\n",
    "平滑化するためのFlattenクラスを作成してください。\n",
    "\n",
    "フォワードのときはチャンネル、高さ、幅の3次元を1次元にreshapeします。その値は記録しておき、バックワードのときに再びreshapeによって形を戻します。\n",
    "\n",
    "この平滑化のクラスを挟むことで出力前の全結合層に適した配列を作ることができます。"
   ]
  },
  {
   "cell_type": "code",
   "execution_count": 296,
   "metadata": {},
   "outputs": [],
   "source": [
    "class Flatten:\n",
    "    '''\n",
    "    平滑化するためのFlattenクラス\n",
    "    '''\n",
    "    def forward(self, x):\n",
    "        N, C, H, W = x.shape\n",
    "        out = x.reshape(N, -1)\n",
    "        \n",
    "        self.x = x\n",
    "        \n",
    "        return out\n",
    "    \n",
    "    def backward(self, dout):\n",
    "        dx = dout.reshape(self.x.shape)\n",
    "        \n",
    "        return dx"
   ]
  },
  {
   "cell_type": "code",
   "execution_count": 297,
   "metadata": {},
   "outputs": [
    {
     "name": "stdout",
     "output_type": "stream",
     "text": [
      "out:     (1, 3, 4, 4)\n",
      "forward: (1, 48)\n",
      "backward:(1, 3, 4, 4)\n"
     ]
    }
   ],
   "source": [
    "fl = Flatten()\n",
    "fl_out = fl.forward(out)\n",
    "fl_dx = fl.backward(fl_out)\n",
    "print(f'out:     {out.shape}')\n",
    "print(f'forward: {fl_out.shape}')\n",
    "print(f'backward:{fl_dx.shape}')"
   ]
  },
  {
   "cell_type": "markdown",
   "metadata": {},
   "source": [
    "# 【問題6】学習と推定\n",
    "作成したConv2dを使用してMNISTを学習・推定し、Accuracyを計算してください。  \n",
    "精度は低くともまずは動くことを目指してください。"
   ]
  },
  {
   "cell_type": "code",
   "execution_count": 21,
   "metadata": {},
   "outputs": [],
   "source": [
    "class FC:\n",
    "    \"\"\"\n",
    "    ノード数n_nodes1からn_nodes2への全結合層\n",
    "    Parameters\n",
    "    ----------\n",
    "    n_nodes1 : int\n",
    "      前の層のノード数\n",
    "    n_nodes2 : int\n",
    "      後の層のノード数\n",
    "    initializer : 初期化方法のインスタンス\n",
    "    optimizer : 最適化手法のインスタンス\n",
    "    \"\"\"\n",
    "    def __init__(self, n_nodes1, n_nodes2, initializer, optimizer):\n",
    "        self.n_nodes1 = n_nodes1\n",
    "        self.n_nodes2 = n_nodes2\n",
    "        # 初期化\n",
    "        # initializerのメソッドを使い、self.Wとself.Bを初期化する\n",
    "        self.W = initializer.W(self.n_nodes1, self.n_nodes2)\n",
    "        self.B = initializer.B(self.n_nodes2)\n",
    "        # 最適化手法\n",
    "        self.optimizer = optimizer\n",
    "        # AdaGradの初期値\n",
    "        self.HW = 0\n",
    "        self.HB = 0\n",
    "        \n",
    "    def forward(self, X):\n",
    "        \"\"\"\n",
    "        フォワード\n",
    "        Parameters\n",
    "        ----------\n",
    "        X : 次の形のndarray, shape (batch_size, n_nodes1)\n",
    "            入力\n",
    "        Returns\n",
    "        ----------\n",
    "        A : 次の形のndarray, shape (batch_size, n_nodes2)\n",
    "            出力\n",
    "        \"\"\" \n",
    "        self.Z = X\n",
    "        self.A = X @ self.W + self.B\n",
    "        return self.A\n",
    "    \n",
    "    def backward(self, dA):\n",
    "        \"\"\"\n",
    "        バックワード\n",
    "        Parameters\n",
    "        ----------\n",
    "        dA : 次の形のndarray, shape (batch_size, n_nodes2)\n",
    "            後ろから流れてきた勾配\n",
    "        Returns\n",
    "        ----------\n",
    "        dZ : 次の形のndarray, shape (batch_size, n_nodes1)\n",
    "            前に流す勾配\n",
    "        \"\"\"\n",
    "        self.dB = np.sum(dA, axis=0)\n",
    "        self.dW = self.Z.T @ dA\n",
    "        self.dZ = dA @ self.W.T\n",
    "        self = self.optimizer.update(self)\n",
    "        return self.dZ"
   ]
  },
  {
   "cell_type": "code",
   "execution_count": 22,
   "metadata": {},
   "outputs": [],
   "source": [
    "class SoftmaxWithLoss:\n",
    "    '''\n",
    "    ソフトマックス関数と交差エントロピー誤差\n",
    "    '''\n",
    "    def forward(self, A):\n",
    "        \"\"\"\n",
    "        フォワード\n",
    "        Parameters\n",
    "        ----------\n",
    "        A : 次の形のndarray, shape (batch_size, n_nodes1)\n",
    "            入力\n",
    "        ----------\n",
    "        Z : 次の形のndarray, shape (batch_size, n_nodes1)\n",
    "            出力\n",
    "        \"\"\" \n",
    "        Z = np.exp(A) / np.sum(np.exp(A), axis=1).reshape(-1, 1)\n",
    "        return Z\n",
    "        \n",
    "    def backward(self, Z, y):\n",
    "        \"\"\"\n",
    "        バックワード\n",
    "        Parameters\n",
    "        ----------\n",
    "        Z : 次の形のndarray, shape (batch_size, n_nodes1)\n",
    "        y : ラベル  ndarray, shape (batch_size,)\n",
    "            入力\n",
    "        ----------\n",
    "        dA : 次の形のndarray, shape (batch_size, n_nodes2)\n",
    "            後ろから流れてきた勾配\n",
    "        loss : 交差エントロピー誤差\n",
    "        \"\"\"\n",
    "        dA = Z - y\n",
    "        loss = - np.sum(y * np.log(Z)) / len(y)\n",
    "        return dA, loss"
   ]
  },
  {
   "cell_type": "code",
   "execution_count": 23,
   "metadata": {},
   "outputs": [],
   "source": [
    "class Relu:\n",
    "    '''\n",
    "    ReLU関数\n",
    "    '''\n",
    "    def forward(self, A):\n",
    "        \"\"\"\n",
    "        フォワード\n",
    "        Parameters\n",
    "        ----------\n",
    "        A : 次の形のndarray, shape (batch_size, n_nodes1)\n",
    "            入力\n",
    "        ----------\n",
    "        Z : 次の形のndarray, shape (batch_size, n_nodes1)\n",
    "            出力\n",
    "        \"\"\" \n",
    "        self.A = A\n",
    "        Z = np.maximum(0, A)\n",
    "        return Z\n",
    "    \n",
    "    def backward(self, dZ):\n",
    "        \"\"\"\n",
    "        バックワード\n",
    "        Parameters\n",
    "        ----------\n",
    "        dA : 次の形のndarray, shape (batch_size, n_nodes2)\n",
    "            後ろから流れてきた勾配\n",
    "        ----------\n",
    "        dZ : 次の形のndarray, shape (batch_size, n_nodes1)\n",
    "            前に流す勾配\n",
    "        \"\"\"\n",
    "        dA = dZ * np.where(self.A > 0, 1, 0)\n",
    "        return dA"
   ]
  },
  {
   "cell_type": "code",
   "execution_count": 24,
   "metadata": {},
   "outputs": [],
   "source": [
    "class HeInitializer:\n",
    "    \"\"\"\n",
    "    Heによる初期化\n",
    "    \"\"\"\n",
    "    def __init__(self, sigma):\n",
    "        _ = sigma\n",
    "        \n",
    "    def W(self, n_nodes1, n_nodes2):\n",
    "        self.sigma = np.sqrt(2 / n_nodes1)\n",
    "        W = self.sigma * np.random.randn(n_nodes1, n_nodes2)\n",
    "        return W\n",
    "    \n",
    "    def B(self, n_nodes2):\n",
    "        B = self.sigma * np.random.randn(1, n_nodes2)\n",
    "        return B"
   ]
  },
  {
   "cell_type": "code",
   "execution_count": 25,
   "metadata": {},
   "outputs": [],
   "source": [
    "class AdaGrad:\n",
    "    '''\n",
    "    AdaGradによる最適化\n",
    "    '''\n",
    "    def __init__(self, lr):\n",
    "        self.lr = lr # 学習率\n",
    "    \n",
    "    def update(self, layer):\n",
    "        \"\"\"\n",
    "        ある層の重みやバイアスの更新\n",
    "        Parameters\n",
    "        ----------\n",
    "        layer : 更新前の層のインスタンス\n",
    "        \"\"\"\n",
    "        layer.HW += layer.dW * layer.dW\n",
    "        layer.HB += layer.dB * layer.dB\n",
    "        delta = 1e-7 # 0で除算してしまうのを防ぐための値\n",
    "        layer.W -= self.lr * layer.dW / (np.sqrt(layer.HW) + delta) / len(layer.Z)\n",
    "        layer.B -= self.lr * layer.dB / (np.sqrt(layer.HB) + delta) / len(layer.Z)\n",
    "        return layer"
   ]
  },
  {
   "cell_type": "code",
   "execution_count": 26,
   "metadata": {},
   "outputs": [],
   "source": [
    "class GetMiniBatch:\n",
    "    \"\"\"\n",
    "    ミニバッチを取得するイテレータ\n",
    "\n",
    "    Parameters\n",
    "    ----------\n",
    "    X : 次の形のndarray, shape (n_samples, n_features)\n",
    "      訓練データ\n",
    "    y : 次の形のndarray, shape (n_samples, 1)\n",
    "      正解値\n",
    "    batch_size : int\n",
    "      バッチサイズ\n",
    "    seed : int\n",
    "      NumPyの乱数のシード\n",
    "    \"\"\"\n",
    "    def __init__(self, X, y, batch_size = 20, seed=0):\n",
    "        self.batch_size = batch_size\n",
    "        np.random.seed(seed)\n",
    "        shuffle_index = np.random.permutation(np.arange(X.shape[0]))\n",
    "        self._X = X[shuffle_index]\n",
    "        self._y = y[shuffle_index]\n",
    "        self._stop = np.ceil(X.shape[0]/self.batch_size).astype(np.int)\n",
    "    def __len__(self):\n",
    "        return self._stop\n",
    "    def __getitem__(self,item):\n",
    "        p0 = item*self.batch_size\n",
    "        p1 = item*self.batch_size + self.batch_size\n",
    "        return self._X[p0:p1], self._y[p0:p1]        \n",
    "    def __iter__(self):\n",
    "        self._counter = 0\n",
    "        return self\n",
    "    def __next__(self):\n",
    "        if self._counter >= self._stop:\n",
    "            raise StopIteration()\n",
    "        p0 = self._counter*self.batch_size\n",
    "        p1 = self._counter*self.batch_size + self.batch_size\n",
    "        self._counter += 1\n",
    "        return self._X[p0:p1], self._y[p0:p1]"
   ]
  },
  {
   "cell_type": "code",
   "execution_count": 117,
   "metadata": {},
   "outputs": [],
   "source": [
    "class Scratch2dCNNClassifier():\n",
    "    \"\"\"\n",
    "    Conv2d → ReLU → MaxPool2d → Flatten → Affine → Softmax\n",
    "    \"\"\"\n",
    "    def __init__(self, FN=20, FH=7, FW=7, stride=1, pad=0, epoch=1, optimizer=AdaGrad, initializer=HeInitializer, activater=Relu, verbose=False,):\n",
    "        self.verbose = verbose\n",
    "        self.batch_size = 60 # バッチサイズ\n",
    "        self.n_output = 10 # 出力のクラス数\n",
    "        self.sigma = 0.02 # ガウス分布の標準偏差\n",
    "        self.lr = 0.05 # 学習率\n",
    "        self.epoch = epoch # エポック数\n",
    "        self.optimizer = optimizer # 最適化手法\n",
    "        self.initializer = initializer # 初期化方法\n",
    "        self.activater = activater # 活性化関数\n",
    "        self.FN = FN # 出力チャネル数\n",
    "        self.C = 1 # 入力チャネル数\n",
    "        self.FH = FH # フィルター縦幅\n",
    "        self.FW = FW # フィルター横幅\n",
    "        self.pool_h = 2 # プーリングフィルタ縦幅\n",
    "        self.pool_w = 2 # プーリングフィルタ横幅\n",
    "        self.pad = pad # パディング\n",
    "        self.stride = stride # ストライド\n",
    "    \n",
    "    def fit(self, X, y, X_val=None, y_val=None):\n",
    "        self.loss_train = [] # 学習データのloss記録用\n",
    "        self.loss_val = [] # 検証データのloss記録用\n",
    "        \n",
    "        # 全結合層へ流れるnode数を取得\n",
    "        out_h, out_w = self.out_size(28, 28, self.pad, self.FH, self.FW, self.stride)\n",
    "        out_h, out_w = self.out_size(out_h, out_w, 0, self.pool_h, self.pool_w, self.pool_h)\n",
    "        fc_nodes = self.FN * out_h * out_w\n",
    "        \n",
    "        # 最適化手法を選択\n",
    "        optimizer = self.optimizer(self.lr)\n",
    "        \n",
    "        # 重みとバイアスの初期値\n",
    "        w = self.sigma * np.random.randn(self.FN, self.C, self.FH, self.FW)\n",
    "        b = self.sigma * np.random.randn(self.FN,)\n",
    "        \n",
    "        # インスタンス化\n",
    "        self.cv = Conv2d(w, b, stride=self.stride, pad=self.pad)\n",
    "        self.activation_cv = self.activater()\n",
    "        self.pl = MaxPool2D(self.pool_h, self.pool_w)\n",
    "        self.fl = Flatten()\n",
    "        self.FC = FC(fc_nodes, self.n_output, self.initializer(self.sigma), optimizer)\n",
    "        self.activation_fc = SoftmaxWithLoss()\n",
    "        \n",
    "        # 学習\n",
    "        for i in range(self.epoch):\n",
    "            get_mini_batch = GetMiniBatch(X, y, batch_size=self.batch_size, seed=i)\n",
    "            for mini_X, mini_y in get_mini_batch:\n",
    "\n",
    "                # フォワード\n",
    "                A1 = self.cv.forward(mini_X)\n",
    "                Z1 = self.activation_cv.forward(A1)\n",
    "                P1 = self.pl.forward(Z1)\n",
    "                F1 = self.fl.forward(P1)\n",
    "                A2 = self.FC.forward(F1)\n",
    "                Z2 = self.activation_fc.forward(A2)\n",
    "\n",
    "                # バックワード\n",
    "                dA2, loss = self.activation_fc.backward(Z2, mini_y) # 交差エントロピー誤差とソフトマックスを合わせている\n",
    "                dZ2 = self.FC.backward(dA2)\n",
    "                dF1 = self.fl.backward(dZ2)\n",
    "                dP1 = self.pl.backward(dF1)\n",
    "                dA1 = self.activation_cv.backward(dP1)\n",
    "                dZ1 = self.cv.backward(dA1)\n",
    "                \n",
    "            # エポックごとに交差エントロピー誤差を記録\n",
    "            if self.verbose:\n",
    "                A1 = self.cv.forward(X)\n",
    "                Z1 = self.activation_cv.forward(A1)\n",
    "                P1 = self.pl.forward(Z1)\n",
    "                F1 = self.fl.forward(P1)\n",
    "                A2 = self.FC.forward(F1)\n",
    "                Z2 = self.activation_fc.forward(A2)  \n",
    "                self.loss_train.append(self.activation_fc.backward(Z2, y)[1])\n",
    "                \n",
    "                if X_val is not None:\n",
    "                    A1 = self.cv.forward(X_val)\n",
    "                    Z1 = self.activation_cv.forward(A1)\n",
    "                    P1 = self.pl.forward(Z1)\n",
    "                    F1 = self.fl.forward(P1)\n",
    "                    A2 = self.FC.forward(F1)\n",
    "                    Z2 = self.activation_fc.forward(A2)         \n",
    "                    self.loss_val.append(self.activation_fc.backward(Z2, y_val)[1])\n",
    "                    \n",
    "    def out_size(self, H, W, P, FH, FW, S):\n",
    "        out_h = (H + 2 * P - FH) // S + 1\n",
    "        out_w = (W + 2 * P - FW) // S + 1\n",
    "        return out_h, out_w\n",
    "    \n",
    "    def predict(self, X):\n",
    "        A1 = self.cv.forward(X)\n",
    "        Z1 = self.activation_cv.forward(A1)\n",
    "        P1 = self.pl.forward(Z1)\n",
    "        F1 = self.fl.forward(P1)\n",
    "        A2 = self.FC.forward(F1)\n",
    "        Z2 = self.activation_fc.forward(A2)\n",
    "        return np.argmax(Z2, axis=1)"
   ]
  },
  {
   "cell_type": "markdown",
   "metadata": {},
   "source": [
    "# 検証"
   ]
  },
  {
   "cell_type": "markdown",
   "metadata": {},
   "source": [
    "## ① フィルタサイズとAccuracy"
   ]
  },
  {
   "cell_type": "code",
   "execution_count": 116,
   "metadata": {},
   "outputs": [
    {
     "name": "stdout",
     "output_type": "stream",
     "text": [
      "フィルタサイズ3×3：0.804\n",
      "フィルタサイズ5×5：0.74725\n",
      "フィルタサイズ7×7：0.85525\n",
      "フィルタサイズ9×9：0.8431666666666666\n"
     ]
    }
   ],
   "source": [
    "for i in [3, 5, 7, 9]:\n",
    "    cnn1 = Scratch2dCNNClassifier(FN=5,\n",
    "                                  FH=i,\n",
    "                                  FW=i,\n",
    "                                  stride=1,\n",
    "                                  pad=0\n",
    "                                 )\n",
    "    cnn1.fit(X_train, y_train_one_hot, X_val, y_test_one_hot)\n",
    "    pred1 = cnn1.predict(X_val)\n",
    "    print(f'フィルタサイズ{i}×{i}：{accuracy_score(y_val, pred1)}')"
   ]
  },
  {
   "cell_type": "markdown",
   "metadata": {},
   "source": [
    "- 7×7が優秀"
   ]
  },
  {
   "cell_type": "markdown",
   "metadata": {},
   "source": [
    "## ② ストライドとAccuracy"
   ]
  },
  {
   "cell_type": "code",
   "execution_count": 29,
   "metadata": {},
   "outputs": [
    {
     "name": "stdout",
     "output_type": "stream",
     "text": [
      "ストライド2：0.11366666666666667\n",
      "ストライド3：0.10783333333333334\n",
      "ストライド7：0.18866666666666668\n"
     ]
    }
   ],
   "source": [
    "for i in [2, 3, 7]:\n",
    "    cnn1 = Scratch2dCNNClassifier(FN=5,\n",
    "                                  FH=7,\n",
    "                                  FW=7,\n",
    "                                  stride=i,\n",
    "                                  pad=0\n",
    "                                 )\n",
    "    cnn1.fit(X_train, y_train_one_hot, X_val, y_test_one_hot)\n",
    "    pred1 = cnn1.predict(X_val)\n",
    "    print(f'ストライド{i}：{accuracy_score(y_val, pred1)}')"
   ]
  },
  {
   "cell_type": "markdown",
   "metadata": {},
   "source": [
    "- ストライドは1で良さそう。"
   ]
  },
  {
   "cell_type": "markdown",
   "metadata": {},
   "source": [
    "## ③ パディングとAccuracy"
   ]
  },
  {
   "cell_type": "code",
   "execution_count": 30,
   "metadata": {},
   "outputs": [
    {
     "name": "stdout",
     "output_type": "stream",
     "text": [
      "パディング1：0.7855\n",
      "パディング2：0.8375\n",
      "パディング3：0.8336666666666667\n"
     ]
    }
   ],
   "source": [
    "for i in [1, 2, 3]:\n",
    "    cnn1 = Scratch2dCNNClassifier(FN=5,\n",
    "                                  FH=7,\n",
    "                                  FW=7,\n",
    "                                  stride=1,\n",
    "                                  pad=i\n",
    "                                 )\n",
    "    cnn1.fit(X_train, y_train_one_hot, X_val, y_test_one_hot)\n",
    "    pred1 = cnn1.predict(X_val)\n",
    "    print(f'パディング{i}：{accuracy_score(y_val, pred1)}')"
   ]
  },
  {
   "cell_type": "markdown",
   "metadata": {},
   "source": [
    "- パディング2が優秀"
   ]
  },
  {
   "cell_type": "markdown",
   "metadata": {},
   "source": [
    "## ④ フィルターとエポック数を増やして精度がどこまで出るか"
   ]
  },
  {
   "cell_type": "code",
   "execution_count": 31,
   "metadata": {},
   "outputs": [
    {
     "name": "stdout",
     "output_type": "stream",
     "text": [
      "CPU times: user 28min 57s, sys: 43min 52s, total: 1h 12min 49s\n",
      "Wall time: 2h 1min 53s\n"
     ]
    }
   ],
   "source": [
    "%%time\n",
    "cnn = Scratch2dCNNClassifier(FN=20,\n",
    "                             FH=7, \n",
    "                             FW=7,\n",
    "                             stride=1,\n",
    "                             pad=2,\n",
    "                             epoch=10,\n",
    "                             verbose=True\n",
    "                             )\n",
    "cnn.fit(X_train, y_train_one_hot, X_val, y_test_one_hot)"
   ]
  },
  {
   "cell_type": "code",
   "execution_count": 32,
   "metadata": {},
   "outputs": [
    {
     "data": {
      "text/plain": [
       "0.9718333333333333"
      ]
     },
     "execution_count": 32,
     "metadata": {},
     "output_type": "execute_result"
    }
   ],
   "source": [
    "pred = cnn.predict(X_val)\n",
    "accuracy_score(y_val, pred)"
   ]
  },
  {
   "cell_type": "code",
   "execution_count": 33,
   "metadata": {},
   "outputs": [
    {
     "data": {
      "image/png": "[encoded data removed]",
      "text/plain": [
       "<Figure size 432x288 with 1 Axes>"
      ]
     },
     "metadata": {
      "needs_background": "light"
     },
     "output_type": "display_data"
    }
   ],
   "source": [
    "# 学習曲線\n",
    "plt.title('Learning curve')\n",
    "plt.xlabel('epoch number')\n",
    "plt.ylabel('loss')\n",
    "plt.plot(list(range(1, cnn.epoch+1)), cnn.loss_train, label='train')\n",
    "plt.plot(list(range(1, cnn.epoch+1)), cnn.loss_val, label='test')\n",
    "plt.legend()\n",
    "plt.xticks(list(range(1, cnn.epoch+1)));"
   ]
  },
  {
   "cell_type": "markdown",
   "metadata": {},
   "source": [
    "- 学習を続ければまだ下がりそうだが、DNNと比較して学習時間と精度のコスパが悪い。"
   ]
  },
  {
   "cell_type": "markdown",
   "metadata": {},
   "source": [
    "# 【問題7】（アドバンス課題）LeNet\n",
    "CNNで画像認識を行う際は、フィルタサイズや層の数などを１から考えるのではなく、有名な構造を利用することが一般的です。現在では実用的に使われることはありませんが、歴史的に重要なのは1998年の LeNet です。この構造を再現してMNISTに対して動かし、Accuracyを計算してください。\n",
    "サブサンプリングとは現在のプーリングに相当するものです。現代風に以下のように作ってみることにします。活性化関数も当時はシグモイド関数ですが、ReLUとします。\n",
    "\n",
    "\n",
    "- 畳み込み層　出力チャンネル数6、フィルタサイズ5×5、ストライド1\n",
    "- ReLU\n",
    "- 最大プーリング\n",
    "- 畳み込み層　出力チャンネル数16、フィルタサイズ5×5、ストライド1\n",
    "- ReLU\n",
    "- 最大プーリング\n",
    "- 平滑化\n",
    "- 全結合層　出力ノード数120\n",
    "- ReLU\n",
    "- 全結合層　出力ノード数84\n",
    "- ReLU\n",
    "- 全結合層　出力ノード数10\n",
    "- ソフトマックス関数"
   ]
  },
  {
   "cell_type": "code",
   "execution_count": 249,
   "metadata": {},
   "outputs": [],
   "source": [
    "class Conv2d2:\n",
    "    '''\n",
    "    2次元畳み込み層\n",
    "    '''\n",
    "    def __init__(self, FN, C, FH, FW, lr=0.003, stride=1, pad=0, sigma=0.002):\n",
    "        self.W = sigma * np.random.randn(FN, C, FH, FW)\n",
    "        self.b = sigma * np.random.randn(FN,).astype('float64')\n",
    "        self.stride = stride\n",
    "        self.pad = pad\n",
    "        self.lr = lr\n",
    "        \n",
    "        # 中間データ（backward時に使用）\n",
    "        self.x = None   \n",
    "        self.col = None\n",
    "        self.col_W = None\n",
    "        \n",
    "        # 重み・バイアスパラメータの勾配\n",
    "        self.dW = None\n",
    "        self.db = None\n",
    "\n",
    "    def forward(self, x):\n",
    "        FN, C, FH, FW = self.W.shape\n",
    "        N, C, H, W = x.shape\n",
    "        out_h = 1 + int((H + 2*self.pad - FH) / self.stride)\n",
    "        out_w = 1 + int((W + 2*self.pad - FW) / self.stride)\n",
    "\n",
    "        col = im2col(x, FH, FW, self.stride, self.pad)\n",
    "        col_W = self.W.reshape(FN, -1).T\n",
    "\n",
    "        out = np.dot(col, col_W) + self.b\n",
    "        out = out.reshape(N, out_h, out_w, -1).transpose(0, 3, 1, 2)\n",
    "\n",
    "        self.x = x\n",
    "        self.col = col\n",
    "        self.col_W = col_W\n",
    "\n",
    "        return out\n",
    "\n",
    "    def backward(self, dout):\n",
    "        FN, C, FH, FW = self.W.shape\n",
    "        dout = dout.transpose(0,2,3,1).reshape(-1, FN)\n",
    "\n",
    "        self.db = np.sum(dout, axis=0)\n",
    "        self.dW = np.dot(self.col.T, dout)\n",
    "        self.dW = self.dW.transpose(1, 0).reshape(FN, C, FH, FW)\n",
    "\n",
    "        dcol = np.dot(dout, self.col_W.T)\n",
    "        dx = col2im(dcol, self.x.shape, FH, FW, self.stride, self.pad)\n",
    "        \n",
    "        # パラメータ更新\n",
    "        self.update()\n",
    "\n",
    "        return dx\n",
    "    \n",
    "    def update(self):\n",
    "        self.W -= self.lr * self.dW\n",
    "        self.b -= self.lr * self.db"
   ]
  },
  {
   "cell_type": "code",
   "execution_count": 250,
   "metadata": {},
   "outputs": [],
   "source": [
    "class LeNet():\n",
    "    \"\"\"\n",
    "    LeNetクラス\n",
    "    \"\"\"\n",
    "    def __init__(self, epoch=1, optimizer=AdaGrad, initializer=HeInitializer, activater=Relu, verbose=False,):\n",
    "        self.verbose = verbose\n",
    "        self.batch_size = 20 # バッチサイズ\n",
    "        self.n_output = 10 # 出力のクラス数\n",
    "        self.sigma = 0.02 # ガウス分布の標準偏差\n",
    "        self.lr = 0.003 # 学習率\n",
    "        self.epoch = epoch # エポック数\n",
    "        self.optimizer = optimizer # 最適化手法\n",
    "        self.initializer = initializer # 初期化方法\n",
    "        self.activater = activater # 活性化関数\n",
    "    \n",
    "    def fit(self, X, y, X_val=None, y_val=None):\n",
    "        self.loss_train = [] # 学習データのloss記録用\n",
    "        self.loss_val = [] # 検証データのloss記録用\n",
    "        \n",
    "        # 最適化手法を選択\n",
    "        optimizer = self.optimizer(self.lr)\n",
    "        \n",
    "        # インスタンス化\n",
    "        self.cv1 = Conv2d2(6, 1, 5, 5)\n",
    "        self.activation_cv1 = self.activater()\n",
    "        self.pl1 = MaxPool2D(2, 2)\n",
    "        self.cv2 = Conv2d2(16, 6, 5, 5)\n",
    "        self.activation_cv2 = self.activater()\n",
    "        self.pl2 = MaxPool2D(2, 2)\n",
    "        self.fl = Flatten()\n",
    "        self.FC1 = FC(256, 120, self.initializer(self.sigma), optimizer)\n",
    "        self.activation_fc1 = self.activater()\n",
    "        self.FC2 = FC(120, 84, self.initializer(self.sigma), optimizer)\n",
    "        self.activation_fc2 = self.activater()\n",
    "        self.FC3 = FC(84, self.n_output, self.initializer(self.sigma), optimizer)\n",
    "        self.activation_fc3 = SoftmaxWithLoss()\n",
    "        \n",
    "        # 学習\n",
    "        for i in range(self.epoch):\n",
    "            get_mini_batch = GetMiniBatch(X, y, batch_size=self.batch_size, seed=i)\n",
    "            for mini_X, mini_y in get_mini_batch:\n",
    "\n",
    "                # フォワード\n",
    "                A1 = self.cv1.forward(mini_X)\n",
    "                Z1 = self.activation_cv1.forward(A1)\n",
    "                P1 = self.pl1.forward(Z1)\n",
    "                A2 = self.cv2.forward(P1)\n",
    "                Z2 = self.activation_cv2.forward(A2)\n",
    "                P2 = self.pl2.forward(Z2)\n",
    "                F1 = self.fl.forward(P2)\n",
    "                A3 = self.FC1.forward(F1)\n",
    "                Z3 = self.activation_fc1.forward(A3)\n",
    "                A4 = self.FC2.forward(Z3)\n",
    "                Z4 = self.activation_fc2.forward(A4)\n",
    "                A5 = self.FC3.forward(Z4)\n",
    "                Z5 = self.activation_fc3.forward(A5)\n",
    "\n",
    "                # バックワード\n",
    "                dA5, loss = self.activation_fc3.backward(Z5, mini_y)\n",
    "                dZ4 = self.FC3.backward(dA5)\n",
    "                dA4 = self.activation_fc2.backward(dZ4)\n",
    "                dZ3 = self.FC2.backward(dA4)\n",
    "                dA3 = self.activation_fc1.backward(dZ3)\n",
    "                dZ2 = self.FC1.backward(dA3)\n",
    "                dF1 = self.fl.backward(dZ2)\n",
    "                dP2 = self.pl2.backward(dF1)\n",
    "                dZ1 = self.activation_cv2.backward(dP2)\n",
    "                dA1 = self.cv2.backward(dZ1)\n",
    "                dP1 = self.pl1.backward(dA1)\n",
    "                dZ0 = self.activation_cv1.backward(dP1)\n",
    "                dA0 = self.cv1.backward(dZ0)\n",
    "                \n",
    "            # エポックごとに交差エントロピー誤差を記録\n",
    "            if self.verbose:\n",
    "                A1 = self.cv1.forward(X)\n",
    "                Z1 = self.activation_cv1.forward(A1)\n",
    "                P1 = self.pl1.forward(Z1)\n",
    "                A2 = self.cv2.forward(P1)\n",
    "                Z2 = self.activation_cv2.forward(A2)\n",
    "                P2 = self.pl2.forward(Z2)\n",
    "                F1 = self.fl.forward(P2)\n",
    "                A3 = self.FC1.forward(F1)\n",
    "                Z3 = self.activation_fc1.forward(A3)\n",
    "                A4 = self.FC2.forward(Z3)\n",
    "                Z4 = self.activation_fc2.forward(A4)\n",
    "                A5 = self.FC3.forward(Z4)\n",
    "                Z5 = self.activation_fc3.forward(A5) \n",
    "                self.loss_train.append(self.activation_fc3.backward(Z5, y)[1])\n",
    "                \n",
    "                if X_val is not None:\n",
    "                    A1 = self.cv1.forward(X_val)\n",
    "                    Z1 = self.activation_cv1.forward(A1)\n",
    "                    P1 = self.pl1.forward(Z1)\n",
    "                    A2 = self.cv2.forward(P1)\n",
    "                    Z2 = self.activation_cv2.forward(A2)\n",
    "                    P2 = self.pl2.forward(Z2)\n",
    "                    F1 = self.fl.forward(P2)\n",
    "                    A3 = self.FC1.forward(F1)\n",
    "                    Z3 = self.activation_fc1.forward(A3)\n",
    "                    A4 = self.FC2.forward(Z3)\n",
    "                    Z4 = self.activation_fc2.forward(A4)\n",
    "                    A5 = self.FC3.forward(Z4)\n",
    "                    Z5 = self.activation_fc3.forward(A5)        \n",
    "                    self.loss_val.append(self.activation_fc3.backward(Z5, y_val)[1])\n",
    "                    \n",
    "    def out_size(self, H, W, P, FH, FW, S):\n",
    "        out_h = (H + 2 * P - FH) // S + 1\n",
    "        out_w = (W + 2 * P - FW) // S + 1\n",
    "        return out_h, out_w\n",
    "    \n",
    "    def predict(self, X):\n",
    "        A1 = self.cv1.forward(X)\n",
    "        Z1 = self.activation_cv1.forward(A1)\n",
    "        P1 = self.pl1.forward(Z1)\n",
    "        A2 = self.cv2.forward(P1)\n",
    "        Z2 = self.activation_cv2.forward(A2)\n",
    "        P2 = self.pl2.forward(Z2)\n",
    "        F1 = self.fl.forward(P2)\n",
    "        A3 = self.FC1.forward(F1)\n",
    "        Z3 = self.activation_fc1.forward(A3)\n",
    "        A4 = self.FC2.forward(Z3)\n",
    "        Z4 = self.activation_fc2.forward(A4)\n",
    "        A5 = self.FC3.forward(Z4)\n",
    "        Z5 = self.activation_fc3.forward(A5)\n",
    "        return np.argmax(Z5, axis=1)"
   ]
  },
  {
   "cell_type": "code",
   "execution_count": 252,
   "metadata": {},
   "outputs": [
    {
     "data": {
      "text/plain": [
       "0.788"
      ]
     },
     "execution_count": 252,
     "metadata": {},
     "output_type": "execute_result"
    }
   ],
   "source": [
    "lenet = LeNet(verbose=True, epoch=10)\n",
    "lenet.fit(X_train[:2000], y_train_one_hot[:2000], X_val[:500], y_test_one_hot[:500])\n",
    "pred2 = lenet.predict(X_val[:500])\n",
    "accuracy_score(y_val[:500], pred2)"
   ]
  },
  {
   "cell_type": "code",
   "execution_count": 253,
   "metadata": {},
   "outputs": [
    {
     "data": {
      "image/png": "[encoded data removed]",
      "text/plain": [
       "<Figure size 432x288 with 1 Axes>"
      ]
     },
     "metadata": {
      "needs_background": "light"
     },
     "output_type": "display_data"
    }
   ],
   "source": [
    "# 学習曲線\n",
    "plt.title('Learning curve')\n",
    "plt.xlabel('epoch number')\n",
    "plt.ylabel('loss')\n",
    "plt.plot(list(range(1, lenet.epoch+1)), lenet.loss_train, label='train')\n",
    "plt.plot(list(range(1, lenet.epoch+1)), lenet.loss_val, label='test')\n",
    "plt.legend()\n",
    "plt.xticks(list(range(1, lenet.epoch+1)));"
   ]
  },
  {
   "cell_type": "markdown",
   "metadata": {},
   "source": [
    "- LeNetは精度が悪い。"
   ]
  },
  {
   "cell_type": "markdown",
   "metadata": {},
   "source": [
    "# 【問題8】（アドバンス課題）有名な画像認識モデルの調査\n",
    "CNNの代表的な構造としてははAlexNet(2012)、VGG16(2014)などがあります。こういったものはフレームワークで既に用意されていることも多いです。\n",
    "どういったものがあるか簡単に調べてまとめてください。名前だけでも見ておくと良いでしょう。"
   ]
  },
  {
   "cell_type": "markdown",
   "metadata": {},
   "source": [
    "![aa](https://gyazo.com/180966a9d52b71a3629f41284f516e54.gng)"
   ]
  },
  {
   "cell_type": "markdown",
   "metadata": {},
   "source": [
    "# 【問題9】出力サイズとパラメータ数の計算\n",
    "CNNモデルを構築する際には、全結合層に入力する段階で特徴量がいくつになっているかを事前に計算する必要があります。\n",
    "\n",
    "\n",
    "また、巨大なモデルを扱うようになると、メモリや計算速度の関係でパラメータ数の計算は必須になってきます。フレームワークでは各層のパラメータ数を表示させることが可能ですが、意味を理解していなくては適切な調整が行えません。\n",
    "\n",
    "\n",
    "以下の3つの畳み込み層の出力サイズとパラメータ数を計算してください。パラメータ数についてはバイアス項も考えてください。\n",
    "\n",
    "＊最後の例は丁度良く畳み込みをすることができない場合です。フレームワークでは余ったピクセルを見ないという処理が行われることがあるので、その場合を考えて計算してください。端が欠けてしまうので、こういった設定は好ましくないという例です。"
   ]
  },
  {
   "cell_type": "code",
   "execution_count": 34,
   "metadata": {},
   "outputs": [],
   "source": [
    "def out_size(H, W, P, FH, FW, S):\n",
    "    out_h = (H + 2 * P - FH) // S + 1\n",
    "    out_w = (W + 2 * P - FW) // S + 1\n",
    "    return out_h, out_w\n",
    "\n",
    "# フィルターの縦 * フィルターの横 * 入力のチャンネル数 * 出力のチャンネル数 + バイアス(1チャンネルごとに1つ)\n",
    "def parm_n(FH, FW, C, FN):\n",
    "    return FH*FW*C*FN + FN"
   ]
  },
  {
   "cell_type": "markdown",
   "metadata": {},
   "source": [
    "1.\n",
    "- 入力サイズ : 144×144, 3チャンネル\n",
    "- フィルタサイズ : 3×3, 6チャンネル\n",
    "- ストライド : 1\n",
    "- パディング : なし"
   ]
  },
  {
   "cell_type": "code",
   "execution_count": 35,
   "metadata": {},
   "outputs": [
    {
     "name": "stdout",
     "output_type": "stream",
     "text": [
      "出力サイズ：(142, 142)\n",
      "パラメータ数：168\n"
     ]
    }
   ],
   "source": [
    "print(f'出力サイズ：{out_size(144, 144, 0, 3, 3, 1)}')\n",
    "print(f'パラメータ数：{parm_n(3, 3, 3, 6)}')"
   ]
  },
  {
   "cell_type": "markdown",
   "metadata": {},
   "source": [
    "2.\n",
    "- 入力サイズ : 60×60, 24チャンネル\n",
    "- フィルタサイズ : 3×3, 48チャンネル\n",
    "- ストライド　: 1\n",
    "- パディング : なし"
   ]
  },
  {
   "cell_type": "code",
   "execution_count": 36,
   "metadata": {},
   "outputs": [
    {
     "name": "stdout",
     "output_type": "stream",
     "text": [
      "出力サイズ：(58, 58)\n",
      "パラメータ数：10416\n"
     ]
    }
   ],
   "source": [
    "print(f'出力サイズ：{out_size(60, 60, 0, 3, 3, 1)}')\n",
    "print(f'パラメータ数：{parm_n(3, 3, 24, 48)}')"
   ]
  },
  {
   "cell_type": "markdown",
   "metadata": {},
   "source": [
    "3.\n",
    "- 入力サイズ : 20×20, 10チャンネル\n",
    "- フィルタサイズ: 3×3, 20チャンネル\n",
    "- ストライド : 2\n",
    "- パディング : なし"
   ]
  },
  {
   "cell_type": "code",
   "execution_count": 37,
   "metadata": {},
   "outputs": [
    {
     "name": "stdout",
     "output_type": "stream",
     "text": [
      "出力サイズ：(9, 9)\n",
      "パラメータ数：1820\n"
     ]
    }
   ],
   "source": [
    "out_size(20, 20, 0, 3, 3, 2)\n",
    "print(f'出力サイズ：{out_size(20, 20, 0, 3, 3, 2)}')\n",
    "print(f'パラメータ数：{parm_n(3, 3, 10, 20)}')"
   ]
  },
  {
   "cell_type": "markdown",
   "metadata": {},
   "source": [
    "# 【問題10】（アドバンス課題）フィルタサイズに関する調査\n",
    "畳み込み層にはフィルタサイズというハイパーパラメータがありますが、2次元畳み込み層において現在では3×3と1×1の使用が大半です。以下のそれぞれを調べたり、自分なりに考えて説明してください。\n",
    "\n",
    "\n",
    "- 7×7などの大きめのものではなく、3×3のフィルタが一般的に使われる理由\n",
    "- 高さや幅方向を持たない1×1のフィルタの効果"
   ]
  },
  {
   "cell_type": "markdown",
   "metadata": {},
   "source": [
    "## 解答\n",
    "- 小さいフィルタを使うことでパラメータ数を削減でき、モデルの高速化につながるから。\n",
    "\n",
    "### 例\n",
    "![d](https://gyazo.com/b201bec639f8ff9175ad103b068e0b8c.gng)\n",
    "パラメータ数：32×3×3×64+64=18496個  \n",
    "\n",
    "これに、1×1のフィルターを挟むと・・・\n",
    "![da](https://gyazo.com/08e4eaea79a61e496238104db04941a4.gng)\n",
    "- 最初の畳み込み層:32×1×1×16+16=528\n",
    "- 次の畳み込み層:16×3×3×64+64=9280\n",
    "### 計：9808個"
   ]
  },
  {
   "cell_type": "code",
   "execution_count": null,
   "metadata": {},
   "outputs": [],
   "source": []
  }
 ],
 "metadata": {
  "kernelspec": {
   "display_name": "Python 3",
   "language": "python",
   "name": "python3"
  },
  "language_info": {
   "codemirror_mode": {
    "name": "ipython",
    "version": 3
   },
   "file_extension": ".py",
   "mimetype": "text/x-python",
   "name": "python",
   "nbconvert_exporter": "python",
   "pygments_lexer": "ipython3",
   "version": "3.7.6"
  }
 },
 "nbformat": 4,
 "nbformat_minor": 2
}
