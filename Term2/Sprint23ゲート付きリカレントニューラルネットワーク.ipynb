{
 "cells": [
  {
   "cell_type": "markdown",
   "metadata": {
    "colab_type": "text",
    "id": "WKOlxT5O43HX"
   },
   "source": [
    "# 【問題1】各種手法の実行\n",
    "Kerasには4種類のReccurentレイヤーが用意されています。SimpleRNN以外はゲート付きリカレントニューラルネットワークです。\n",
    "\n",
    "\n",
    "- SimpleRNN\n",
    "- GRU\n",
    "- LSTM\n",
    "- ConvLSTM2D"
   ]
  },
  {
   "cell_type": "code",
   "execution_count": 89,
   "metadata": {
    "colab": {},
    "colab_type": "code",
    "executionInfo": {
     "elapsed": 1453,
     "status": "ok",
     "timestamp": 1593745872038,
     "user": {
      "displayName": "tky iw",
      "photoUrl": "https://lh3.googleusercontent.com/a-/AOh14Gi0Sa4H6uSatHCaoEQDIOQMjhXr3B6XJNWynf3QAQ=s64",
      "userId": "14648287999101461787"
     },
     "user_tz": -540
    },
    "id": "ZESeQ4e5hh-X"
   },
   "outputs": [],
   "source": [
    "from keras.preprocessing import sequence\n",
    "from keras.models import Sequential\n",
    "from keras.layers import LSTM, SimpleRNN, GRU, ConvLSTM2D\n",
    "from keras.layers import LSTM\n",
    "from keras.datasets import imdb\n",
    "from keras import backend as K\n",
    "\n",
    "max_features = 20000\n",
    "# cut texts after this number of words (among top max_features most common words)\n",
    "maxlen = 80\n",
    "batch_size = 32"
   ]
  },
  {
   "cell_type": "code",
   "execution_count": 90,
   "metadata": {
    "colab": {
     "base_uri": "https://localhost:8080/",
     "height": 68
    },
    "colab_type": "code",
    "executionInfo": {
     "elapsed": 6810,
     "status": "ok",
     "timestamp": 1593745877415,
     "user": {
      "displayName": "tky iw",
      "photoUrl": "https://lh3.googleusercontent.com/a-/AOh14Gi0Sa4H6uSatHCaoEQDIOQMjhXr3B6XJNWynf3QAQ=s64",
      "userId": "14648287999101461787"
     },
     "user_tz": -540
    },
    "id": "pYuVdH3DgjLS",
    "outputId": "5c6587a9-e3a8-4038-e1f7-a98984d8b53d"
   },
   "outputs": [
    {
     "name": "stdout",
     "output_type": "stream",
     "text": [
      "Loading data...\n",
      "25000 train sequences\n",
      "25000 test sequences\n"
     ]
    }
   ],
   "source": [
    "print('Loading data...')\n",
    "(x_train, y_train), (x_test, y_test) = imdb.load_data(num_words=max_features)\n",
    "print(len(x_train), 'train sequences')\n",
    "print(len(x_test), 'test sequences')"
   ]
  },
  {
   "cell_type": "code",
   "execution_count": 91,
   "metadata": {
    "colab": {
     "base_uri": "https://localhost:8080/",
     "height": 170
    },
    "colab_type": "code",
    "executionInfo": {
     "elapsed": 6797,
     "status": "ok",
     "timestamp": 1593745877417,
     "user": {
      "displayName": "tky iw",
      "photoUrl": "https://lh3.googleusercontent.com/a-/AOh14Gi0Sa4H6uSatHCaoEQDIOQMjhXr3B6XJNWynf3QAQ=s64",
      "userId": "14648287999101461787"
     },
     "user_tz": -540
    },
    "id": "KKH3ti37iaej",
    "outputId": "d4a4c921-2e86-47d4-c19f-e61867b36267"
   },
   "outputs": [
    {
     "data": {
      "text/plain": [
       "array([   15,   256,     4,     2,     7,  3766,     5,   723,    36,\n",
       "          71,    43,   530,   476,    26,   400,   317,    46,     7,\n",
       "           4, 12118,  1029,    13,   104,    88,     4,   381,    15,\n",
       "         297,    98,    32,  2071,    56,    26,   141,     6,   194,\n",
       "        7486,    18,     4,   226,    22,    21,   134,   476,    26,\n",
       "         480,     5,   144,    30,  5535,    18,    51,    36,    28,\n",
       "         224,    92,    25,   104,     4,   226,    65,    16,    38,\n",
       "        1334,    88,    12,    16,   283,     5,    16,  4472,   113,\n",
       "         103,    32,    15,    16,  5345,    19,   178,    32])"
      ]
     },
     "execution_count": 91,
     "metadata": {
      "tags": []
     },
     "output_type": "execute_result"
    }
   ],
   "source": [
    "np.array(x_train[0][-80:])"
   ]
  },
  {
   "cell_type": "code",
   "execution_count": 92,
   "metadata": {
    "colab": {
     "base_uri": "https://localhost:8080/",
     "height": 68
    },
    "colab_type": "code",
    "executionInfo": {
     "elapsed": 6781,
     "status": "ok",
     "timestamp": 1593745877418,
     "user": {
      "displayName": "tky iw",
      "photoUrl": "https://lh3.googleusercontent.com/a-/AOh14Gi0Sa4H6uSatHCaoEQDIOQMjhXr3B6XJNWynf3QAQ=s64",
      "userId": "14648287999101461787"
     },
     "user_tz": -540
    },
    "id": "deW8Bv1Ahnm3",
    "outputId": "a7449ded-697c-46ee-9af9-73bb25a1bdd3"
   },
   "outputs": [
    {
     "name": "stdout",
     "output_type": "stream",
     "text": [
      "Pad sequences (samples x time)\n",
      "x_train shape: (25000, 80)\n",
      "x_test shape: (25000, 80)\n"
     ]
    }
   ],
   "source": [
    "print('Pad sequences (samples x time)')\n",
    "x_train = sequence.pad_sequences(x_train, maxlen=maxlen)\n",
    "x_test = sequence.pad_sequences(x_test, maxlen=maxlen)\n",
    "print('x_train shape:', x_train.shape)\n",
    "print('x_test shape:', x_test.shape)"
   ]
  },
  {
   "cell_type": "code",
   "execution_count": 93,
   "metadata": {
    "colab": {
     "base_uri": "https://localhost:8080/",
     "height": 34
    },
    "colab_type": "code",
    "executionInfo": {
     "elapsed": 6765,
     "status": "ok",
     "timestamp": 1593745877419,
     "user": {
      "displayName": "tky iw",
      "photoUrl": "https://lh3.googleusercontent.com/a-/AOh14Gi0Sa4H6uSatHCaoEQDIOQMjhXr3B6XJNWynf3QAQ=s64",
      "userId": "14648287999101461787"
     },
     "user_tz": -540
    },
    "id": "_45ZBcEth9Nd",
    "outputId": "b20afba1-1185-4e89-df8b-05a714bd85be"
   },
   "outputs": [
    {
     "data": {
      "text/plain": [
       "(25000, 80)"
      ]
     },
     "execution_count": 93,
     "metadata": {
      "tags": []
     },
     "output_type": "execute_result"
    }
   ],
   "source": [
    "x_train.shape"
   ]
  },
  {
   "cell_type": "code",
   "execution_count": 94,
   "metadata": {
    "colab": {
     "base_uri": "https://localhost:8080/",
     "height": 187
    },
    "colab_type": "code",
    "executionInfo": {
     "elapsed": 6747,
     "status": "ok",
     "timestamp": 1593745877420,
     "user": {
      "displayName": "tky iw",
      "photoUrl": "https://lh3.googleusercontent.com/a-/AOh14Gi0Sa4H6uSatHCaoEQDIOQMjhXr3B6XJNWynf3QAQ=s64",
      "userId": "14648287999101461787"
     },
     "user_tz": -540
    },
    "id": "fdv9nfGciBye",
    "outputId": "38cda4e9-5c4f-4c37-a555-ed28143c0312"
   },
   "outputs": [
    {
     "data": {
      "text/plain": [
       "array([   15,   256,     4,     2,     7,  3766,     5,   723,    36,\n",
       "          71,    43,   530,   476,    26,   400,   317,    46,     7,\n",
       "           4, 12118,  1029,    13,   104,    88,     4,   381,    15,\n",
       "         297,    98,    32,  2071,    56,    26,   141,     6,   194,\n",
       "        7486,    18,     4,   226,    22,    21,   134,   476,    26,\n",
       "         480,     5,   144,    30,  5535,    18,    51,    36,    28,\n",
       "         224,    92,    25,   104,     4,   226,    65,    16,    38,\n",
       "        1334,    88,    12,    16,   283,     5,    16,  4472,   113,\n",
       "         103,    32,    15,    16,  5345,    19,   178,    32],\n",
       "      dtype=int32)"
      ]
     },
     "execution_count": 94,
     "metadata": {
      "tags": []
     },
     "output_type": "execute_result"
    }
   ],
   "source": [
    "x_train[0]"
   ]
  },
  {
   "cell_type": "markdown",
   "metadata": {
    "colab_type": "text",
    "id": "2aBGBqrXnZrm"
   },
   "source": [
    "## SimpleRNN"
   ]
  },
  {
   "cell_type": "code",
   "execution_count": 95,
   "metadata": {
    "colab": {
     "base_uri": "https://localhost:8080/",
     "height": 272
    },
    "colab_type": "code",
    "executionInfo": {
     "elapsed": 6631,
     "status": "ok",
     "timestamp": 1593745877422,
     "user": {
      "displayName": "tky iw",
      "photoUrl": "https://lh3.googleusercontent.com/a-/AOh14Gi0Sa4H6uSatHCaoEQDIOQMjhXr3B6XJNWynf3QAQ=s64",
      "userId": "14648287999101461787"
     },
     "user_tz": -540
    },
    "id": "fO4Dd1qJnZYL",
    "outputId": "83b23cec-c2da-4dfd-a478-77c9d9cf69d9"
   },
   "outputs": [
    {
     "name": "stdout",
     "output_type": "stream",
     "text": [
      "Build model...\n",
      "Model: \"sequential_1\"\n",
      "_________________________________________________________________\n",
      "Layer (type)                 Output Shape              Param #   \n",
      "=================================================================\n",
      "embedding_1 (Embedding)      (None, None, 16)          320000    \n",
      "_________________________________________________________________\n",
      "simple_rnn_1 (SimpleRNN)     (None, 16)                528       \n",
      "_________________________________________________________________\n",
      "dense_1 (Dense)              (None, 1)                 17        \n",
      "=================================================================\n",
      "Total params: 320,545\n",
      "Trainable params: 320,545\n",
      "Non-trainable params: 0\n",
      "_________________________________________________________________\n"
     ]
    }
   ],
   "source": [
    "K.clear_session()\n",
    "\n",
    "print('Build model...')\n",
    "model = Sequential()\n",
    "model.add(Embedding(max_features, 16))\n",
    "model.add(SimpleRNN(16, dropout=0.2, recurrent_dropout=0.2))\n",
    "model.add(Dense(1, activation='sigmoid'))\n",
    "model.summary()"
   ]
  },
  {
   "cell_type": "code",
   "execution_count": 96,
   "metadata": {
    "colab": {
     "base_uri": "https://localhost:8080/",
     "height": 326
    },
    "colab_type": "code",
    "executionInfo": {
     "elapsed": 109158,
     "status": "ok",
     "timestamp": 1593745979980,
     "user": {
      "displayName": "tky iw",
      "photoUrl": "https://lh3.googleusercontent.com/a-/AOh14Gi0Sa4H6uSatHCaoEQDIOQMjhXr3B6XJNWynf3QAQ=s64",
      "userId": "14648287999101461787"
     },
     "user_tz": -540
    },
    "id": "bVg_wLPPnY0w",
    "outputId": "3f210b70-2fbb-4593-af93-30dbb90042a5"
   },
   "outputs": [
    {
     "name": "stdout",
     "output_type": "stream",
     "text": [
      "Train...\n"
     ]
    },
    {
     "name": "stderr",
     "output_type": "stream",
     "text": [
      "/usr/local/lib/python3.6/dist-packages/tensorflow/python/framework/indexed_slices.py:434: UserWarning: Converting sparse IndexedSlices to a dense Tensor of unknown shape. This may consume a large amount of memory.\n",
      "  \"Converting sparse IndexedSlices to a dense Tensor of unknown shape. \"\n"
     ]
    },
    {
     "name": "stdout",
     "output_type": "stream",
     "text": [
      "Train on 25000 samples, validate on 25000 samples\n",
      "Epoch 1/5\n",
      "25000/25000 [==============================] - 20s 794us/step - loss: 0.6979 - accuracy: 0.5216 - val_loss: 0.6785 - val_accuracy: 0.5699\n",
      "Epoch 2/5\n",
      "25000/25000 [==============================] - 19s 775us/step - loss: 0.6595 - accuracy: 0.5980 - val_loss: 0.6174 - val_accuracy: 0.6566\n",
      "Epoch 3/5\n",
      "25000/25000 [==============================] - 20s 817us/step - loss: 0.5537 - accuracy: 0.7217 - val_loss: 0.5345 - val_accuracy: 0.7286\n",
      "Epoch 4/5\n",
      "25000/25000 [==============================] - 20s 790us/step - loss: 0.4756 - accuracy: 0.7788 - val_loss: 0.5005 - val_accuracy: 0.7612\n",
      "Epoch 5/5\n",
      "25000/25000 [==============================] - 19s 769us/step - loss: 0.4234 - accuracy: 0.8143 - val_loss: 0.5440 - val_accuracy: 0.7486\n",
      "25000/25000 [==============================] - 3s 109us/step\n",
      "Test score: 0.5439704645824432\n",
      "Test accuracy: 0.7485600113868713\n"
     ]
    }
   ],
   "source": [
    "# try using different optimizers and different optimizer configs\n",
    "model.compile(loss='binary_crossentropy',\n",
    "              optimizer='adam',\n",
    "              metrics=['accuracy'])\n",
    "\n",
    "print('Train...')\n",
    "model.fit(x_train, y_train,\n",
    "          batch_size=batch_size,\n",
    "          epochs=5,\n",
    "          validation_data=(x_test, y_test))\n",
    "score_rnn, acc_rnn = model.evaluate(x_test, y_test,\n",
    "                            batch_size=batch_size)\n",
    "print('Test score:', score_rnn)\n",
    "print('Test accuracy:', acc_rnn)"
   ]
  },
  {
   "cell_type": "markdown",
   "metadata": {
    "colab_type": "text",
    "id": "SlUIHkxSpiEK"
   },
   "source": [
    "## GRU"
   ]
  },
  {
   "cell_type": "code",
   "execution_count": 97,
   "metadata": {
    "colab": {
     "base_uri": "https://localhost:8080/",
     "height": 272
    },
    "colab_type": "code",
    "executionInfo": {
     "elapsed": 109127,
     "status": "ok",
     "timestamp": 1593745979981,
     "user": {
      "displayName": "tky iw",
      "photoUrl": "https://lh3.googleusercontent.com/a-/AOh14Gi0Sa4H6uSatHCaoEQDIOQMjhXr3B6XJNWynf3QAQ=s64",
      "userId": "14648287999101461787"
     },
     "user_tz": -540
    },
    "id": "bL3ZDfaHnYjz",
    "outputId": "21213686-f2b5-4ef2-83c0-ea39158ca1af"
   },
   "outputs": [
    {
     "name": "stdout",
     "output_type": "stream",
     "text": [
      "Build model...\n",
      "Model: \"sequential_1\"\n",
      "_________________________________________________________________\n",
      "Layer (type)                 Output Shape              Param #   \n",
      "=================================================================\n",
      "embedding_1 (Embedding)      (None, None, 16)          320000    \n",
      "_________________________________________________________________\n",
      "gru_1 (GRU)                  (None, 16)                1584      \n",
      "_________________________________________________________________\n",
      "dense_1 (Dense)              (None, 1)                 17        \n",
      "=================================================================\n",
      "Total params: 321,601\n",
      "Trainable params: 321,601\n",
      "Non-trainable params: 0\n",
      "_________________________________________________________________\n"
     ]
    }
   ],
   "source": [
    "K.clear_session()\n",
    "\n",
    "print('Build model...')\n",
    "model = Sequential()\n",
    "model.add(Embedding(max_features, 16))\n",
    "model.add(GRU(16, dropout=0.2, recurrent_dropout=0.2))\n",
    "model.add(Dense(1, activation='sigmoid'))\n",
    "model.summary()"
   ]
  },
  {
   "cell_type": "code",
   "execution_count": 98,
   "metadata": {
    "colab": {
     "base_uri": "https://localhost:8080/",
     "height": 326
    },
    "colab_type": "code",
    "executionInfo": {
     "elapsed": 320070,
     "status": "ok",
     "timestamp": 1593746190951,
     "user": {
      "displayName": "tky iw",
      "photoUrl": "https://lh3.googleusercontent.com/a-/AOh14Gi0Sa4H6uSatHCaoEQDIOQMjhXr3B6XJNWynf3QAQ=s64",
      "userId": "14648287999101461787"
     },
     "user_tz": -540
    },
    "id": "oc95YeWFpwJB",
    "outputId": "b6c67f3c-203f-4924-c966-6846c825a65c"
   },
   "outputs": [
    {
     "name": "stdout",
     "output_type": "stream",
     "text": [
      "Train...\n"
     ]
    },
    {
     "name": "stderr",
     "output_type": "stream",
     "text": [
      "/usr/local/lib/python3.6/dist-packages/tensorflow/python/framework/indexed_slices.py:434: UserWarning: Converting sparse IndexedSlices to a dense Tensor of unknown shape. This may consume a large amount of memory.\n",
      "  \"Converting sparse IndexedSlices to a dense Tensor of unknown shape. \"\n"
     ]
    },
    {
     "name": "stdout",
     "output_type": "stream",
     "text": [
      "Train on 25000 samples, validate on 25000 samples\n",
      "Epoch 1/5\n",
      "25000/25000 [==============================] - 40s 2ms/step - loss: 0.5454 - accuracy: 0.7256 - val_loss: 0.5421 - val_accuracy: 0.7324\n",
      "Epoch 2/5\n",
      "25000/25000 [==============================] - 41s 2ms/step - loss: 0.4529 - accuracy: 0.8112 - val_loss: 0.5432 - val_accuracy: 0.7188\n",
      "Epoch 3/5\n",
      "25000/25000 [==============================] - 42s 2ms/step - loss: 0.4400 - accuracy: 0.8232 - val_loss: 0.5453 - val_accuracy: 0.7169\n",
      "Epoch 4/5\n",
      "25000/25000 [==============================] - 41s 2ms/step - loss: 0.3511 - accuracy: 0.8544 - val_loss: 0.5384 - val_accuracy: 0.7252\n",
      "Epoch 5/5\n",
      "25000/25000 [==============================] - 40s 2ms/step - loss: 0.3057 - accuracy: 0.8744 - val_loss: 0.5439 - val_accuracy: 0.7264\n",
      "25000/25000 [==============================] - 4s 180us/step\n",
      "Test score: 0.5439376368522644\n",
      "Test accuracy: 0.7264000177383423\n"
     ]
    }
   ],
   "source": [
    "# try using different optimizers and different optimizer configs\n",
    "model.compile(loss='binary_crossentropy',\n",
    "              optimizer='adam',\n",
    "              metrics=['accuracy'])\n",
    "\n",
    "print('Train...')\n",
    "model.fit(x_train, y_train,\n",
    "          batch_size=batch_size,\n",
    "          epochs=5,\n",
    "          validation_data=(x_test, y_test))\n",
    "score_gru, acc_gru = model.evaluate(x_test, y_test,\n",
    "                            batch_size=batch_size)\n",
    "print('Test score:', score_gru)\n",
    "print('Test accuracy:', acc_gru)"
   ]
  },
  {
   "cell_type": "markdown",
   "metadata": {
    "colab_type": "text",
    "id": "44UY196fmKXu"
   },
   "source": [
    "## LSTM"
   ]
  },
  {
   "cell_type": "code",
   "execution_count": 99,
   "metadata": {
    "colab": {
     "base_uri": "https://localhost:8080/",
     "height": 34
    },
    "colab_type": "code",
    "executionInfo": {
     "elapsed": 320026,
     "status": "ok",
     "timestamp": 1593746190952,
     "user": {
      "displayName": "tky iw",
      "photoUrl": "https://lh3.googleusercontent.com/a-/AOh14Gi0Sa4H6uSatHCaoEQDIOQMjhXr3B6XJNWynf3QAQ=s64",
      "userId": "14648287999101461787"
     },
     "user_tz": -540
    },
    "id": "lYH9Wk83iSB0",
    "outputId": "362c3e13-2438-4c82-d816-77bc9c09ae0f"
   },
   "outputs": [
    {
     "name": "stdout",
     "output_type": "stream",
     "text": [
      "Build model...\n"
     ]
    }
   ],
   "source": [
    "K.clear_session()\n",
    "\n",
    "print('Build model...')\n",
    "model = Sequential()\n",
    "model.add(Embedding(max_features, 16))\n",
    "model.add(LSTM(16, dropout=0.2, recurrent_dropout=0.2))\n",
    "model.add(Dense(1, activation='sigmoid'))"
   ]
  },
  {
   "cell_type": "code",
   "execution_count": 100,
   "metadata": {
    "colab": {
     "base_uri": "https://localhost:8080/",
     "height": 255
    },
    "colab_type": "code",
    "executionInfo": {
     "elapsed": 320006,
     "status": "ok",
     "timestamp": 1593746190953,
     "user": {
      "displayName": "tky iw",
      "photoUrl": "https://lh3.googleusercontent.com/a-/AOh14Gi0Sa4H6uSatHCaoEQDIOQMjhXr3B6XJNWynf3QAQ=s64",
      "userId": "14648287999101461787"
     },
     "user_tz": -540
    },
    "id": "Xk70ZxtRjASn",
    "outputId": "92adb5c8-c625-4bcf-daad-0babe8383589"
   },
   "outputs": [
    {
     "name": "stdout",
     "output_type": "stream",
     "text": [
      "Model: \"sequential_1\"\n",
      "_________________________________________________________________\n",
      "Layer (type)                 Output Shape              Param #   \n",
      "=================================================================\n",
      "embedding_1 (Embedding)      (None, None, 16)          320000    \n",
      "_________________________________________________________________\n",
      "lstm_1 (LSTM)                (None, 16)                2112      \n",
      "_________________________________________________________________\n",
      "dense_1 (Dense)              (None, 1)                 17        \n",
      "=================================================================\n",
      "Total params: 322,129\n",
      "Trainable params: 322,129\n",
      "Non-trainable params: 0\n",
      "_________________________________________________________________\n"
     ]
    }
   ],
   "source": [
    "model.summary()"
   ]
  },
  {
   "cell_type": "code",
   "execution_count": 101,
   "metadata": {
    "colab": {
     "base_uri": "https://localhost:8080/",
     "height": 326
    },
    "colab_type": "code",
    "executionInfo": {
     "elapsed": 504248,
     "status": "ok",
     "timestamp": 1593746375221,
     "user": {
      "displayName": "tky iw",
      "photoUrl": "https://lh3.googleusercontent.com/a-/AOh14Gi0Sa4H6uSatHCaoEQDIOQMjhXr3B6XJNWynf3QAQ=s64",
      "userId": "14648287999101461787"
     },
     "user_tz": -540
    },
    "id": "s3rxYWk6jJ8f",
    "outputId": "be9e4ddd-aae2-4c56-dd6f-63a4b51580bc"
   },
   "outputs": [
    {
     "name": "stdout",
     "output_type": "stream",
     "text": [
      "Train...\n"
     ]
    },
    {
     "name": "stderr",
     "output_type": "stream",
     "text": [
      "/usr/local/lib/python3.6/dist-packages/tensorflow/python/framework/indexed_slices.py:434: UserWarning: Converting sparse IndexedSlices to a dense Tensor of unknown shape. This may consume a large amount of memory.\n",
      "  \"Converting sparse IndexedSlices to a dense Tensor of unknown shape. \"\n"
     ]
    },
    {
     "name": "stdout",
     "output_type": "stream",
     "text": [
      "Train on 25000 samples, validate on 25000 samples\n",
      "Epoch 1/5\n",
      "25000/25000 [==============================] - 37s 1ms/step - loss: 0.5038 - accuracy: 0.7487 - val_loss: 0.4064 - val_accuracy: 0.8183\n",
      "Epoch 2/5\n",
      "25000/25000 [==============================] - 37s 1ms/step - loss: 0.3370 - accuracy: 0.8636 - val_loss: 0.3861 - val_accuracy: 0.8295\n",
      "Epoch 3/5\n",
      "25000/25000 [==============================] - 35s 1ms/step - loss: 0.2680 - accuracy: 0.8939 - val_loss: 0.4239 - val_accuracy: 0.8212\n",
      "Epoch 4/5\n",
      "25000/25000 [==============================] - 35s 1ms/step - loss: 0.2273 - accuracy: 0.9124 - val_loss: 0.4395 - val_accuracy: 0.8160\n",
      "Epoch 5/5\n",
      "25000/25000 [==============================] - 35s 1ms/step - loss: 0.1899 - accuracy: 0.9296 - val_loss: 0.4723 - val_accuracy: 0.8043\n",
      "25000/25000 [==============================] - 5s 189us/step\n",
      "Test score: 0.4723055083179474\n",
      "Test accuracy: 0.8043199777603149\n"
     ]
    }
   ],
   "source": [
    "# try using different optimizers and different optimizer configs\n",
    "model.compile(loss='binary_crossentropy',\n",
    "              optimizer='adam',\n",
    "              metrics=['accuracy'])\n",
    "\n",
    "print('Train...')\n",
    "model.fit(x_train, y_train,\n",
    "          batch_size=batch_size,\n",
    "          epochs=5,\n",
    "          validation_data=(x_test, y_test))\n",
    "score_lstm, acc_lstm = model.evaluate(x_test, y_test,\n",
    "                            batch_size=batch_size)\n",
    "print('Test score:', score_lstm)\n",
    "print('Test accuracy:', acc_lstm)"
   ]
  },
  {
   "cell_type": "code",
   "execution_count": 104,
   "metadata": {
    "colab": {},
    "colab_type": "code",
    "executionInfo": {
     "elapsed": 851,
     "status": "ok",
     "timestamp": 1593746567988,
     "user": {
      "displayName": "tky iw",
      "photoUrl": "https://lh3.googleusercontent.com/a-/AOh14Gi0Sa4H6uSatHCaoEQDIOQMjhXr3B6XJNWynf3QAQ=s64",
      "userId": "14648287999101461787"
     },
     "user_tz": -540
    },
    "id": "Fl702ULwmPoU"
   },
   "outputs": [],
   "source": [
    "import pandas as pd\n",
    "import numpy as np"
   ]
  },
  {
   "cell_type": "code",
   "execution_count": 112,
   "metadata": {
    "colab": {
     "base_uri": "https://localhost:8080/",
     "height": 142
    },
    "colab_type": "code",
    "executionInfo": {
     "elapsed": 853,
     "status": "ok",
     "timestamp": 1593746651388,
     "user": {
      "displayName": "tky iw",
      "photoUrl": "https://lh3.googleusercontent.com/a-/AOh14Gi0Sa4H6uSatHCaoEQDIOQMjhXr3B6XJNWynf3QAQ=s64",
      "userId": "14648287999101461787"
     },
     "user_tz": -540
    },
    "id": "l1T3D9IbrgqT",
    "outputId": "f877c033-87ce-4956-c513-f4315fa2a553"
   },
   "outputs": [
    {
     "data": {
      "text/html": [
       "<div>\n",
       "<style scoped>\n",
       "    .dataframe tbody tr th:only-of-type {\n",
       "        vertical-align: middle;\n",
       "    }\n",
       "\n",
       "    .dataframe tbody tr th {\n",
       "        vertical-align: top;\n",
       "    }\n",
       "\n",
       "    .dataframe thead th {\n",
       "        text-align: right;\n",
       "    }\n",
       "</style>\n",
       "<table border=\"1\" class=\"dataframe\">\n",
       "  <thead>\n",
       "    <tr style=\"text-align: right;\">\n",
       "      <th></th>\n",
       "      <th>score</th>\n",
       "      <th>accuracy</th>\n",
       "    </tr>\n",
       "  </thead>\n",
       "  <tbody>\n",
       "    <tr>\n",
       "      <th>SimpleRNN</th>\n",
       "      <td>0.543970</td>\n",
       "      <td>0.74856</td>\n",
       "    </tr>\n",
       "    <tr>\n",
       "      <th>GRU</th>\n",
       "      <td>0.543938</td>\n",
       "      <td>0.72640</td>\n",
       "    </tr>\n",
       "    <tr>\n",
       "      <th>LSTM</th>\n",
       "      <td>0.472306</td>\n",
       "      <td>0.80432</td>\n",
       "    </tr>\n",
       "  </tbody>\n",
       "</table>\n",
       "</div>"
      ],
      "text/plain": [
       "              score  accuracy\n",
       "SimpleRNN  0.543970   0.74856\n",
       "GRU        0.543938   0.72640\n",
       "LSTM       0.472306   0.80432"
      ]
     },
     "execution_count": 112,
     "metadata": {
      "tags": []
     },
     "output_type": "execute_result"
    }
   ],
   "source": [
    "d = np.empty((3, 2))\n",
    "for i, (s, a) in enumerate(zip([score_rnn, score_gru, score_lstm], [acc_rnn, acc_gru, acc_lstm])):\n",
    "    d[i, 0] = s\n",
    "    d[i, 1] = a\n",
    "df = pd.DataFrame(d, columns=['score', 'accuracy'], index=['SimpleRNN', 'GRU', 'LSTM'])\n",
    "df"
   ]
  },
  {
   "cell_type": "markdown",
   "metadata": {
    "colab_type": "text",
    "id": "S3xCn5x7yChV"
   },
   "source": [
    "## ConvLSTM2D"
   ]
  },
  {
   "cell_type": "code",
   "execution_count": 114,
   "metadata": {
    "colab": {
     "base_uri": "https://localhost:8080/",
     "height": 1000
    },
    "colab_type": "code",
    "executionInfo": {
     "elapsed": 2302016,
     "status": "ok",
     "timestamp": 1593750518332,
     "user": {
      "displayName": "tky iw",
      "photoUrl": "https://lh3.googleusercontent.com/a-/AOh14Gi0Sa4H6uSatHCaoEQDIOQMjhXr3B6XJNWynf3QAQ=s64",
      "userId": "14648287999101461787"
     },
     "user_tz": -540
    },
    "id": "IpKsDwTKssKn",
    "outputId": "e27c6141-43fa-4bf5-8d35-87aef495d7ca"
   },
   "outputs": [
    {
     "name": "stdout",
     "output_type": "stream",
     "text": [
      "Train on 950 samples, validate on 50 samples\n",
      "Epoch 1/1\n",
      "950/950 [==============================] - 2272s 2s/step - loss: 0.2580 - val_loss: 0.3726\n"
     ]
    },
    {
     "data": {
      "image/png": "[encoded data removed]",
      "text/plain": [
       "<Figure size 720x360 with 2 Axes>"
      ]
     },
     "metadata": {
      "needs_background": "light",
      "tags": []
     },
     "output_type": "display_data"
    },
    {
     "data": {
      "image/png": "[encoded data removed]",
      "text/plain": [
       "<Figure size 720x360 with 2 Axes>"
      ]
     },
     "metadata": {
      "needs_background": "light",
      "tags": []
     },
     "output_type": "display_data"
    },
    {
     "data": {
      "image/png": "[encoded data removed]",
      "text/plain": [
       "<Figure size 720x360 with 2 Axes>"
      ]
     },
     "metadata": {
      "needs_background": "light",
      "tags": []
     },
     "output_type": "display_data"
    },
    {
     "data": {
      "image/png": "[encoded data removed]",
      "text/plain": [
       "<Figure size 720x360 with 2 Axes>"
      ]
     },
     "metadata": {
      "needs_background": "light",
      "tags": []
     },
     "output_type": "display_data"
    },
    {
     "data": {
      "image/png": "[encoded data removed]",
      "text/plain": [
       "<Figure size 720x360 with 2 Axes>"
      ]
     },
     "metadata": {
      "needs_background": "light",
      "tags": []
     },
     "output_type": "display_data"
    },
    {
     "data": {
      "image/png": "[encoded data removed]",
      "text/plain": [
       "<Figure size 720x360 with 2 Axes>"
      ]
     },
     "metadata": {
      "needs_background": "light",
      "tags": []
     },
     "output_type": "display_data"
    },
    {
     "data": {
      "image/png": "[encoded data removed]",
      "text/plain": [
       "<Figure size 720x360 with 2 Axes>"
      ]
     },
     "metadata": {
      "needs_background": "light",
      "tags": []
     },
     "output_type": "display_data"
    },
    {
     "data": {
      "image/png": "[encoded data removed]",
      "text/plain": [
       "<Figure size 720x360 with 2 Axes>"
      ]
     },
     "metadata": {
      "needs_background": "light",
      "tags": []
     },
     "output_type": "display_data"
    },
    {
     "data": {
      "image/png": "[encoded data removed]",
      "text/plain": [
       "<Figure size 720x360 with 2 Axes>"
      ]
     },
     "metadata": {
      "needs_background": "light",
      "tags": []
     },
     "output_type": "display_data"
    },
    {
     "data": {
      "image/png": "[encoded data removed]",
      "text/plain": [
       "<Figure size 720x360 with 2 Axes>"
      ]
     },
     "metadata": {
      "needs_background": "light",
      "tags": []
     },
     "output_type": "display_data"
    },
    {
     "data": {
      "image/png": "[encoded data removed]",
      "text/plain": [
       "<Figure size 720x360 with 2 Axes>"
      ]
     },
     "metadata": {
      "needs_background": "light",
      "tags": []
     },
     "output_type": "display_data"
    },
    {
     "data": {
      "image/png": "[encoded data removed]",
      "text/plain": [
       "<Figure size 720x360 with 2 Axes>"
      ]
     },
     "metadata": {
      "needs_background": "light",
      "tags": []
     },
     "output_type": "display_data"
    },
    {
     "data": {
      "image/png": "[encoded data removed]",
      "text/plain": [
       "<Figure size 720x360 with 2 Axes>"
      ]
     },
     "metadata": {
      "needs_background": "light",
      "tags": []
     },
     "output_type": "display_data"
    },
    {
     "data": {
      "image/png": "[encoded data removed]",
      "text/plain": [
       "<Figure size 720x360 with 2 Axes>"
      ]
     },
     "metadata": {
      "needs_background": "light",
      "tags": []
     },
     "output_type": "display_data"
    },
    {
     "data": {
      "image/png": "[encoded data removed]",
      "text/plain": [
       "<Figure size 720x360 with 2 Axes>"
      ]
     },
     "metadata": {
      "needs_background": "light",
      "tags": []
     },
     "output_type": "display_data"
    }
   ],
   "source": [
    "\"\"\"\n",
    "#This script demonstrates the use of a convolutional LSTM network.\n",
    "This network is used to predict the next frame of an artificially\n",
    "generated movie which contains moving squares.\n",
    "\"\"\"\n",
    "from keras.models import Sequential\n",
    "from keras.layers.convolutional import Conv3D\n",
    "from keras.layers.convolutional_recurrent import ConvLSTM2D\n",
    "from keras.layers.normalization import BatchNormalization\n",
    "import numpy as np\n",
    "import pylab as plt\n",
    "\n",
    "# We create a layer which take as input movies of shape\n",
    "# (n_frames, width, height, channels) and returns a movie\n",
    "# of identical shape.\n",
    "\n",
    "seq = Sequential()\n",
    "seq.add(ConvLSTM2D(filters=40, kernel_size=(3, 3),\n",
    "                   input_shape=(None, 40, 40, 1),\n",
    "                   padding='same', return_sequences=True))\n",
    "seq.add(BatchNormalization())\n",
    "\n",
    "seq.add(ConvLSTM2D(filters=40, kernel_size=(3, 3),\n",
    "                   padding='same', return_sequences=True))\n",
    "seq.add(BatchNormalization())\n",
    "\n",
    "seq.add(ConvLSTM2D(filters=40, kernel_size=(3, 3),\n",
    "                   padding='same', return_sequences=True))\n",
    "seq.add(BatchNormalization())\n",
    "\n",
    "seq.add(ConvLSTM2D(filters=40, kernel_size=(3, 3),\n",
    "                   padding='same', return_sequences=True))\n",
    "seq.add(BatchNormalization())\n",
    "\n",
    "seq.add(Conv3D(filters=1, kernel_size=(3, 3, 3),\n",
    "               activation='sigmoid',\n",
    "               padding='same', data_format='channels_last'))\n",
    "seq.compile(loss='binary_crossentropy', optimizer='adadelta')\n",
    "\n",
    "\n",
    "# Artificial data generation:\n",
    "# Generate movies with 3 to 7 moving squares inside.\n",
    "# The squares are of shape 1x1 or 2x2 pixels,\n",
    "# which move linearly over time.\n",
    "# For convenience we first create movies with bigger width and height (80x80)\n",
    "# and at the end we select a 40x40 window.\n",
    "\n",
    "def generate_movies(n_samples=1200, n_frames=15):\n",
    "    row = 80\n",
    "    col = 80\n",
    "    noisy_movies = np.zeros((n_samples, n_frames, row, col, 1), dtype=np.float)\n",
    "    shifted_movies = np.zeros((n_samples, n_frames, row, col, 1),\n",
    "                              dtype=np.float)\n",
    "\n",
    "    for i in range(n_samples):\n",
    "        # Add 3 to 7 moving squares\n",
    "        n = np.random.randint(3, 8)\n",
    "\n",
    "        for j in range(n):\n",
    "            # Initial position\n",
    "            xstart = np.random.randint(20, 60)\n",
    "            ystart = np.random.randint(20, 60)\n",
    "            # Direction of motion\n",
    "            directionx = np.random.randint(0, 3) - 1\n",
    "            directiony = np.random.randint(0, 3) - 1\n",
    "\n",
    "            # Size of the square\n",
    "            w = np.random.randint(2, 4)\n",
    "\n",
    "            for t in range(n_frames):\n",
    "                x_shift = xstart + directionx * t\n",
    "                y_shift = ystart + directiony * t\n",
    "                noisy_movies[i, t, x_shift - w: x_shift + w,\n",
    "                             y_shift - w: y_shift + w, 0] += 1\n",
    "\n",
    "                # Make it more robust by adding noise.\n",
    "                # The idea is that if during inference,\n",
    "                # the value of the pixel is not exactly one,\n",
    "                # we need to train the network to be robust and still\n",
    "                # consider it as a pixel belonging to a square.\n",
    "                if np.random.randint(0, 2):\n",
    "                    noise_f = (-1)**np.random.randint(0, 2)\n",
    "                    noisy_movies[i, t,\n",
    "                                 x_shift - w - 1: x_shift + w + 1,\n",
    "                                 y_shift - w - 1: y_shift + w + 1,\n",
    "                                 0] += noise_f * 0.1\n",
    "\n",
    "                # Shift the ground truth by 1\n",
    "                x_shift = xstart + directionx * (t + 1)\n",
    "                y_shift = ystart + directiony * (t + 1)\n",
    "                shifted_movies[i, t, x_shift - w: x_shift + w,\n",
    "                               y_shift - w: y_shift + w, 0] += 1\n",
    "\n",
    "    # Cut to a 40x40 window\n",
    "    noisy_movies = noisy_movies[::, ::, 20:60, 20:60, ::]\n",
    "    shifted_movies = shifted_movies[::, ::, 20:60, 20:60, ::]\n",
    "    noisy_movies[noisy_movies >= 1] = 1\n",
    "    shifted_movies[shifted_movies >= 1] = 1\n",
    "    return noisy_movies, shifted_movies\n",
    "\n",
    "# Train the network\n",
    "noisy_movies, shifted_movies = generate_movies(n_samples=1200)\n",
    "seq.fit(noisy_movies[:1000], shifted_movies[:1000], batch_size=10,\n",
    "        epochs=1, validation_split=0.05)\n",
    "\n",
    "# Testing the network on one movie\n",
    "# feed it with the first 7 positions and then\n",
    "# predict the new positions\n",
    "which = 1004\n",
    "track = noisy_movies[which][:7, ::, ::, ::]\n",
    "\n",
    "for j in range(16):\n",
    "    new_pos = seq.predict(track[np.newaxis, ::, ::, ::, ::])\n",
    "    new = new_pos[::, -1, ::, ::, ::]\n",
    "    track = np.concatenate((track, new), axis=0)\n",
    "\n",
    "\n",
    "# And then compare the predictions\n",
    "# to the ground truth\n",
    "track2 = noisy_movies[which][::, ::, ::, ::]\n",
    "for i in range(15):\n",
    "    fig = plt.figure(figsize=(10, 5))\n",
    "\n",
    "    ax = fig.add_subplot(121)\n",
    "\n",
    "    if i >= 7:\n",
    "        ax.text(1, 3, 'Predictions !', fontsize=20, color='w')\n",
    "    else:\n",
    "        ax.text(1, 3, 'Initial trajectory', fontsize=20)\n",
    "\n",
    "    toplot = track[i, ::, ::, 0]\n",
    "\n",
    "    plt.imshow(toplot)\n",
    "    ax = fig.add_subplot(122)\n",
    "    plt.text(1, 3, 'Ground truth', fontsize=20)\n",
    "\n",
    "    toplot = track2[i, ::, ::, 0]\n",
    "    if i >= 2:\n",
    "        toplot = shifted_movies[which][i - 1, ::, ::, 0]\n",
    "\n",
    "    plt.imshow(toplot)\n",
    "    plt.savefig('%i_animate.png' % (i + 1))"
   ]
  },
  {
   "cell_type": "markdown",
   "metadata": {
    "colab_type": "text",
    "id": "hPc75Guf5W_x"
   },
   "source": [
    "# 【問題2】（アドバンス課題）複数のデータセット間での比較\n",
    "他のデータセットでも実験を行なってください。\n",
    "\n",
    "\n",
    "[データセット - Keras Documentation](https://keras.io/ja/datasets/#_5)\n",
    "\n",
    "\n",
    "Kerasで簡単に利用できる自然言語データセットとしてロイターのニュースワイヤー トピックス分類があります。"
   ]
  },
  {
   "cell_type": "code",
   "execution_count": 273,
   "metadata": {
    "colab": {},
    "colab_type": "code",
    "executionInfo": {
     "elapsed": 851,
     "status": "ok",
     "timestamp": 1593764488922,
     "user": {
      "displayName": "tky iw",
      "photoUrl": "https://lh3.googleusercontent.com/a-/AOh14Gi0Sa4H6uSatHCaoEQDIOQMjhXr3B6XJNWynf3QAQ=s64",
      "userId": "14648287999101461787"
     },
     "user_tz": -540
    },
    "id": "dfQyI3nNOPxB"
   },
   "outputs": [],
   "source": [
    "max_features = 2000\n",
    "# cut texts after this number of words (among top max_features most common words)\n",
    "maxlen = 100\n",
    "batch_size = 18"
   ]
  },
  {
   "cell_type": "code",
   "execution_count": 274,
   "metadata": {
    "colab": {},
    "colab_type": "code",
    "executionInfo": {
     "elapsed": 1316,
     "status": "ok",
     "timestamp": 1593764490860,
     "user": {
      "displayName": "tky iw",
      "photoUrl": "https://lh3.googleusercontent.com/a-/AOh14Gi0Sa4H6uSatHCaoEQDIOQMjhXr3B6XJNWynf3QAQ=s64",
      "userId": "14648287999101461787"
     },
     "user_tz": -540
    },
    "id": "s6PqMWrXVaIr"
   },
   "outputs": [],
   "source": [
    "from keras.datasets import reuters\n",
    "\n",
    "(x_train, y_train), (x_test, y_test) = reuters.load_data(path=\"reuters.npz\",\n",
    "                                                         num_words=max_features,\n",
    "                                                         skip_top=0,\n",
    "                                                         maxlen=None,\n",
    "                                                         test_split=0.2,\n",
    "                                                         seed=113,\n",
    "                                                         start_char=1,\n",
    "                                                         oov_char=2,\n",
    "                                                         index_from=3)"
   ]
  },
  {
   "cell_type": "code",
   "execution_count": 275,
   "metadata": {
    "colab": {
     "base_uri": "https://localhost:8080/",
     "height": 68
    },
    "colab_type": "code",
    "executionInfo": {
     "elapsed": 1170,
     "status": "ok",
     "timestamp": 1593764491339,
     "user": {
      "displayName": "tky iw",
      "photoUrl": "https://lh3.googleusercontent.com/a-/AOh14Gi0Sa4H6uSatHCaoEQDIOQMjhXr3B6XJNWynf3QAQ=s64",
      "userId": "14648287999101461787"
     },
     "user_tz": -540
    },
    "id": "yqOkrjWNVYyx",
    "outputId": "7458c49f-63ed-4334-b639-dfcacf430b41"
   },
   "outputs": [
    {
     "name": "stdout",
     "output_type": "stream",
     "text": [
      "Pad sequences (samples x time)\n",
      "x_train shape: (8982, 100)\n",
      "x_test shape: (2246, 100)\n"
     ]
    }
   ],
   "source": [
    "print('Pad sequences (samples x time)')\n",
    "x_train = sequence.pad_sequences(x_train, maxlen=maxlen)\n",
    "x_test = sequence.pad_sequences(x_test, maxlen=maxlen)\n",
    "print('x_train shape:', x_train.shape)\n",
    "print('x_test shape:', x_test.shape)"
   ]
  },
  {
   "cell_type": "code",
   "execution_count": 276,
   "metadata": {
    "colab": {},
    "colab_type": "code",
    "executionInfo": {
     "elapsed": 995,
     "status": "ok",
     "timestamp": 1593764492688,
     "user": {
      "displayName": "tky iw",
      "photoUrl": "https://lh3.googleusercontent.com/a-/AOh14Gi0Sa4H6uSatHCaoEQDIOQMjhXr3B6XJNWynf3QAQ=s64",
      "userId": "14648287999101461787"
     },
     "user_tz": -540
    },
    "id": "fF2mKjwuVmYs"
   },
   "outputs": [],
   "source": [
    "from keras.utils import to_categorical\n",
    "y_train = to_categorical(y_train)\n",
    "y_test = to_categorical(y_test)\n",
    "num_classes = y_train.shape[1]"
   ]
  },
  {
   "cell_type": "code",
   "execution_count": 277,
   "metadata": {
    "colab": {
     "base_uri": "https://localhost:8080/",
     "height": 272
    },
    "colab_type": "code",
    "executionInfo": {
     "elapsed": 861,
     "status": "ok",
     "timestamp": 1593764495884,
     "user": {
      "displayName": "tky iw",
      "photoUrl": "https://lh3.googleusercontent.com/a-/AOh14Gi0Sa4H6uSatHCaoEQDIOQMjhXr3B6XJNWynf3QAQ=s64",
      "userId": "14648287999101461787"
     },
     "user_tz": -540
    },
    "id": "o689ilSUVeJ1",
    "outputId": "88152955-8f9a-4f63-9473-fb2260a20024"
   },
   "outputs": [
    {
     "name": "stdout",
     "output_type": "stream",
     "text": [
      "Build model...\n",
      "Model: \"sequential_1\"\n",
      "_________________________________________________________________\n",
      "Layer (type)                 Output Shape              Param #   \n",
      "=================================================================\n",
      "embedding_1 (Embedding)      (None, None, 128)         256000    \n",
      "_________________________________________________________________\n",
      "lstm_1 (LSTM)                (None, 128)               131584    \n",
      "_________________________________________________________________\n",
      "dense_1 (Dense)              (None, 46)                5934      \n",
      "=================================================================\n",
      "Total params: 393,518\n",
      "Trainable params: 393,518\n",
      "Non-trainable params: 0\n",
      "_________________________________________________________________\n"
     ]
    }
   ],
   "source": [
    "K.clear_session()\n",
    "\n",
    "print('Build model...')\n",
    "model = Sequential()\n",
    "model.add(Embedding(max_features, 128))\n",
    "model.add(LSTM(128, dropout=0.2, recurrent_dropout=0.2))\n",
    "model.add(Dense(num_classes, activation='softmax'))\n",
    "model.summary()"
   ]
  },
  {
   "cell_type": "code",
   "execution_count": 278,
   "metadata": {
    "colab": {
     "base_uri": "https://localhost:8080/",
     "height": 496
    },
    "colab_type": "code",
    "executionInfo": {
     "elapsed": 740137,
     "status": "ok",
     "timestamp": 1593765240643,
     "user": {
      "displayName": "tky iw",
      "photoUrl": "https://lh3.googleusercontent.com/a-/AOh14Gi0Sa4H6uSatHCaoEQDIOQMjhXr3B6XJNWynf3QAQ=s64",
      "userId": "14648287999101461787"
     },
     "user_tz": -540
    },
    "id": "embsDYtdWQ5F",
    "outputId": "81489c50-d331-4b60-9867-e7a57ef86aff"
   },
   "outputs": [
    {
     "name": "stdout",
     "output_type": "stream",
     "text": [
      "Train...\n"
     ]
    },
    {
     "name": "stderr",
     "output_type": "stream",
     "text": [
      "/usr/local/lib/python3.6/dist-packages/tensorflow/python/framework/indexed_slices.py:434: UserWarning: Converting sparse IndexedSlices to a dense Tensor of unknown shape. This may consume a large amount of memory.\n",
      "  \"Converting sparse IndexedSlices to a dense Tensor of unknown shape. \"\n"
     ]
    },
    {
     "name": "stdout",
     "output_type": "stream",
     "text": [
      "Train on 8982 samples, validate on 2246 samples\n",
      "Epoch 1/10\n",
      "8982/8982 [==============================] - 73s 8ms/step - loss: 2.1320 - accuracy: 0.4594 - val_loss: 1.8171 - val_accuracy: 0.5410\n",
      "Epoch 2/10\n",
      "8982/8982 [==============================] - 72s 8ms/step - loss: 1.7660 - accuracy: 0.5480 - val_loss: 1.6771 - val_accuracy: 0.5859\n",
      "Epoch 3/10\n",
      "8982/8982 [==============================] - 73s 8ms/step - loss: 1.5969 - accuracy: 0.5934 - val_loss: 1.8539 - val_accuracy: 0.5819\n",
      "Epoch 4/10\n",
      "8982/8982 [==============================] - 73s 8ms/step - loss: 1.4395 - accuracy: 0.6391 - val_loss: 1.3921 - val_accuracy: 0.6518\n",
      "Epoch 5/10\n",
      "8982/8982 [==============================] - 74s 8ms/step - loss: 1.2525 - accuracy: 0.6819 - val_loss: 1.2973 - val_accuracy: 0.6701\n",
      "Epoch 6/10\n",
      "8982/8982 [==============================] - 73s 8ms/step - loss: 1.1246 - accuracy: 0.7136 - val_loss: 1.2047 - val_accuracy: 0.6937\n",
      "Epoch 7/10\n",
      "8982/8982 [==============================] - 73s 8ms/step - loss: 1.0072 - accuracy: 0.7405 - val_loss: 1.1601 - val_accuracy: 0.7124\n",
      "Epoch 8/10\n",
      "8982/8982 [==============================] - 75s 8ms/step - loss: 0.9041 - accuracy: 0.7643 - val_loss: 1.1147 - val_accuracy: 0.7280\n",
      "Epoch 9/10\n",
      "8982/8982 [==============================] - 74s 8ms/step - loss: 0.8189 - accuracy: 0.7937 - val_loss: 1.0847 - val_accuracy: 0.7275\n",
      "Epoch 10/10\n",
      "8982/8982 [==============================] - 73s 8ms/step - loss: 0.7437 - accuracy: 0.8113 - val_loss: 1.0978 - val_accuracy: 0.7253\n",
      "2246/2246 [==============================] - 4s 2ms/step\n",
      "Test score: 1.0978461570327873\n",
      "Test accuracy: 0.7252894043922424\n"
     ]
    }
   ],
   "source": [
    "# try using different optimizers and different optimizer configs\n",
    "model.compile(loss='categorical_crossentropy',\n",
    "              optimizer='adam',\n",
    "              metrics=['accuracy'])\n",
    "\n",
    "print('Train...')\n",
    "model.fit(x_train, y_train,\n",
    "          batch_size=batch_size,\n",
    "          epochs=10,\n",
    "          validation_data=(x_test, y_test))\n",
    "score_rnn, acc_rnn = model.evaluate(x_test, y_test,\n",
    "                            batch_size=batch_size)\n",
    "print('Test score:', score_rnn)\n",
    "print('Test accuracy:', acc_rnn)"
   ]
  },
  {
   "cell_type": "markdown",
   "metadata": {
    "colab_type": "text",
    "id": "HeTiQKDXYh6S"
   },
   "source": [
    "# 【問題3】他のクラスの説明\n",
    "ドキュメントには他にも関連するクラスが記載されています。それらがどういうものなのかを説明してください。この中には実際に扱うことは少ないクラスも含まれています。\n",
    "\n",
    "\n",
    "- RNN  \n",
    "リカレントレイヤーの基本クラス。\n",
    "\n",
    "- SimpleRNNCell  \n",
    "SimpleRNNのCellクラス．  \n",
    "\n",
    "- GRUCell  \n",
    "GRUレイヤーのためのCellクラス\n",
    "\n",
    "- LSTMCell  \n",
    "LSTMレイヤーのためのcellクラス．\n",
    "\n",
    "- StackedRNNCells  \n",
    "RNN cellのスタックの振る舞いを単一のcellのようにするためのラッパー．  \n",
    "効率的なstacked RNNを実装するために使われます．\n",
    "\n",
    "- CuDNNGRU  \n",
    "CuDNNを利用した高速なGRU実装．  \n",
    "TensorFlowバックエンドでGPU上でのみ動作します．\n",
    "\n",
    "- CuDNNLSTM  \n",
    "CuDNNを利用した高速なLSTM実装．  \n",
    "TensorFlowバックエンドでGPU上でのみ動作します．  \n"
   ]
  },
  {
   "cell_type": "code",
   "execution_count": 226,
   "metadata": {
    "colab": {},
    "colab_type": "code",
    "executionInfo": {
     "elapsed": 117695,
     "status": "ok",
     "timestamp": 1593757730826,
     "user": {
      "displayName": "tky iw",
      "photoUrl": "https://lh3.googleusercontent.com/a-/AOh14Gi0Sa4H6uSatHCaoEQDIOQMjhXr3B6XJNWynf3QAQ=s64",
      "userId": "14648287999101461787"
     },
     "user_tz": -540
    },
    "id": "IFycpfdgWp4T"
   },
   "outputs": [],
   "source": []
  }
 ],
 "metadata": {
  "accelerator": "GPU",
  "colab": {
   "authorship_tag": "ABX9TyOwoHROQjA+bzHNIsIV8Bti",
   "collapsed_sections": [],
   "name": "Untitled0.ipynb",
   "provenance": []
  },
  "kernelspec": {
   "display_name": "Python 3",
   "language": "python",
   "name": "python3"
  },
  "language_info": {
   "codemirror_mode": {
    "name": "ipython",
    "version": 3
   },
   "file_extension": ".py",
   "mimetype": "text/x-python",
   "name": "python",
   "nbconvert_exporter": "python",
   "pygments_lexer": "ipython3",
   "version": "3.7.6"
  }
 },
 "nbformat": 4,
 "nbformat_minor": 4
}
