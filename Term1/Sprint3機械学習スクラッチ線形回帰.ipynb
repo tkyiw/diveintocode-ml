{
 "cells": [
  {
   "cell_type": "markdown",
   "metadata": {},
   "source": [
    "# 1.このSprintについて\n",
    "\n",
    "Sprintの目的\n",
    "- スクラッチを通して線形回帰を理解する\n",
    "- オブジェクト指向を意識した実装に慣れる\n",
    "- 数式をコードに落とし込めるようにする\n",
    "\n",
    "どのように学ぶか\n",
    "- スクラッチで線形回帰を実装した後、学習と検証を行なっていきます。"
   ]
  },
  {
   "cell_type": "code",
   "execution_count": 1,
   "metadata": {},
   "outputs": [],
   "source": [
    "import numpy as np\n",
    "import pandas as pd\n",
    "import warnings\n",
    "warnings.filterwarnings('ignore')\n",
    "import matplotlib.pyplot as plt\n",
    "import seaborn as sns\n",
    "from sklearn.model_selection import train_test_split"
   ]
  },
  {
   "cell_type": "markdown",
   "metadata": {},
   "source": [
    "# 【問題1】仮定関数\n",
    "以下の数式で表される線形回帰の仮定関数を実装してください。メソッドの雛形を用意してあります。\n",
    "\n",
    "$$\n",
    "h_\\theta(x) =  \\theta_0 x_0 + \\theta_1 x_1 + ... + \\theta_j x_j + ... +\\theta_n x_n.   (x_0 = 1)\\\\\n",
    "$$\n",
    "\n",
    "$x$ : 特徴量ベクトル\n",
    "\n",
    "\n",
    "$\\theta$ : パラメータベクトル\n",
    "\n",
    "\n",
    "$n$ : 特徴量の数\n",
    "\n",
    "\n",
    "$x_j$ : j番目の特徴量\n",
    "\n",
    "\n",
    "$\\theta_j$ : j番目のパラメータ（重み）\n",
    "\n",
    "\n",
    "特徴量の数$n$は任意の値に対応できる実装にしてください。\n",
    "\n",
    "\n",
    "なお、ベクトル形式で表すと以下のようになります。\n",
    "\n",
    "$$\n",
    "h_\\theta(x) = \\theta^T \\cdot x.\n",
    "$$\n",
    "雛形\n",
    "\n",
    "\n",
    "クラスの外から呼び出すことがないメソッドのため、Pythonの慣例としてアンダースコアを先頭にひとつつけています。"
   ]
  },
  {
   "cell_type": "markdown",
   "metadata": {},
   "source": [
    "# 【問題2】最急降下法\n",
    "最急降下法により学習させる実装を行なってください。以下の式で表されるパラメータの更新式のメソッド_gradient_descentを追加し、fit\n",
    "メソッドから呼び出すようにしてください。\n",
    "\n",
    "$$\n",
    "\\theta_j := \\theta_j - \\alpha \\frac{1}{m} \\sum_{i=1}^{m}[(h_\\theta(x^{(i)}) - y^{(i)} )x_{j}^{(i)}]\n",
    "$$\n",
    "\n",
    "$\\alpha$ : 学習率\n",
    "\n",
    "\n",
    "$i$ : サンプルのインデックス\n",
    "\n",
    "\n",
    "$j$ : 特徴量のインデックス\n",
    "\n",
    "移動先の地点 = 今いる地点 - α ×今いる地点の勾配\n",
    "\n",
    ":= 代入演算子"
   ]
  },
  {
   "cell_type": "markdown",
   "metadata": {},
   "source": [
    "# 【問題3】推定\n",
    "推定する仕組みを実装してください。ScratchLinearRegressionクラスの雛形に含まれるpredictメソッドに書き加えてください。\n",
    "\n",
    "\n",
    "仮定関数 $h_\\theta(x)$ の出力が推定結果です。"
   ]
  },
  {
   "cell_type": "markdown",
   "metadata": {},
   "source": [
    "# 【問題4】平均二乗誤差\n",
    "線形回帰の指標値として用いられる平均二乗誤差（mean square error, MSE）の関数を作成してください。\n",
    "\n",
    "\n",
    "平均二乗誤差関数は回帰問題全般で使える関数のため、ScratchLinearRegressionクラスのメソッドではなく、別の関数として作成してください。雛形を用意してあります。\n",
    "\n",
    "\n",
    "平均二乗誤差は以下の数式で表されます。\n",
    "\n",
    "$$\n",
    "L(\\theta)=  \\frac{1 }{ m}  \\sum_{i=1}^{m} (h_\\theta(x^{(i)})-y^{(i)})^2.\n",
    "$$\n",
    "\n",
    "$m$ : 入力されるデータの数\n",
    "\n",
    "\n",
    "$h_\\theta()$ : 仮定関数\n",
    "\n",
    "\n",
    "$x^{(i)}$ : i番目のサンプルの特徴量ベクトル\n",
    "\n",
    "\n",
    "$y^{(i)}$ : i番目のサンプルの正解値\n",
    "\n",
    "\n",
    "なお、最急降下法のための目的関数（損失関数）としては、これを2で割ったものを使用します。（問題5, 9）"
   ]
  },
  {
   "cell_type": "code",
   "execution_count": 2,
   "metadata": {},
   "outputs": [],
   "source": [
    "def MSE(y_pred, y):\n",
    "    \"\"\"\n",
    "    平均二乗誤差の計算\n",
    "\n",
    "    Parameters\n",
    "    ----------\n",
    "    y_pred : 次の形のndarray, shape (n_samples,)\n",
    "      推定した値\n",
    "    y : 次の形のndarray, shape (n_samples,)\n",
    "      正解値\n",
    "\n",
    "    Returns\n",
    "    ----------\n",
    "    mse : numpy.float\n",
    "      平均二乗誤差\n",
    "    \"\"\"\n",
    "    return np.mean(np.power(y_pred - y, 2))"
   ]
  },
  {
   "cell_type": "markdown",
   "metadata": {},
   "source": [
    "# 【問題5】目的関数\n",
    "以下の数式で表される線形回帰の 目的関数（損失関数） を実装してください。そして、これをself.loss, self.val_lossに記録するようにしてください。\n",
    "\n",
    "\n",
    "目的関数（損失関数） $J(\\theta)$ は次の式です。\n",
    "$$\n",
    "J(\\theta)=  \\frac{1 }{ 2m}  \\sum_{i=1}^{m} (h_\\theta(x^{(i)})-y^{(i)})^2.\n",
    "$$\n",
    "\n",
    "\n",
    "$m$ : 入力されるデータの数\n",
    "\n",
    "\n",
    "$h_\\theta()$ : 仮定関数\n",
    "\n",
    "\n",
    "$x^{(i)}$ : i番目のサンプルの特徴量ベクトル\n",
    "\n",
    "\n",
    "$y^{(i)}$ : i番目のサンプルの正解値"
   ]
  },
  {
   "cell_type": "code",
   "execution_count": 3,
   "metadata": {},
   "outputs": [],
   "source": [
    "class ScratchLinearRegression():\n",
    "    \"\"\"\n",
    "    線形回帰のスクラッチ実装\n",
    "\n",
    "    Parameters\n",
    "    ----------\n",
    "    num_iter : int\n",
    "      イテレーション数\n",
    "    lr : float\n",
    "      学習率\n",
    "    no_bias : bool\n",
    "      バイアス項を入れない場合はTrue\n",
    "    verbose : bool\n",
    "      学習過程を出力する場合はTrue\n",
    "\n",
    "    Attributes\n",
    "    ----------\n",
    "    self.coef_ : 次の形のndarray, shape (n_features,)\n",
    "      パラメータ\n",
    "    self.loss : 次の形のndarray, shape (self.iter,)\n",
    "      訓練データに対する損失の記録\n",
    "    self.val_loss : 次の形のndarray, shape (self.iter,)\n",
    "      検証データに対する損失の記録\n",
    "\n",
    "    \"\"\"\n",
    "    def __init__(self, num_iter, lr, no_bias, verbose):\n",
    "        # ハイパーパラメータを属性として記録\n",
    "        self.iter = num_iter\n",
    "        self.lr = lr\n",
    "        self.no_bias = no_bias\n",
    "        self.verbose = verbose\n",
    "        # 損失を記録する配列を用意\n",
    "        self.loss = np.zeros(self.iter)\n",
    "        self.val_loss = np.zeros(self.iter)\n",
    "        \n",
    "    def fit(self, X, y, X_val=None, y_val=None):\n",
    "        \"\"\"\n",
    "        線形回帰を学習する。検証データが入力された場合はそれに対する損失と精度もイテレーションごとに計算する。\n",
    "\n",
    "        Parameters\n",
    "        ----------\n",
    "        X : 次の形のndarray, shape (n_samples, n_features)\n",
    "            訓練データの特徴量\n",
    "        y : 次の形のndarray, shape (n_samples, )\n",
    "            訓練データの正解値\n",
    "        X_val : 次の形のndarray, shape (n_samples, n_features)\n",
    "            検証データの特徴量\n",
    "        y_val : 次の形のndarray, shape (n_samples, )\n",
    "            検証データの正解値\n",
    "        \"\"\"\n",
    "        # バイアスの有無\n",
    "        if not self.no_bias:\n",
    "            X = np.insert(X, 0, 1, axis=1)\n",
    "            if X_val is not None:\n",
    "                X_val = np.insert(X_val, 0, 1, axis=1)\n",
    "                \n",
    "        # 係数の初期値を標準正規分布に従った乱数で生成\n",
    "        self.coef_ = np.random.normal(loc=0, # 平均\n",
    "                                      scale=1, # 標準偏差\n",
    "                                      size=X.shape[1]).reshape(-1, 1)\n",
    "        \n",
    "        # イテレーション数回行う処理\n",
    "        for i in range(self.iter):\n",
    "            # 係数の更新\n",
    "            self.coef_ = self._gradient_descent(X, y)\n",
    "            # 目的関数\n",
    "            self.loss[i] = MSE(self._linear_hypothesis(X), y) / 2         \n",
    "            if X_val is not None:\n",
    "                self.val_loss[i] = MSE(self._linear_hypothesis(X_val), y_val) / 2\n",
    "            #verboseをTrueにした際は学習過程を出力    \n",
    "            if self.verbose:\n",
    "                print(f'train_loss：{self.loss[i]}')\n",
    "                if X_val is not None:\n",
    "                    print(f'val_loss：{self.val_loss[i]}')\n",
    "            \n",
    "    def _linear_hypothesis(self, X):\n",
    "        \"\"\"\n",
    "        線形の仮定関数を計算する\n",
    "\n",
    "        Parameters\n",
    "        ----------\n",
    "        X : 次の形のndarray, shape (n_samples, n_features)\n",
    "          訓練データ\n",
    "\n",
    "        Returns\n",
    "        -------\n",
    "          次の形のndarray, shape (n_samples, 1)\n",
    "          線形の仮定関数による推定結果\n",
    "\n",
    "        \"\"\"\n",
    "        return X @ self.coef_\n",
    "    \n",
    "    def _gradient_descent(self, X, y):\n",
    "        \"\"\"\n",
    "        最急降下法により学習させる\n",
    "        \"\"\"\n",
    "        self.coef_ = self.coef_ - (self.lr / X.shape[0]) * X.T @ (self._linear_hypothesis(X) - y) \n",
    "        \n",
    "        return self.coef_\n",
    "\n",
    "    def predict(self, X):\n",
    "        \"\"\"\n",
    "        線形回帰を使い推定する。\n",
    "\n",
    "        Parameters\n",
    "        ----------\n",
    "        X : 次の形のndarray, shape (n_samples, n_features)\n",
    "            サンプル\n",
    "\n",
    "        Returns\n",
    "        -------\n",
    "            次の形のndarray, shape (n_samples, 1)\n",
    "            線形回帰による推定結果\n",
    "        \"\"\"\n",
    "        if not self.no_bias:\n",
    "            X = np.insert(X, 0, 1, axis=1)\n",
    "        return self._linear_hypothesis(X).ravel()"
   ]
  },
  {
   "cell_type": "markdown",
   "metadata": {},
   "source": [
    "# 【問題6】学習と推定\n",
    "機械学習スクラッチ入門のSprintで用意したHouse Pricesコンペティションのデータに対してスクラッチ実装の学習と推定を行なってください。\n",
    "\n",
    "\n",
    "scikit-learnによる実装と比べ、正しく動いているかを確認してください。"
   ]
  },
  {
   "cell_type": "code",
   "execution_count": 4,
   "metadata": {},
   "outputs": [],
   "source": [
    "# データの読み込み\n",
    "train = pd.read_csv('../kaggledata/train.csv')\n",
    "X = train[['GrLivArea', 'YearBuilt']].values\n",
    "y = train[['SalePrice']].values\n",
    "\n",
    "# 分割\n",
    "X_train, X_test, y_train, y_test = train_test_split(X, y, random_state=0)\n",
    "\n",
    "# 標準化\n",
    "from sklearn.preprocessing import StandardScaler\n",
    "sc = StandardScaler()\n",
    "sc.fit(X_train)\n",
    "X_train_std = sc.transform(X_train)\n",
    "X_test_std = sc.transform(X_test)"
   ]
  },
  {
   "cell_type": "markdown",
   "metadata": {},
   "source": [
    "### ・スクラッチによる推定"
   ]
  },
  {
   "cell_type": "code",
   "execution_count": 5,
   "metadata": {},
   "outputs": [],
   "source": [
    "# 学習\n",
    "slr = ScratchLinearRegression(1000, 0.01, no_bias=False, verbose=False)\n",
    "slr.fit(X_train_std, y_train, X_test_std, y_test)\n",
    "\n",
    "# 推定\n",
    "slr_pred = slr.predict(X_test_std)"
   ]
  },
  {
   "cell_type": "markdown",
   "metadata": {},
   "source": [
    "### ・SGDRegressorによる推定"
   ]
  },
  {
   "cell_type": "code",
   "execution_count": 6,
   "metadata": {},
   "outputs": [],
   "source": [
    "from sklearn.linear_model import SGDRegressor\n",
    "\n",
    "# 学習\n",
    "sgdr = SGDRegressor(random_state=0)\n",
    "sgdr.fit(X_train_std, y_train)\n",
    "\n",
    "# 推定\n",
    "sgdr_pred = sgdr.predict(X_test_std)"
   ]
  },
  {
   "cell_type": "markdown",
   "metadata": {},
   "source": [
    "### ・比較"
   ]
  },
  {
   "cell_type": "code",
   "execution_count": 7,
   "metadata": {},
   "outputs": [
    {
     "name": "stdout",
     "output_type": "stream",
     "text": [
      "Scratch_predict：[264115 155082 127485 236339 138409  67991 212568 130905]\n",
      "sklearn_predict：[263565 154984 127646 236171 138739  68051 212869 130902]\n"
     ]
    }
   ],
   "source": [
    "print(f'Scratch_predict：{slr_pred[:8].astype(int)}')\n",
    "print(f'sklearn_predict：{sgdr_pred[:8].astype(int)}')"
   ]
  },
  {
   "cell_type": "code",
   "execution_count": 8,
   "metadata": {},
   "outputs": [
    {
     "data": {
      "text/plain": [
       "334.144266710375"
      ]
     },
     "execution_count": 8,
     "metadata": {},
     "output_type": "execute_result"
    }
   ],
   "source": [
    "# RMSE\n",
    "MSE(slr_pred, sgdr_pred)**.5"
   ]
  },
  {
   "cell_type": "code",
   "execution_count": 9,
   "metadata": {},
   "outputs": [
    {
     "data": {
      "image/png": "[encoded data removed]",
      "text/plain": [
       "<Figure size 432x288 with 1 Axes>"
      ]
     },
     "metadata": {
      "needs_background": "light"
     },
     "output_type": "display_data"
    }
   ],
   "source": [
    "plt.title('Comparison of prediction results')\n",
    "plt.xlabel('index')\n",
    "plt.ylabel('price')\n",
    "plt.plot(slr_pred, linestyle='None', marker='o', alpha=0.3, color='b', label='scratch')\n",
    "plt.plot(sgdr_pred, linestyle='None', marker='o', alpha=0.3, color='r', label='sklearn')\n",
    "plt.legend();"
   ]
  },
  {
   "cell_type": "markdown",
   "metadata": {},
   "source": [
    ">ほぼ同じ予測ができている。"
   ]
  },
  {
   "cell_type": "markdown",
   "metadata": {},
   "source": [
    "# 【問題7】学習曲線のプロット\n",
    "学習曲線を表示する関数を作成し、実行してください。グラフを見て損失が適切に下がっているかどうか確認してください。\n",
    "\n",
    "\n",
    "線形回帰クラスの雛形ではself.loss, self.val_lossに損失を記録しておくようになっているため、入力にはこれを利用してください。"
   ]
  },
  {
   "cell_type": "code",
   "execution_count": 10,
   "metadata": {},
   "outputs": [
    {
     "data": {
      "image/png": "[encoded data removed]",
      "text/plain": [
       "<Figure size 432x288 with 1 Axes>"
      ]
     },
     "metadata": {
      "needs_background": "light"
     },
     "output_type": "display_data"
    }
   ],
   "source": [
    "plt.title('model loss')\n",
    "plt.xlabel('iter')\n",
    "plt.ylabel('loss')\n",
    "plt.plot(slr.loss, label=('train'), linestyle='--')\n",
    "plt.plot(slr.val_loss, label=('test'), linestyle='--')\n",
    "plt.legend();"
   ]
  },
  {
   "cell_type": "markdown",
   "metadata": {},
   "source": [
    "# 【問題8】（アドバンス課題）バイアス項の除去\n",
    "バイアス項 $\\theta_0$ を抜くと学習がどう変化するか検証してください。また、線形回帰モデルにおけるバイアス項の役割の考察・調査を行ってください。"
   ]
  },
  {
   "cell_type": "code",
   "execution_count": 11,
   "metadata": {},
   "outputs": [],
   "source": [
    "# 学習\n",
    "slr_nobias = ScratchLinearRegression(1000, 0.01, no_bias=True, verbose=False)\n",
    "slr_nobias.fit(X_train_std, y_train, X_test_std, y_test)\n",
    "\n",
    "# 推定\n",
    "slr_pred_nobias = slr_nobias.predict(X_test_std)"
   ]
  },
  {
   "cell_type": "code",
   "execution_count": 12,
   "metadata": {
    "scrolled": true
   },
   "outputs": [
    {
     "data": {
      "image/png": "[encoded data removed]",
      "text/plain": [
       "<Figure size 1080x288 with 3 Axes>"
      ]
     },
     "metadata": {
      "needs_background": "light"
     },
     "output_type": "display_data"
    }
   ],
   "source": [
    "plt.figure(figsize=(15, 4))\n",
    "plt.subplot(131)\n",
    "plt.plot(slr.loss, label='on_bias')\n",
    "plt.plot(slr_nobias.loss, label='off_bias')\n",
    "plt.legend()\n",
    "plt.subplot(132)\n",
    "plt.scatter(X[:, 0], y)\n",
    "plt.subplot(133)\n",
    "plt.scatter(X[:, 1], y);"
   ]
  },
  {
   "cell_type": "markdown",
   "metadata": {},
   "source": [
    ">バイアス項がないとすぐに目的関数が収束し、学習が進まなかった。理由は、バイアス項がない一次関数は原点(0, 0)を通る直線となるが、今回のサンプルプロット図からわかるように誤差が最小となる直線を原点を通る直線で表現することは難しい。そのため学習が不十分なまま収束したものと考えられる。"
   ]
  },
  {
   "cell_type": "markdown",
   "metadata": {},
   "source": [
    "# 【問題9】（アドバンス課題）特徴量の多次元化\n",
    "特徴量の二乗や三乗を入力に利用すると学習結果がどう変化するか検証してください。"
   ]
  },
  {
   "cell_type": "markdown",
   "metadata": {},
   "source": [
    "### ・特徴量を二乗"
   ]
  },
  {
   "cell_type": "code",
   "execution_count": 13,
   "metadata": {},
   "outputs": [],
   "source": [
    "# データの読み込み\n",
    "train = pd.read_csv('../kaggledata/train.csv')\n",
    "X = train[['GrLivArea', 'YearBuilt']].values\n",
    "y = train[['SalePrice']].values\n",
    "\n",
    "X[:, 0] = X[:, 0]**2\n",
    "X[:, 1] = X[:, 1]**2\n",
    "\n",
    "# 分割\n",
    "X_train, X_test, y_train, y_test = train_test_split(X, y, random_state=0)\n",
    "\n",
    "# 標準化\n",
    "from sklearn.preprocessing import StandardScaler\n",
    "sc = StandardScaler()\n",
    "sc.fit(X_train)\n",
    "X_train_std = sc.transform(X_train)\n",
    "X_test_std = sc.transform(X_test)\n",
    "\n",
    "# 学習\n",
    "slr_squared = ScratchLinearRegression(1000, 0.01, no_bias=False, verbose=False)\n",
    "slr_squared.fit(X_train_std, y_train, X_test_std, y_test)\n",
    "\n",
    "# 推定\n",
    "slr_squared_pred = slr_squared.predict(X_test_std)"
   ]
  },
  {
   "cell_type": "code",
   "execution_count": 14,
   "metadata": {},
   "outputs": [
    {
     "data": {
      "text/plain": [
       "-1223542172.9060974"
      ]
     },
     "execution_count": 14,
     "metadata": {},
     "output_type": "execute_result"
    }
   ],
   "source": [
    "MSE(slr_pred, y_test) - MSE(slr_squared_pred, y_test)"
   ]
  },
  {
   "cell_type": "markdown",
   "metadata": {},
   "source": [
    ">二乗することによって、精度が悪化した。逆に平方根を取るとどうなるのか.."
   ]
  },
  {
   "cell_type": "markdown",
   "metadata": {},
   "source": [
    "### ・特徴量の平方根"
   ]
  },
  {
   "cell_type": "code",
   "execution_count": 15,
   "metadata": {},
   "outputs": [],
   "source": [
    "# データの読み込み\n",
    "train = pd.read_csv('../kaggledata/train.csv')\n",
    "X = train[['GrLivArea', 'YearBuilt']].values\n",
    "y = train[['SalePrice']].values\n",
    "\n",
    "X[:, 0] = X[:, 0]**.5\n",
    "X[:, 1] = X[:, 1]**.5\n",
    "\n",
    "# 分割\n",
    "X_train, X_test, y_train, y_test = train_test_split(X, y, random_state=0)\n",
    "\n",
    "# 標準化\n",
    "from sklearn.preprocessing import StandardScaler\n",
    "sc = StandardScaler()\n",
    "sc.fit(X_train)\n",
    "X_train_std = sc.transform(X_train)\n",
    "X_test_std = sc.transform(X_test)\n",
    "\n",
    "# 学習\n",
    "slr_sqrt = ScratchLinearRegression(1000, 0.01, no_bias=False, verbose=False)\n",
    "slr_sqrt.fit(X_train_std, y_train, X_test_std, y_test)\n",
    "\n",
    "# 推定\n",
    "slr_sqrt_pred = slr_sqrt.predict(X_test_std)"
   ]
  },
  {
   "cell_type": "code",
   "execution_count": 16,
   "metadata": {},
   "outputs": [
    {
     "data": {
      "text/plain": [
       "972765373.9263268"
      ]
     },
     "execution_count": 16,
     "metadata": {},
     "output_type": "execute_result"
    }
   ],
   "source": [
    "MSE(slr_pred, y_test) - MSE(slr_sqrt_pred, y_test)"
   ]
  },
  {
   "cell_type": "markdown",
   "metadata": {},
   "source": [
    ">累乗で悪化し、平方根で好転した理由。  \n",
    "多くのモデルは、正規分布を仮定していることが多いので、対数変換により正規分布に近似させる。データを正規分布に従わせる以外にも、外れ値が含まれるデータの分散を小さくするためにも使われる。すなわち、対数変換により極端に大きすぎる外れ値を平均値に近づける。これに伴い、ゼロに近い値をもう少し区別しやすくなる。特徴量の平方根を取る方法も同様の効果が見込める可能性がある。"
   ]
  },
  {
   "cell_type": "markdown",
   "metadata": {},
   "source": [
    "# 【問題10】（アドバンス課題）更新式の導出\n",
    "最急降下法の更新式は以下でした。この式が導出される過程を説明してください。\n",
    "\n",
    "$$\n",
    "\\theta_j := \\theta_j - \\alpha \\frac{1}{m} \\sum_{i=1}^{m}[(h_\\theta(x^{(i)}) - y^{(i)} )x_{j}^{(i)}]\n",
    "$$\n",
    "\n",
    "以下の式から説明をはじめることができます。\n",
    "\n",
    "$$\n",
    "\\theta_j := \\theta_j - \\frac{\\partial}{\\partial \\theta_j}J(\\theta)\n",
    "$$\n",
    "\n",
    "目的関数（損失関数）$J(\\theta)$ は次の式です。\n",
    "\n",
    "$$\n",
    "J(\\theta)=  \\frac{1 }{ 2m}  \\sum_{i=1}^{m} (h_\\theta(x^{(i)})-y^{(i)})^2.\n",
    "$$"
   ]
  },
  {
   "cell_type": "markdown",
   "metadata": {},
   "source": [
    "## 解答\n",
    "\n",
    "目的関数を最小化することが最急降下法の目的であり、問題11のグラフからわかるように目的関数が最小というのは接線の勾配が限りなく0に近い時の$\\theta$の値を意味する。このことを前提に解説を行う。\n",
    "\n",
    "1. 目的関数を微分する。それによってある$\\theta$に対する目的関数との接線が求まる。それが正であった場合、$\\theta_j := \\theta_j -$ 正の勾配 となり、初めの$\\theta$が負の方向へ更新される。勾配が負であれば正の方向へ更新される。これを延々繰り返すことで勾配が最小値へ収束していく。\n",
    "\n",
    "$$\n",
    "\\frac{\\partial}{\\partial \\theta_j}J(\\theta) = \\frac{1}{m}  \\sum_{i=1}^{m} (h_\\theta(x^{(i)})-y^{(i)})x_{j}^{(i)}\n",
    "$$\n",
    "\n",
    "2. これに学習率$\\alpha$を乗算することによって学習を効率化する。"
   ]
  },
  {
   "cell_type": "markdown",
   "metadata": {},
   "source": [
    "# 【問題11】（アドバンス課題）局所最適解の問題\n",
    "最急降下法には一般的に局所最適解の問題があります。しかし、線形回帰では学習を続ければ必ず最適解を求めることができます。それはなぜか数式やグラフを用いて説明してください。"
   ]
  },
  {
   "cell_type": "markdown",
   "metadata": {},
   "source": [
    "## 解答\n",
    "$h_\\theta(x) =  \\theta x$ を例に考える。"
   ]
  },
  {
   "cell_type": "code",
   "execution_count": 17,
   "metadata": {},
   "outputs": [
    {
     "name": "stdout",
     "output_type": "stream",
     "text": [
      "x = [1 2 3]\n",
      "y = [1 2 3]\n",
      "theta = [-10, -9, -8, -7, -6, -5, -4, -3, -2, -1, 0, 1, 2, 3, 4, 5, 6, 7, 8, 9, 10, 11, 12]\n",
      "loss = [282.3, 233.3, 189.0, 149.3, 114.3, 84.0, 58.3, 37.3, 21.0, 9.3, 2.3, 0.0, 2.3, 9.3, 21.0, 37.3, 58.3, 84.0, 114.3, 149.3, 189.0, 233.3, 282.3]\n"
     ]
    },
    {
     "data": {
      "image/png": "[encoded data removed]",
      "text/plain": [
       "<Figure size 720x216 with 2 Axes>"
      ]
     },
     "metadata": {
      "needs_background": "light"
     },
     "output_type": "display_data"
    }
   ],
   "source": [
    "x = np.arange(1, 4, 1)\n",
    "y = np.arange(1, 4, 1)\n",
    "m = len(x)\n",
    "\n",
    "J_list = []\n",
    "theta_list = []\n",
    "for i in range(-10, 13):\n",
    "    theta = np.full(m, i)\n",
    "    theta_x = theta.T * x\n",
    "    J_theta = np.mean(np.power(theta_x - y, 2)) / 2\n",
    "    J_list.append(J_theta)\n",
    "    theta_list.append(i)\n",
    "    \n",
    "print(f'x = {x}')\n",
    "print(f'y = {y}')\n",
    "print(f'theta = {theta_list}')\n",
    "print(f'loss = {list(map(round, J_list, [1]*len(J_list)))}')\n",
    "plt.figure(figsize=(10, 3))\n",
    "plt.subplot(121)\n",
    "plt.xlabel('x')\n",
    "plt.ylabel('y')\n",
    "plt.plot(x, y, marker='o')\n",
    "plt.subplot(122)\n",
    "plt.xlabel('theta')\n",
    "plt.ylabel('loss')\n",
    "plt.scatter(theta_list, J_list);"
   ]
  },
  {
   "cell_type": "markdown",
   "metadata": {},
   "source": [
    ">$$\n",
    "J(\\theta)=  \\frac{1 }{ 2m}  \\sum_{i=1}^{m} (h_\\theta(x^{(i)})-y^{(i)})^2.\n",
    "$$\n",
    "今回用いた目的関数は二次関数であり、グラフ化すると上図のように下に凸の放物線状になる。よって局所最適解が存在せず学習を続ければ必ず最適解を求めることができる。"
   ]
  },
  {
   "cell_type": "code",
   "execution_count": null,
   "metadata": {},
   "outputs": [],
   "source": []
  }
 ],
 "metadata": {
  "kernelspec": {
   "display_name": "Python 3",
   "language": "python",
   "name": "python3"
  },
  "language_info": {
   "codemirror_mode": {
    "name": "ipython",
    "version": 3
   },
   "file_extension": ".py",
   "mimetype": "text/x-python",
   "name": "python",
   "nbconvert_exporter": "python",
   "pygments_lexer": "ipython3",
   "version": "3.7.6"
  }
 },
 "nbformat": 4,
 "nbformat_minor": 4
}
