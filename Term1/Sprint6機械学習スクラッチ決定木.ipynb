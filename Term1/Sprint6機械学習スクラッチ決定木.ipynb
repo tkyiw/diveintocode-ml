{
 "cells": [
  {
   "cell_type": "markdown",
   "metadata": {},
   "source": [
    "# 1.このSprintについて\n",
    "\n",
    "Sprintの目的\n",
    "- スクラッチを通して決定木を理解する\n",
    "- 複雑なアルゴリズムの実装に慣れる\n",
    "\n",
    "どのように学ぶか\n",
    "- スクラッチで決定木を実装した後、学習と検証を行なっていきます。"
   ]
  },
  {
   "cell_type": "code",
   "execution_count": 1,
   "metadata": {},
   "outputs": [],
   "source": [
    "import numpy as np\n",
    "import pandas as pd\n",
    "import warnings\n",
    "warnings.filterwarnings('ignore')\n",
    "import matplotlib.pyplot as plt\n",
    "import seaborn as sns\n",
    "from sklearn.model_selection import train_test_split\n",
    "from sklearn.metrics import accuracy_score\n",
    "import scipy.stats as stats"
   ]
  },
  {
   "cell_type": "code",
   "execution_count": 2,
   "metadata": {},
   "outputs": [],
   "source": [
    "# シンプルデータセット2作成コード\n",
    "X = np.array([[-0.44699 , -2.8073  ],[-1.4621  , -2.4586  ],\n",
    "       [ 0.10645 ,  1.9242  ],[-3.5944  , -4.0112  ],\n",
    "       [-0.9888  ,  4.5718  ],[-3.1625  , -3.9606  ],\n",
    "       [ 0.56421 ,  0.72888 ],[-0.60216 ,  8.4636  ],\n",
    "       [-0.61251 , -0.75345 ],[-0.73535 , -2.2718  ],\n",
    "       [-0.80647 , -2.2135  ],[ 0.86291 ,  2.3946  ],\n",
    "       [-3.1108  ,  0.15394 ],[-2.9362  ,  2.5462  ],\n",
    "       [-0.57242 , -2.9915  ],[ 1.4771  ,  3.4896  ],\n",
    "       [ 0.58619 ,  0.37158 ],[ 0.6017  ,  4.3439  ],\n",
    "       [-2.1086  ,  8.3428  ],[-4.1013  , -4.353   ],\n",
    "       [-1.9948  , -1.3927  ],[ 0.35084 , -0.031994],\n",
    "       [ 0.96765 ,  7.8929  ],[-1.281   , 15.6824  ],\n",
    "       [ 0.96765 , 10.083   ],[ 1.3763  ,  1.3347  ],\n",
    "       [-2.234   , -2.5323  ],[-2.9452  , -1.8219  ],\n",
    "       [ 0.14654 , -0.28733 ],[ 0.5461  ,  5.8245  ],\n",
    "       [-0.65259 ,  9.3444  ],[ 0.59912 ,  5.3524  ],\n",
    "       [ 0.50214 , -0.31818 ],[-3.0603  , -3.6461  ],\n",
    "       [-6.6797  ,  0.67661 ],[-2.353   , -0.72261 ],\n",
    "       [ 1.1319  ,  2.4023  ],[-0.12243 ,  9.0162  ],\n",
    "       [-2.5677  , 13.1779  ],[ 0.057313,  5.4681  ]])\n",
    "y = np.array([0, 0, 0, 0, 0, 0, 0, 0, 0, 0, 0, 0, 0, 0, 0, 0, 0, 0, 0, 0, 1, 1,\n",
    "       1, 1, 1, 1, 1, 1, 1, 1, 1, 1, 1, 1, 1, 1, 1, 1, 1, 1])\n",
    "\n",
    "X_train, X_test, y_train, y_test = train_test_split(X, y, random_state=42, stratify=y)"
   ]
  },
  {
   "cell_type": "code",
   "execution_count": 3,
   "metadata": {},
   "outputs": [
    {
     "data": {
      "image/png": "[encoded data removed]",
      "text/plain": [
       "<Figure size 432x288 with 1 Axes>"
      ]
     },
     "metadata": {
      "needs_background": "light"
     },
     "output_type": "display_data"
    }
   ],
   "source": [
    "df = np.insert(X, 2, y, axis=1)\n",
    "df = pd.DataFrame(df, columns=['f0', 'f1', 'y'])\n",
    "sns.scatterplot(x='f0', y='f1', hue='y', data=df);"
   ]
  },
  {
   "cell_type": "markdown",
   "metadata": {},
   "source": [
    "# 【問題1】不純度を求める関数\n",
    "ノード の ジニ不純度 を計算する関数を作成してください。ノード \n",
    "t\n",
    " に対するジニ不純度 $I(t)$ は以下の数式で求まります。クラスが混じり合っているほどジニ不純度は高くなります。\n",
    " \n",
    "$$\n",
    "I(t) = 1-\\sum_{i=1}^{K}P^2(C_i|t) = 1-\\sum_{i=1}^{K}(\\frac{N_{t,i}}{N_{t,all}})^{2}\n",
    "$$"
   ]
  },
  {
   "cell_type": "code",
   "execution_count": 4,
   "metadata": {},
   "outputs": [],
   "source": [
    "_, node = np.unique(y, return_counts=True)"
   ]
  },
  {
   "cell_type": "code",
   "execution_count": 5,
   "metadata": {},
   "outputs": [],
   "source": [
    "node = np.array([3, 3])"
   ]
  },
  {
   "cell_type": "code",
   "execution_count": 6,
   "metadata": {},
   "outputs": [],
   "source": [
    "def _gini(node):\n",
    "    # ゼロ除算回避\n",
    "    if np.sum(node)==0:\n",
    "        return 0\n",
    "\n",
    "    gini = 1\n",
    "    for i in node:\n",
    "        gini -= (i / np.sum(node))**2\n",
    "    \n",
    "    return gini"
   ]
  },
  {
   "cell_type": "code",
   "execution_count": 7,
   "metadata": {},
   "outputs": [
    {
     "data": {
      "text/plain": [
       "0.5"
      ]
     },
     "execution_count": 7,
     "metadata": {},
     "output_type": "execute_result"
    }
   ],
   "source": [
    "_gini(node)"
   ]
  },
  {
   "cell_type": "markdown",
   "metadata": {},
   "source": [
    "# 【問題2】情報利得を求める関数\n",
    "次に、ノード間の 情報利得 を計算する関数を作成してください。問題1で作成したジニ不純度 $I(t)$ を計算する関数を呼び出して使います。情報利得$IG$は以下の数式で求まります。うまく分けられている時ほど情報利得は大きくなります。\n",
    "\n",
    "\n",
    "ここで分岐は2つのみであるため、分岐先を「左側のノード・右側のノード」と呼びます。\n",
    "\n",
    "$$\n",
    "IG(p) = I(p)-\\frac{N_{left,all}}{N_{p,all}}I(left)-\\frac{N_{right,all}}{N_{p,all}}I(right)\n",
    "$$"
   ]
  },
  {
   "cell_type": "code",
   "execution_count": 8,
   "metadata": {},
   "outputs": [],
   "source": [
    "node = np.array([40, 40])\n",
    "left = np.array([30, 10])\n",
    "right = np.array([10, 30])"
   ]
  },
  {
   "cell_type": "code",
   "execution_count": 9,
   "metadata": {},
   "outputs": [],
   "source": [
    "def _gain(node, left, right):\n",
    "    i_p = _gini(node)\n",
    "    i_left = (np.sum(left) / np.sum(node)) * _gini(left)\n",
    "    i_right = (np.sum(right) / np.sum(node)) * _gini(right)\n",
    "    \n",
    "    return i_p - i_left - i_right"
   ]
  },
  {
   "cell_type": "code",
   "execution_count": 10,
   "metadata": {},
   "outputs": [
    {
     "data": {
      "text/plain": [
       "0.125"
      ]
     },
     "execution_count": 10,
     "metadata": {},
     "output_type": "execute_result"
    }
   ],
   "source": [
    "_gain(node, left, right)"
   ]
  },
  {
   "cell_type": "markdown",
   "metadata": {},
   "source": [
    "# 【問題3】学習\n",
    "空間の分割を行い、決定木のグラフを生成するコードを作成してください。今は深さ1の決定木なので、分割を1回だけ行います。ここでグラフを生成するとは、1回の分割の際の条件としてどの特徴量がいくつ以上の時とするかを求めるということです。\n",
    "\n",
    "訓練データに対して全ての組み合わせの分割を行い、その中でノード間の情報利得が最大となる分割をそのノードの分割基準として記録します。\n",
    "\n",
    "クラスが混ざらない不純度が0のノード、または指定された深さのノードが 葉ノード となります。葉ノードにはクラスを記録しておき、これを推定時に分類するクラスとします。クラスが混ざらない場合はそのままのクラスを記録し、混ざっている場合は多数決により決めます"
   ]
  },
  {
   "cell_type": "code",
   "execution_count": 11,
   "metadata": {},
   "outputs": [],
   "source": [
    "best_gain = 0\n",
    "for j in range(X.shape[1]):\n",
    "    for i in range(X.shape[0]):\n",
    "        threshold = X[i, j]\n",
    "        label_left, N_left = np.unique(y[X[:, j] < threshold], return_counts=True)\n",
    "        label_right, N_right = np.unique(y[X[:, j] >= threshold], return_counts=True)\n",
    "        gain = _gain(node, N_left, N_right)\n",
    "        if best_gain < gain:\n",
    "            best_gain = gain\n",
    "            \n",
    "            best_threshold = threshold\n",
    "            best_columns = j\n",
    "            \n",
    "            best_N_left = N_left\n",
    "            best_N_right = N_right\n",
    "            \n",
    "            label_left = label_left\n",
    "            label_right = label_right"
   ]
  },
  {
   "cell_type": "code",
   "execution_count": 12,
   "metadata": {},
   "outputs": [
    {
     "name": "stdout",
     "output_type": "stream",
     "text": [
      "情報利得：0.28840125391849536\n",
      "閾値：5.3524\n",
      "特徴量：1\n",
      "ノード左：[18 11]\n",
      "ノード右：[2 9]\n",
      "ラベル左：[0 1]\n",
      "ラベル右：[0 1]\n"
     ]
    }
   ],
   "source": [
    "print(f'情報利得：{best_gain}')\n",
    "print(f'閾値：{best_threshold}')\n",
    "print(f'特徴量：{best_columns}')\n",
    "print(f'ノード左：{best_N_left}')\n",
    "print(f'ノード右：{best_N_right}')\n",
    "print(f'ラベル左：{label_left}')\n",
    "print(f'ラベル右：{label_right}')"
   ]
  },
  {
   "cell_type": "markdown",
   "metadata": {},
   "source": [
    "# 【問題4】推定\n",
    "推定する仕組みを実装してください。ScratchDecesionTreeClassifierDepth1クラスの雛形に含まれるpredictメソッドに書き加えてください。\n",
    "\n",
    "\n",
    "入力されたデータの値を学習した条件で判定していき、どの葉ノードに到達するかを見ます。葉ノードにはクラスが記録されているので、これが推定値となります。"
   ]
  },
  {
   "cell_type": "code",
   "execution_count": 13,
   "metadata": {},
   "outputs": [],
   "source": [
    "pred = np.where(X[:, best_columns] < best_threshold,\n",
    "                label_left[np.argmax(best_N_left)],   # 0\n",
    "                label_right[np.argmax(best_N_right)]  # 1\n",
    "               )"
   ]
  },
  {
   "cell_type": "code",
   "execution_count": 14,
   "metadata": {},
   "outputs": [
    {
     "data": {
      "text/plain": [
       "array([0, 0, 0, 0, 0, 0, 0, 1, 0, 0, 0, 0, 0, 0, 0, 0, 0, 0, 1, 0, 0, 0,\n",
       "       1, 1, 1, 0, 0, 0, 0, 1, 1, 1, 0, 0, 0, 0, 0, 1, 1, 1])"
      ]
     },
     "execution_count": 14,
     "metadata": {},
     "output_type": "execute_result"
    }
   ],
   "source": [
    "pred"
   ]
  },
  {
   "cell_type": "code",
   "execution_count": 15,
   "metadata": {},
   "outputs": [
    {
     "data": {
      "text/plain": [
       "0.675"
      ]
     },
     "execution_count": 15,
     "metadata": {},
     "output_type": "execute_result"
    }
   ],
   "source": [
    "accuracy_score(y, pred)"
   ]
  },
  {
   "cell_type": "markdown",
   "metadata": {},
   "source": [
    "# 【問題5】学習と推定\n",
    "機械学習スクラッチ入門のSprintで用意したシンプルデータセット2の2値分類に対してスクラッチ実装の学習と推定を行なってください。\n",
    "\n",
    "\n",
    "scikit-learnによる実装と比べ、正しく動いているかを確認してください。\n",
    "\n",
    "\n",
    "AccuracyやPrecision、Recallなどの指標値はscikit-learnを使用してください。"
   ]
  },
  {
   "cell_type": "code",
   "execution_count": 16,
   "metadata": {},
   "outputs": [],
   "source": [
    "class ScratchDecesionTreeClassifierDepth1():\n",
    "    \"\"\"\n",
    "    深さ1の決定木分類器のスクラッチ実装\n",
    "\n",
    "    Parameters\n",
    "    ----------\n",
    "    verbose : bool\n",
    "      学習過程を出力する場合はTrue\n",
    "    \"\"\"\n",
    "    def __init__(self, verbose=False):\n",
    "        # ハイパーパラメータを属性として記録\n",
    "        self.verbose = verbose\n",
    "        \n",
    "    def fit(self, X, y):\n",
    "        \"\"\"\n",
    "        決定木分類器を学習する\n",
    "        Parameters\n",
    "        ----------\n",
    "        X : 次の形のndarray, shape (n_samples, n_features)\n",
    "            訓練データの特徴量\n",
    "        y : 次の形のndarray, shape (n_samples, )\n",
    "            訓練データの正解値\n",
    "        \"\"\"\n",
    "        # ラベルの種類と数\n",
    "        labels, node = np.unique(y, return_counts=True)\n",
    "        \n",
    "        # 情報利得の初期値\n",
    "        self.best_gain = 0\n",
    "        \n",
    "        # 情報利得が最も高い閾値を取得\n",
    "        for j in range(X.shape[1]):\n",
    "            for i in range(X.shape[0]):\n",
    "                threshold = X[i, j]\n",
    "                label_left, N_left = np.unique(y[X[:, j] < threshold], return_counts=True)\n",
    "                label_right, N_right = np.unique(y[X[:, j] >= threshold], return_counts=True)\n",
    "                gain = self._gain(node, N_left, N_right)\n",
    "                \n",
    "                if self.best_gain < gain:\n",
    "                    self.best_gain = gain\n",
    "                    self.best_threshold = threshold\n",
    "#                     self.best_index = i\n",
    "                    self.best_columns = j\n",
    "                    self.best_N_left = N_left\n",
    "                    self.best_N_right = N_right\n",
    "                    self.label_left = label_left\n",
    "                    self.label_right = label_right\n",
    "        \n",
    "                    if self.verbose:\n",
    "                        #verboseをTrueにした際は学習過程を出力\n",
    "                        print(f'Information gain log：{self.best_gain}')\n",
    "    \n",
    "    def _gini(self, node):\n",
    "        '''\n",
    "        ジニ不純度 を計算する\n",
    "        '''\n",
    "        # ゼロ除算回避\n",
    "        if np.sum(node)==0:\n",
    "            return 0\n",
    "        \n",
    "        _gini = 1\n",
    "        for i in node:\n",
    "            _gini -= (i / np.sum(node))**2\n",
    "\n",
    "        return _gini\n",
    "\n",
    "    def _gain(self, node, left, right):\n",
    "        '''\n",
    "        情報利得 を計算する\n",
    "        '''\n",
    "        _i_p = self._gini(node)\n",
    "        _i_left = (np.sum(left) / np.sum(node)) * self._gini(left)\n",
    "        _i_right = (np.sum(right) / np.sum(node)) * self._gini(right)\n",
    "\n",
    "        return _i_p - _i_left - _i_right\n",
    "    \n",
    "    def predict(self, X):\n",
    "        \"\"\"\n",
    "        決定木分類器を使いラベルを推定する\n",
    "        \"\"\"\n",
    "        _pred = np.where(X[:, self.best_columns] < self.best_threshold,\n",
    "                        self.label_left[np.argmax(self.best_N_left)],\n",
    "                        self.label_right[np.argmax(self.best_N_right)])\n",
    "        \n",
    "        return _pred"
   ]
  },
  {
   "cell_type": "markdown",
   "metadata": {},
   "source": [
    "## ・スクラッチによる学習"
   ]
  },
  {
   "cell_type": "code",
   "execution_count": 17,
   "metadata": {},
   "outputs": [
    {
     "name": "stdout",
     "output_type": "stream",
     "text": [
      "Information gain log：0.036000000000000074\n",
      "Information gain log：0.05555555555555568\n",
      "Information gain log：0.1022727272727273\n",
      "ノード左：[14  8]\n",
      "ノード右：[1 7]\n"
     ]
    }
   ],
   "source": [
    "# 学習\n",
    "sdt = ScratchDecesionTreeClassifierDepth1(verbose=True)\n",
    "sdt.fit(X_train, y_train)\n",
    "\n",
    "# 推定\n",
    "sdt_pred = sdt.predict(X_train)\n",
    "\n",
    "print(f'ノード左：{sdt.best_N_left}')\n",
    "print(f'ノード右：{sdt.best_N_right}')"
   ]
  },
  {
   "cell_type": "markdown",
   "metadata": {},
   "source": [
    "## ・sklearnによる学習"
   ]
  },
  {
   "cell_type": "code",
   "execution_count": 18,
   "metadata": {},
   "outputs": [],
   "source": [
    "from sklearn.tree import DecisionTreeClassifier\n",
    "\n",
    "# 学習\n",
    "dt = DecisionTreeClassifier(max_depth=1, random_state=0)\n",
    "dt.fit(X_train, y_train)\n",
    "\n",
    "# 推定\n",
    "dt_pred = dt.predict(X_train)"
   ]
  },
  {
   "cell_type": "markdown",
   "metadata": {},
   "source": [
    "## ・評価"
   ]
  },
  {
   "cell_type": "code",
   "execution_count": 19,
   "metadata": {},
   "outputs": [
    {
     "name": "stdout",
     "output_type": "stream",
     "text": [
      "-----------混合行列--------------------\n",
      "scratch\n",
      "[[14  1]\n",
      " [ 8  7]]\n",
      "--------\n",
      "sklearn\n",
      "[[14  1]\n",
      " [ 8  7]]\n",
      "\n",
      "-----------predict--------------------\n",
      "scratch：[1 1 0 0 0 1 0 0 0 0 0 1 0 0 0 0 0 1 0 1 0 0 1 0 0 0 0 0 0 1]\n",
      "sklearn：[1 1 0 0 0 1 0 0 0 0 0 1 0 0 0 0 0 1 0 1 0 0 1 0 0 0 0 0 0 1]\n",
      "y_train：[1 1 0 1 0 1 0 0 1 1 1 1 0 0 0 0 0 1 0 1 0 1 1 1 0 1 0 1 0 0]\n",
      "\n",
      "-----------評価値----------------------\n"
     ]
    },
    {
     "data": {
      "text/html": [
       "<div>\n",
       "<style scoped>\n",
       "    .dataframe tbody tr th:only-of-type {\n",
       "        vertical-align: middle;\n",
       "    }\n",
       "\n",
       "    .dataframe tbody tr th {\n",
       "        vertical-align: top;\n",
       "    }\n",
       "\n",
       "    .dataframe thead th {\n",
       "        text-align: right;\n",
       "    }\n",
       "</style>\n",
       "<table border=\"1\" class=\"dataframe\">\n",
       "  <thead>\n",
       "    <tr style=\"text-align: right;\">\n",
       "      <th></th>\n",
       "      <th>スクラッチ</th>\n",
       "      <th>sklearn</th>\n",
       "    </tr>\n",
       "  </thead>\n",
       "  <tbody>\n",
       "    <tr>\n",
       "      <th>Accuracy</th>\n",
       "      <td>0.700000</td>\n",
       "      <td>0.700000</td>\n",
       "    </tr>\n",
       "    <tr>\n",
       "      <th>Precision</th>\n",
       "      <td>0.875000</td>\n",
       "      <td>0.875000</td>\n",
       "    </tr>\n",
       "    <tr>\n",
       "      <th>Recall</th>\n",
       "      <td>0.466667</td>\n",
       "      <td>0.466667</td>\n",
       "    </tr>\n",
       "    <tr>\n",
       "      <th>F値</th>\n",
       "      <td>0.608696</td>\n",
       "      <td>0.608696</td>\n",
       "    </tr>\n",
       "  </tbody>\n",
       "</table>\n",
       "</div>"
      ],
      "text/plain": [
       "              スクラッチ   sklearn\n",
       "Accuracy   0.700000  0.700000\n",
       "Precision  0.875000  0.875000\n",
       "Recall     0.466667  0.466667\n",
       "F値         0.608696  0.608696"
      ]
     },
     "metadata": {},
     "output_type": "display_data"
    }
   ],
   "source": [
    "def compare(y_test, pred1, pred2):\n",
    "    scratch_eval = []\n",
    "    sklearn_eval = []\n",
    "\n",
    "    # Accuracy（正解率）\n",
    "    from sklearn.metrics import accuracy_score\n",
    "    scratch_eval.append(accuracy_score(y_test, pred1))\n",
    "    sklearn_eval.append(accuracy_score(y_test, pred2))\n",
    "\n",
    "    # Precision（適合率）\n",
    "    from sklearn.metrics import precision_score\n",
    "    scratch_eval.append(precision_score(y_test, pred1))\n",
    "    sklearn_eval.append(precision_score(y_test, pred2))\n",
    "\n",
    "    # Recall（再現率）\n",
    "    from sklearn.metrics import recall_score\n",
    "    scratch_eval.append(recall_score(y_test, pred1))\n",
    "    sklearn_eval.append(recall_score(y_test, pred2))\n",
    "\n",
    "    # F値\n",
    "    from sklearn.metrics import f1_score\n",
    "    scratch_eval.append(f1_score(y_test, pred1))\n",
    "    sklearn_eval.append(f1_score(y_test, pred2))\n",
    "\n",
    "    # 混合行列\n",
    "    from sklearn.metrics import confusion_matrix\n",
    "    print('-----------混合行列--------------------')\n",
    "    print('scratch')\n",
    "    print(confusion_matrix(y_test, pred1), )\n",
    "    print('--------')\n",
    "    print('sklearn')\n",
    "    print(confusion_matrix(y_test, pred2))\n",
    "    print('')\n",
    "    print('-----------predict--------------------')\n",
    "    print(f'scratch：{pred1}')\n",
    "    print(f'sklearn：{pred2}')\n",
    "    print(f'y_train：{y_test.ravel()}')\n",
    "    print('')\n",
    "    print('-----------評価値----------------------')\n",
    "    display(pd.DataFrame([scratch_eval, sklearn_eval],\n",
    "                         columns=('Accuracy', 'Precision', 'Recall', 'F値'),\n",
    "                         index=('スクラッチ', 'sklearn')).T)\n",
    "\n",
    "compare(y_train, sdt_pred, dt_pred)"
   ]
  },
  {
   "cell_type": "markdown",
   "metadata": {},
   "source": [
    "# 【問題6】決定領域の可視化\n",
    "決定領域を可視化してください。"
   ]
  },
  {
   "cell_type": "code",
   "execution_count": 20,
   "metadata": {},
   "outputs": [],
   "source": [
    "# 決定領域の描画関数\n",
    "import matplotlib.pyplot as plt\n",
    "from matplotlib.colors import ListedColormap\n",
    "import matplotlib.patches as mpatches\n",
    "def decision_region(X, y, model, step=0.01, title='decision region', xlabel='xlabel', ylabel='ylabel', target_names=['versicolor', 'virginica']):\n",
    "    # setting\n",
    "    scatter_color = ['red', 'blue']\n",
    "    contourf_color = ['pink', 'skyblue']\n",
    "    n_class = 2\n",
    "    # pred\n",
    "    mesh_f0, mesh_f1  = np.meshgrid(np.arange(np.min(X[:,0])-0.5, np.max(X[:,0])+0.5, step), np.arange(np.min(X[:,1])-0.5, np.max(X[:,1])+0.5, step))\n",
    "    mesh = np.c_[np.ravel(mesh_f0),np.ravel(mesh_f1)]\n",
    "    y_pred = model.predict(mesh).reshape(mesh_f0.shape)\n",
    "    # plot\n",
    "    plt.title(title)\n",
    "    plt.xlabel(xlabel)\n",
    "    plt.ylabel(ylabel)\n",
    "    plt.contourf(mesh_f0, mesh_f1, y_pred, n_class-1, cmap=ListedColormap(contourf_color))\n",
    "    plt.contour(mesh_f0, mesh_f1, y_pred, n_class-1, colors='y', linewidths=3, alpha=0.5)\n",
    "    for i, target in enumerate(set(y)):\n",
    "        plt.scatter(X[y==target][:, 0], X[y==target][:, 1], s=80, color=scatter_color[i], label=target_names[i], marker='o')\n",
    "    patches = [mpatches.Patch(color=scatter_color[i], label=target_names[i]) for i in range(n_class)]\n",
    "    plt.legend(handles=patches)\n",
    "    plt.legend()"
   ]
  },
  {
   "cell_type": "code",
   "execution_count": 21,
   "metadata": {},
   "outputs": [
    {
     "data": {
      "image/png": "[encoded data removed]",
      "text/plain": [
       "<Figure size 936x288 with 2 Axes>"
      ]
     },
     "metadata": {
      "needs_background": "light"
     },
     "output_type": "display_data"
    }
   ],
   "source": [
    "plt.figure(figsize=(13, 4))\n",
    "plt.subplot(121)\n",
    "decision_region(X_train, y_train, sdt, step=0.01, title='Scratch', xlabel='f0', ylabel='f1', target_names=['0', '1'])\n",
    "plt.subplot(122)\n",
    "decision_region(X_train, y_train, dt, step=0.01, title='sklearn', xlabel='f0', ylabel='f1', target_names=['0', '1'])"
   ]
  },
  {
   "cell_type": "markdown",
   "metadata": {},
   "source": [
    "# 【問題7】（アドバンス課題）深さ2の決定木分類器クラスの作成\n",
    "深さが2の決定木分類器のクラスScratchDecesionTreeClassifierDepth2を作成してください。\n",
    "\n",
    "\n",
    "深さ2とは空間の分割を2回行うことを指します。\n",
    "\n",
    "\n",
    "《ヒント》\n",
    "\n",
    "\n",
    "各ノードをインスタンスとして扱うと、任意の深さへの拡張が行いやすくなります。 "
   ]
  },
  {
   "cell_type": "markdown",
   "metadata": {},
   "source": [
    "# 【問題8】（アドバンス課題）深さに制限のない決定木分類器クラスの作成\n",
    "深さに制限のない決定木分類器のクラスScratchDecesionTreeClassifierDepthInfを作成してください。\n",
    "\n",
    "\n",
    "任意の深さを指定できるようにするとともに、指定しない場合は全ての葉ノードがジニ不純度0となるまで続けられるようにもしてください。"
   ]
  },
  {
   "cell_type": "code",
   "execution_count": 22,
   "metadata": {},
   "outputs": [],
   "source": [
    "class ScratchDecesionTreeClassifierDepthInf():\n",
    "    \"\"\"\n",
    "    深さ無制限の決定木分類器のスクラッチ実装\n",
    "    \"\"\"\n",
    "    def __init__(self, max_depth=None, verbose=False):\n",
    "        # ハイパーパラメータを属性として記録\n",
    "        self.verbose = verbose\n",
    "        self.max_depth = max_depth\n",
    "        \n",
    "    def fit(self, X, y):\n",
    "        \n",
    "        # Nodeクラス呼び出し\n",
    "        self.tree = Node(self.max_depth, self.verbose)\n",
    "        self.tree.split_node(X, y, depth=0)\n",
    "        \n",
    "    def predict(self, X):\n",
    "        pred = []\n",
    "        for Xp in X:\n",
    "            pred.append(self.tree.predict(Xp))\n",
    "        return np.array(pred)"
   ]
  },
  {
   "cell_type": "code",
   "execution_count": 23,
   "metadata": {},
   "outputs": [],
   "source": [
    "class Node():\n",
    "    def __init__(self, max_depth, verbose):\n",
    "        self.max_depth = max_depth\n",
    "        self.verbose = verbose\n",
    "        self.label = None\n",
    "    \n",
    "    def split_node(self, X, y, depth, gini=None, pos=None):\n",
    "        \n",
    "        # max_depthに到達 or 仕分け完了\n",
    "        if depth == self.max_depth or len(set(y)) == 1:\n",
    "            self.label = np.bincount(y).argmax()\n",
    "            if self.verbose:\n",
    "                print(f'{depth}層で終了、ジニ不純度({pos})：{gini}')\n",
    "            return\n",
    "        \n",
    "        # 情報利得が最も高い閾値となる値と特徴量を取得\n",
    "        self.best_gain = 0\n",
    "        _, node = np.unique(y, return_counts=True)\n",
    "        for j in range(X.shape[1]):\n",
    "            for i in range(X.shape[0]):\n",
    "                threshold = X[i, j]\n",
    "                _, N_left = np.unique(y[X[:, j] < threshold], return_counts=True)\n",
    "                _, N_right = np.unique(y[X[:, j] >= threshold], return_counts=True)\n",
    "                gain = self._gain(node, N_left, N_right)\n",
    "                if self.best_gain < gain:\n",
    "                    self.best_gain = gain       # 情報利得\n",
    "                    self.threshold = threshold  # 閾値\n",
    "                    self.feature = j            # 特徴量\n",
    "                    gini_left = round(self._gini(N_left), 2)   # ジニ不純度（左）\n",
    "                    gini_right = round(self._gini(N_right), 2) # ジニ不純度（右）\n",
    "\n",
    "        # 左右のノードのインデックスを取得\n",
    "        left_idx = X[:, self.feature] < self.threshold\n",
    "        right_idx = X[:, self.feature] >= self.threshold\n",
    "        \n",
    "        # 子ノード作成\n",
    "        self.left = Node(self.max_depth, self.verbose, )\n",
    "        self.right = Node(self.max_depth, self.verbose)\n",
    "        \n",
    "        # 再帰処理\n",
    "        self.left.split_node(X[left_idx], y[left_idx], depth+1, gini=gini_left, pos='左')\n",
    "        self.right.split_node(X[right_idx], y[right_idx], depth+1, gini=gini_right, pos='右')\n",
    "                                      \n",
    "    def _gini(self, node):\n",
    "        '''\n",
    "        ジニ不純度 を計算する\n",
    "        '''\n",
    "        # ゼロ除算回避\n",
    "        if np.sum(node)==0:\n",
    "            return 0\n",
    "        \n",
    "        _gini = 1\n",
    "        for i in node:\n",
    "            _gini -= (i / np.sum(node))**2\n",
    "        return _gini\n",
    "\n",
    "    def _gain(self, node, left, right):\n",
    "        '''\n",
    "        情報利得 を計算する\n",
    "        '''\n",
    "        _i_p = self._gini(node)\n",
    "        _i_left = (np.sum(left) / np.sum(node)) * self._gini(left)\n",
    "        _i_right = (np.sum(right) / np.sum(node)) * self._gini(right)\n",
    "        return _i_p - _i_left - _i_right\n",
    "    \n",
    "    def predict(self, Xp):\n",
    "        if self.label is not None:            \n",
    "            return self.label\n",
    "        elif Xp[self.feature] < self.threshold:\n",
    "            return self.left.predict(Xp)\n",
    "        else:\n",
    "            return self.right.predict(Xp)"
   ]
  },
  {
   "cell_type": "markdown",
   "metadata": {},
   "source": [
    "## ・２層"
   ]
  },
  {
   "cell_type": "code",
   "execution_count": 24,
   "metadata": {},
   "outputs": [
    {
     "name": "stdout",
     "output_type": "stream",
     "text": [
      "2層で終了、ジニ不純度(左)：0.49\n",
      "2層で終了、ジニ不純度(右)：0.0\n",
      "2層で終了、ジニ不純度(左)：0.5\n",
      "2層で終了、ジニ不純度(右)：0.0\n"
     ]
    },
    {
     "data": {
      "image/png": "[encoded data removed]",
      "text/plain": [
       "<Figure size 432x288 with 1 Axes>"
      ]
     },
     "metadata": {
      "needs_background": "light"
     },
     "output_type": "display_data"
    }
   ],
   "source": [
    "inf1 = ScratchDecesionTreeClassifierDepthInf(max_depth=2, verbose=True)\n",
    "inf1.fit(X_train, y_train)\n",
    "\n",
    "pred1 = inf1.predict(X_train)\n",
    "\n",
    "decision_region(X_train, y_train, inf1, step=0.01, title='Scratch', xlabel='f0', ylabel='f1', target_names=['0', '1'])"
   ]
  },
  {
   "cell_type": "markdown",
   "metadata": {},
   "source": [
    "## ・無制限"
   ]
  },
  {
   "cell_type": "code",
   "execution_count": 25,
   "metadata": {},
   "outputs": [
    {
     "name": "stdout",
     "output_type": "stream",
     "text": [
      "3層で終了、ジニ不純度(左)：0.0\n",
      "4層で終了、ジニ不純度(左)：0.0\n",
      "6層で終了、ジニ不純度(左)：0.0\n",
      "7層で終了、ジニ不純度(左)：0.0\n",
      "7層で終了、ジニ不純度(右)：0.0\n",
      "5層で終了、ジニ不純度(右)：0.0\n",
      "2層で終了、ジニ不純度(右)：0.0\n",
      "3層で終了、ジニ不純度(左)：0.0\n",
      "3層で終了、ジニ不純度(右)：0.0\n",
      "2層で終了、ジニ不純度(右)：0.0\n"
     ]
    },
    {
     "data": {
      "image/png": "[encoded data removed]",
      "text/plain": [
       "<Figure size 432x288 with 1 Axes>"
      ]
     },
     "metadata": {
      "needs_background": "light"
     },
     "output_type": "display_data"
    }
   ],
   "source": [
    "inf2 = ScratchDecesionTreeClassifierDepthInf(max_depth=None, verbose=True)\n",
    "inf2.fit(X_train, y_train)\n",
    "\n",
    "pred2 = inf2.predict(X_train)\n",
    "\n",
    "decision_region(X_train, y_train, inf2, step=0.01, title='Scratch', xlabel='f0', ylabel='f1', target_names=['0', '1'])"
   ]
  },
  {
   "cell_type": "markdown",
   "metadata": {},
   "source": [
    "## ・比較"
   ]
  },
  {
   "cell_type": "code",
   "execution_count": 26,
   "metadata": {},
   "outputs": [
    {
     "data": {
      "image/png": "[encoded data removed]",
      "text/plain": [
       "<Figure size 432x288 with 1 Axes>"
      ]
     },
     "metadata": {
      "needs_background": "light"
     },
     "output_type": "display_data"
    }
   ],
   "source": [
    "from sklearn.tree import DecisionTreeClassifier\n",
    "\n",
    "# 学習\n",
    "dt = DecisionTreeClassifier(max_depth=None, random_state=0)\n",
    "dt.fit(X_train, y_train)\n",
    "\n",
    "# 推定\n",
    "dt_pred2 = dt.predict(X_train)\n",
    "\n",
    "decision_region(X_train, y_train, dt, step=0.01, title='Scratch', xlabel='f0', ylabel='f1', target_names=['0', '1'])"
   ]
  },
  {
   "cell_type": "code",
   "execution_count": 27,
   "metadata": {},
   "outputs": [
    {
     "name": "stdout",
     "output_type": "stream",
     "text": [
      "-----------混合行列--------------------\n",
      "scratch\n",
      "[[15  0]\n",
      " [ 0 15]]\n",
      "--------\n",
      "sklearn\n",
      "[[15  0]\n",
      " [ 0 15]]\n",
      "\n",
      "-----------predict--------------------\n",
      "scratch：[1 1 0 1 0 1 0 0 1 1 1 1 0 0 0 0 0 1 0 1 0 1 1 1 0 1 0 1 0 0]\n",
      "sklearn：[1 1 0 1 0 1 0 0 1 1 1 1 0 0 0 0 0 1 0 1 0 1 1 1 0 1 0 1 0 0]\n",
      "y_train：[1 1 0 1 0 1 0 0 1 1 1 1 0 0 0 0 0 1 0 1 0 1 1 1 0 1 0 1 0 0]\n",
      "\n",
      "-----------評価値----------------------\n"
     ]
    },
    {
     "data": {
      "text/html": [
       "<div>\n",
       "<style scoped>\n",
       "    .dataframe tbody tr th:only-of-type {\n",
       "        vertical-align: middle;\n",
       "    }\n",
       "\n",
       "    .dataframe tbody tr th {\n",
       "        vertical-align: top;\n",
       "    }\n",
       "\n",
       "    .dataframe thead th {\n",
       "        text-align: right;\n",
       "    }\n",
       "</style>\n",
       "<table border=\"1\" class=\"dataframe\">\n",
       "  <thead>\n",
       "    <tr style=\"text-align: right;\">\n",
       "      <th></th>\n",
       "      <th>スクラッチ</th>\n",
       "      <th>sklearn</th>\n",
       "    </tr>\n",
       "  </thead>\n",
       "  <tbody>\n",
       "    <tr>\n",
       "      <th>Accuracy</th>\n",
       "      <td>1.0</td>\n",
       "      <td>1.0</td>\n",
       "    </tr>\n",
       "    <tr>\n",
       "      <th>Precision</th>\n",
       "      <td>1.0</td>\n",
       "      <td>1.0</td>\n",
       "    </tr>\n",
       "    <tr>\n",
       "      <th>Recall</th>\n",
       "      <td>1.0</td>\n",
       "      <td>1.0</td>\n",
       "    </tr>\n",
       "    <tr>\n",
       "      <th>F値</th>\n",
       "      <td>1.0</td>\n",
       "      <td>1.0</td>\n",
       "    </tr>\n",
       "  </tbody>\n",
       "</table>\n",
       "</div>"
      ],
      "text/plain": [
       "           スクラッチ  sklearn\n",
       "Accuracy     1.0      1.0\n",
       "Precision    1.0      1.0\n",
       "Recall       1.0      1.0\n",
       "F値           1.0      1.0"
      ]
     },
     "metadata": {},
     "output_type": "display_data"
    }
   ],
   "source": [
    "compare(y_train, pred2, dt_pred2)"
   ]
  }
 ],
 "metadata": {
  "kernelspec": {
   "display_name": "Python 3",
   "language": "python",
   "name": "python3"
  },
  "language_info": {
   "codemirror_mode": {
    "name": "ipython",
    "version": 3
   },
   "file_extension": ".py",
   "mimetype": "text/x-python",
   "name": "python",
   "nbconvert_exporter": "python",
   "pygments_lexer": "ipython3",
   "version": "3.7.6"
  }
 },
 "nbformat": 4,
 "nbformat_minor": 4
}
