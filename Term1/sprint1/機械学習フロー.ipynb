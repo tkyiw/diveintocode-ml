{
 "cells": [
  {
   "cell_type": "markdown",
   "metadata": {},
   "source": [
    "# 【問題1】クロスバリデーション\n",
    "事前学習期間では検証データをはじめに分割しておき、それに対して指標値を計算することで検証を行っていました。（ホールドアウト法）しかし、分割の仕方により精度は変化します。実践的には クロスバリデーション（交差検証） を行います。分割を複数回行い、それぞれに対して学習と検証を行う方法です。複数回の分割のためにscikit-learnにはKFoldクラスが用意されています。\n",
    "\n",
    "\n",
    "事前学習期間の課題で作成したベースラインモデルに対してKFoldクラスによるクロスバリデーションを行うコードを作成し実行してください。"
   ]
  },
  {
   "cell_type": "code",
   "execution_count": 1,
   "metadata": {},
   "outputs": [],
   "source": [
    "import pandas as pd\n",
    "import numpy as np\n",
    "import matplotlib.pyplot as plt\n",
    "import seaborn as sns\n",
    "sns.set(style='darkgrid')\n",
    "import warnings\n",
    "warnings.filterwarnings('ignore')\n",
    "from sklearn.preprocessing import LabelEncoder\n",
    "from sklearn.metrics import roc_auc_score\n",
    "from sklearn.ensemble import RandomForestClassifier\n",
    "from sklearn.model_selection import train_test_split\n",
    "from sklearn.model_selection import KFold\n",
    "from sklearn.linear_model import LogisticRegression\n",
    "from sklearn.preprocessing import StandardScaler\n",
    "from sklearn.model_selection import GridSearchCV\n",
    "import lightgbm as lgb"
   ]
  },
  {
   "cell_type": "code",
   "execution_count": 2,
   "metadata": {},
   "outputs": [],
   "source": [
    "# データの読み込み\n",
    "train = pd.read_csv('../../kaggledata/application_train.csv')\n",
    "test = pd.read_csv('../../kaggledata/application_test.csv')"
   ]
  },
  {
   "cell_type": "code",
   "execution_count": 3,
   "metadata": {},
   "outputs": [
    {
     "data": {
      "text/html": [
       "<div>\n",
       "<style scoped>\n",
       "    .dataframe tbody tr th:only-of-type {\n",
       "        vertical-align: middle;\n",
       "    }\n",
       "\n",
       "    .dataframe tbody tr th {\n",
       "        vertical-align: top;\n",
       "    }\n",
       "\n",
       "    .dataframe thead th {\n",
       "        text-align: right;\n",
       "    }\n",
       "</style>\n",
       "<table border=\"1\" class=\"dataframe\">\n",
       "  <thead>\n",
       "    <tr style=\"text-align: right;\">\n",
       "      <th></th>\n",
       "      <th>TARGET</th>\n",
       "      <th>EXT_SOURCE_3</th>\n",
       "      <th>EXT_SOURCE_2</th>\n",
       "      <th>EXT_SOURCE_1</th>\n",
       "      <th>DAYS_BIRTH</th>\n",
       "      <th>REGION_RATING_CLIENT_W_CITY</th>\n",
       "      <th>REGION_RATING_CLIENT</th>\n",
       "      <th>DAYS_LAST_PHONE_CHANGE</th>\n",
       "      <th>DAYS_ID_PUBLISH</th>\n",
       "      <th>REG_CITY_NOT_WORK_CITY</th>\n",
       "      <th>AMT_CREDIT</th>\n",
       "      <th>AMT_ANNUITY</th>\n",
       "      <th>DAYS_EMPLOYED</th>\n",
       "      <th>AMT_GOODS_PRICE</th>\n",
       "      <th>NAME_EDUCATION_TYPE</th>\n",
       "      <th>CODE_GENDER</th>\n",
       "      <th>NAME_INCOME_TYPE</th>\n",
       "      <th>EMERGENCYSTATE_MODE</th>\n",
       "      <th>AMT_INCOME_TOTAL</th>\n",
       "    </tr>\n",
       "  </thead>\n",
       "  <tbody>\n",
       "    <tr>\n",
       "      <th>0</th>\n",
       "      <td>1</td>\n",
       "      <td>0.139376</td>\n",
       "      <td>0.262949</td>\n",
       "      <td>0.083037</td>\n",
       "      <td>-9461</td>\n",
       "      <td>2</td>\n",
       "      <td>2</td>\n",
       "      <td>-1134.0</td>\n",
       "      <td>-2120</td>\n",
       "      <td>0</td>\n",
       "      <td>406597.5</td>\n",
       "      <td>24700.5</td>\n",
       "      <td>-637</td>\n",
       "      <td>351000.0</td>\n",
       "      <td>Secondary / secondary special</td>\n",
       "      <td>M</td>\n",
       "      <td>Working</td>\n",
       "      <td>No</td>\n",
       "      <td>202500.0</td>\n",
       "    </tr>\n",
       "    <tr>\n",
       "      <th>1</th>\n",
       "      <td>0</td>\n",
       "      <td>NaN</td>\n",
       "      <td>0.622246</td>\n",
       "      <td>0.311267</td>\n",
       "      <td>-16765</td>\n",
       "      <td>1</td>\n",
       "      <td>1</td>\n",
       "      <td>-828.0</td>\n",
       "      <td>-291</td>\n",
       "      <td>0</td>\n",
       "      <td>1293502.5</td>\n",
       "      <td>35698.5</td>\n",
       "      <td>-1188</td>\n",
       "      <td>1129500.0</td>\n",
       "      <td>Higher education</td>\n",
       "      <td>F</td>\n",
       "      <td>State servant</td>\n",
       "      <td>No</td>\n",
       "      <td>270000.0</td>\n",
       "    </tr>\n",
       "    <tr>\n",
       "      <th>2</th>\n",
       "      <td>0</td>\n",
       "      <td>0.729567</td>\n",
       "      <td>0.555912</td>\n",
       "      <td>NaN</td>\n",
       "      <td>-19046</td>\n",
       "      <td>2</td>\n",
       "      <td>2</td>\n",
       "      <td>-815.0</td>\n",
       "      <td>-2531</td>\n",
       "      <td>0</td>\n",
       "      <td>135000.0</td>\n",
       "      <td>6750.0</td>\n",
       "      <td>-225</td>\n",
       "      <td>135000.0</td>\n",
       "      <td>Secondary / secondary special</td>\n",
       "      <td>M</td>\n",
       "      <td>Working</td>\n",
       "      <td>NaN</td>\n",
       "      <td>67500.0</td>\n",
       "    </tr>\n",
       "    <tr>\n",
       "      <th>3</th>\n",
       "      <td>0</td>\n",
       "      <td>NaN</td>\n",
       "      <td>0.650442</td>\n",
       "      <td>NaN</td>\n",
       "      <td>-19005</td>\n",
       "      <td>2</td>\n",
       "      <td>2</td>\n",
       "      <td>-617.0</td>\n",
       "      <td>-2437</td>\n",
       "      <td>0</td>\n",
       "      <td>312682.5</td>\n",
       "      <td>29686.5</td>\n",
       "      <td>-3039</td>\n",
       "      <td>297000.0</td>\n",
       "      <td>Secondary / secondary special</td>\n",
       "      <td>F</td>\n",
       "      <td>Working</td>\n",
       "      <td>NaN</td>\n",
       "      <td>135000.0</td>\n",
       "    </tr>\n",
       "    <tr>\n",
       "      <th>4</th>\n",
       "      <td>0</td>\n",
       "      <td>NaN</td>\n",
       "      <td>0.322738</td>\n",
       "      <td>NaN</td>\n",
       "      <td>-19932</td>\n",
       "      <td>2</td>\n",
       "      <td>2</td>\n",
       "      <td>-1106.0</td>\n",
       "      <td>-3458</td>\n",
       "      <td>1</td>\n",
       "      <td>513000.0</td>\n",
       "      <td>21865.5</td>\n",
       "      <td>-3038</td>\n",
       "      <td>513000.0</td>\n",
       "      <td>Secondary / secondary special</td>\n",
       "      <td>M</td>\n",
       "      <td>Working</td>\n",
       "      <td>NaN</td>\n",
       "      <td>121500.0</td>\n",
       "    </tr>\n",
       "  </tbody>\n",
       "</table>\n",
       "</div>"
      ],
      "text/plain": [
       "   TARGET  EXT_SOURCE_3  EXT_SOURCE_2  EXT_SOURCE_1  DAYS_BIRTH  \\\n",
       "0       1      0.139376      0.262949      0.083037       -9461   \n",
       "1       0           NaN      0.622246      0.311267      -16765   \n",
       "2       0      0.729567      0.555912           NaN      -19046   \n",
       "3       0           NaN      0.650442           NaN      -19005   \n",
       "4       0           NaN      0.322738           NaN      -19932   \n",
       "\n",
       "   REGION_RATING_CLIENT_W_CITY  REGION_RATING_CLIENT  DAYS_LAST_PHONE_CHANGE  \\\n",
       "0                            2                     2                 -1134.0   \n",
       "1                            1                     1                  -828.0   \n",
       "2                            2                     2                  -815.0   \n",
       "3                            2                     2                  -617.0   \n",
       "4                            2                     2                 -1106.0   \n",
       "\n",
       "   DAYS_ID_PUBLISH  REG_CITY_NOT_WORK_CITY  AMT_CREDIT  AMT_ANNUITY  \\\n",
       "0            -2120                       0    406597.5      24700.5   \n",
       "1             -291                       0   1293502.5      35698.5   \n",
       "2            -2531                       0    135000.0       6750.0   \n",
       "3            -2437                       0    312682.5      29686.5   \n",
       "4            -3458                       1    513000.0      21865.5   \n",
       "\n",
       "   DAYS_EMPLOYED  AMT_GOODS_PRICE            NAME_EDUCATION_TYPE CODE_GENDER  \\\n",
       "0           -637         351000.0  Secondary / secondary special           M   \n",
       "1          -1188        1129500.0               Higher education           F   \n",
       "2           -225         135000.0  Secondary / secondary special           M   \n",
       "3          -3039         297000.0  Secondary / secondary special           F   \n",
       "4          -3038         513000.0  Secondary / secondary special           M   \n",
       "\n",
       "  NAME_INCOME_TYPE EMERGENCYSTATE_MODE  AMT_INCOME_TOTAL  \n",
       "0          Working                  No          202500.0  \n",
       "1    State servant                  No          270000.0  \n",
       "2          Working                 NaN           67500.0  \n",
       "3          Working                 NaN          135000.0  \n",
       "4          Working                 NaN          121500.0  "
      ]
     },
     "execution_count": 3,
     "metadata": {},
     "output_type": "execute_result"
    }
   ],
   "source": [
    "cols = ['TARGET', 'EXT_SOURCE_3', 'EXT_SOURCE_2',\n",
    "        'EXT_SOURCE_1', 'DAYS_BIRTH', 'REGION_RATING_CLIENT_W_CITY',\n",
    "        'REGION_RATING_CLIENT', 'DAYS_LAST_PHONE_CHANGE', 'DAYS_ID_PUBLISH',\n",
    "        'REG_CITY_NOT_WORK_CITY', 'AMT_CREDIT', 'AMT_ANNUITY',\n",
    "        'DAYS_EMPLOYED', 'AMT_GOODS_PRICE', 'NAME_EDUCATION_TYPE',\n",
    "        'CODE_GENDER', 'NAME_INCOME_TYPE', 'EMERGENCYSTATE_MODE',\n",
    "        'AMT_INCOME_TOTAL']\n",
    "\n",
    "train_data = train.copy()\n",
    "train_data = train_data[cols]\n",
    "train_data.head()"
   ]
  },
  {
   "cell_type": "code",
   "execution_count": 4,
   "metadata": {},
   "outputs": [],
   "source": [
    "# 前処理\n",
    "le = LabelEncoder()\n",
    "\n",
    "for i in cols:\n",
    "    if train_data[i].dtype=='O':\n",
    "        train_data[i] = train_data[i].fillna('na')\n",
    "        train_data[i] = le.fit_transform(train_data[i].values)\n",
    "    else:\n",
    "        train_data[i] = train_data[i].fillna(0)\n",
    "        \n",
    "X = train_data.iloc[:, 1:].values\n",
    "y = train_data[['TARGET']].values"
   ]
  },
  {
   "cell_type": "markdown",
   "metadata": {},
   "source": [
    "### クロスバリデーション"
   ]
  },
  {
   "cell_type": "code",
   "execution_count": 5,
   "metadata": {
    "scrolled": true
   },
   "outputs": [
    {
     "name": "stdout",
     "output_type": "stream",
     "text": [
      "train, test: (0.718365623311919, 0.7184756400250214)\n",
      "train, test: (0.7183610781361238, 0.7188308544112227)\n",
      "train, test: (0.7195296346172084, 0.7139493314584582)\n",
      "train, test: (0.7183510289486363, 0.7182657804074286)\n",
      "train, test: (0.7176238819623078, 0.7212502620765011)\n"
     ]
    }
   ],
   "source": [
    "# from sklearn.model_selection import KFold\n",
    "\n",
    "# ５回クロスバリデーションを行う。\n",
    "kf = KFold(n_splits=5)\n",
    "kf.get_n_splits(X)\n",
    "\n",
    "def kf_test(param=1.0):\n",
    "    for train_index, test_index in kf.split(X):\n",
    "        X_train, X_test = X[train_index], X[test_index]\n",
    "        y_train, y_test = y[train_index], y[test_index]\n",
    "\n",
    "\n",
    "        # 特徴量を標準化\n",
    "        scaler_x = StandardScaler()\n",
    "        scaler_x.fit(X_train)\n",
    "        X_train_std = scaler_x.transform(X_train)\n",
    "        X_test_std = scaler_x.transform(X_test)\n",
    "\n",
    "        # 学習\n",
    "        model = LogisticRegression(random_state=0, C=param)\n",
    "        model.fit(X_train_std, y_train)\n",
    "\n",
    "        # 推定\n",
    "        pred_train = model.predict_proba(X_train_std)[:, 1]\n",
    "        pred_test = model.predict_proba(X_test_std)[:, 1]\n",
    "\n",
    "        # 評価\n",
    "        pred_acu_train = roc_auc_score(y_train, pred_train)\n",
    "        pred_auc_test = roc_auc_score(y_test, pred_test)\n",
    "\n",
    "        print(f'train, test: {pred_acu_train, pred_auc_test}')\n",
    "        \n",
    "kf_test()"
   ]
  },
  {
   "cell_type": "markdown",
   "metadata": {},
   "source": [
    "# 【問題2】グリッドサーチ\n",
    "これまで分類器のパラメータには触れず、デフォルトの設定を使用していました。パラメータの詳細は今後のSprintで学んでいくことになります。機械学習の前提として、パラメータは状況に応じて最適なものを選ぶ必要があります。最適なパラメータを探していくことを パラメータチューニング と呼びます。パラメータチューニングをある程度自動化する単純な方法としては グリッドサーチ があります。\n",
    "\n",
    "\n",
    "scikit-learnのGridSearchCVを使い、グリッドサーチを行うコードを作成してください。そして、ベースラインモデルに対して何らかしらのパラメータチューニングを行なってください。どのパラメータをチューニングするかは、使用した手法の公式ドキュメントを参考にしてください。\n",
    "\n",
    "GridSearchCVクラスには引数としてモデル、探索範囲、さらにクロスバリデーションを何分割で行うかを与えます。クロスバリデーションの機能も含まれているため、これを使用する場合はKFoldクラスを利用する必要はありません。"
   ]
  },
  {
   "cell_type": "markdown",
   "metadata": {},
   "source": [
    "### グリッドサーチ"
   ]
  },
  {
   "cell_type": "code",
   "execution_count": 6,
   "metadata": {},
   "outputs": [
    {
     "name": "stdout",
     "output_type": "stream",
     "text": [
      "0.6204227216667546\n",
      "{'C': 0.01}\n"
     ]
    }
   ],
   "source": [
    "# from sklearn.model_selection import GridSearchCV\n",
    "\n",
    "def GridSearchCV_test():\n",
    "    # データセットを読み込む\n",
    "\n",
    "    # 教師データとラベルデータを取り出す\n",
    "    X = train_data.iloc[:, 1:].values\n",
    "    y = train_data[['TARGET']].values\n",
    "\n",
    "    # 標準化\n",
    "    scaler_x = StandardScaler()\n",
    "    scaler_x.fit(X)\n",
    "    X_std = scaler_x.transform(X)\n",
    "\n",
    "    # 優れたハイパーパラメータを見つけたいモデル\n",
    "    model = LogisticRegression(random_state=0)\n",
    "\n",
    "    # 試行するパラメータを羅列する\n",
    "    params = {'C': [10**i for i in range(-3, 3)]}\n",
    "\n",
    "    grid_search = GridSearchCV(model,  # 分類器を渡す\n",
    "                               param_grid=params,  # 試行してほしいパラメータを渡す\n",
    "                               cv=5,  # 5-Fold CV で汎化性能を調べる\n",
    "                               n_jobs=-1,\n",
    "                               scoring='roc_auc'\n",
    "                               )\n",
    "\n",
    "    # グリッドサーチで優れたハイパーパラメータを探す\n",
    "    grid_search.fit(X, y)\n",
    "\n",
    "    print(grid_search.best_score_)  # 最も良かったスコア\n",
    "    print(grid_search.best_params_)  # 上記を記録したパラメータの組み合わせ\n",
    "\n",
    "GridSearchCV_test()"
   ]
  },
  {
   "cell_type": "code",
   "execution_count": 7,
   "metadata": {},
   "outputs": [
    {
     "name": "stdout",
     "output_type": "stream",
     "text": [
      "train, test: (0.7179156290366462, 0.7183702138007816)\n",
      "train, test: (0.7179075791360106, 0.71855318040729)\n",
      "train, test: (0.7191308387844957, 0.7132397897928451)\n",
      "train, test: (0.7179445880741706, 0.7177207498472623)\n",
      "train, test: (0.7172061743723687, 0.7207833232639831)\n"
     ]
    }
   ],
   "source": [
    "# C=0.01\n",
    "kf_test(0.01)"
   ]
  },
  {
   "cell_type": "markdown",
   "metadata": {},
   "source": [
    "# 【問題3】Kaggle Notebooksからの調査\n",
    "KaggleのNotebooksから様々なアイデアを見つけ出して、列挙してください。"
   ]
  },
  {
   "cell_type": "markdown",
   "metadata": {},
   "source": [
    "- LightGBMで学習する。\n",
    "- CREDIT_INCOME_PERCENT：クライアントの収入に対するクレジット額の割合\n",
    "- ANNUITY_INCOME_PERCENT：クライアントの収入に対するローン年金の割合\n",
    "- CREDIT_TERM：支払いの月数（年金は毎月の支払い期日であるため）\n",
    "- DAYS_EMPLOYED_PERCENT：クライアントの年齢に対する就業日の割合"
   ]
  },
  {
   "cell_type": "markdown",
   "metadata": {},
   "source": [
    "# 【問題4】高い汎化性能のモデル作成\n",
    "問題3で見つけたアイデアと、独自のアイデアを組み合わせ高い汎化性能のモデル作りを進めてください。\n",
    "\n",
    "\n",
    "その過程として、何を行うことで、クロスバリデーションの結果がどの程度変化したかを表にまとめてください。"
   ]
  },
  {
   "cell_type": "markdown",
   "metadata": {},
   "source": [
    "### ① LightGBMで学習"
   ]
  },
  {
   "cell_type": "code",
   "execution_count": 8,
   "metadata": {},
   "outputs": [
    {
     "data": {
      "text/plain": [
       "(230633, 18)"
      ]
     },
     "execution_count": 8,
     "metadata": {},
     "output_type": "execute_result"
    }
   ],
   "source": [
    "X = train_data.iloc[:, 1:]\n",
    "y = train_data[['TARGET']]\n",
    "X_train, X_test, y_train, y_test = train_test_split(X, y, random_state=0)\n",
    "X_train.shape"
   ]
  },
  {
   "cell_type": "code",
   "execution_count": 9,
   "metadata": {},
   "outputs": [
    {
     "name": "stdout",
     "output_type": "stream",
     "text": [
      "Training until validation scores don't improve for 150 rounds\n",
      "[200]\tvalid_0's auc: 0.743704\n",
      "[400]\tvalid_0's auc: 0.75027\n",
      "[600]\tvalid_0's auc: 0.753616\n",
      "[800]\tvalid_0's auc: 0.7551\n",
      "[1000]\tvalid_0's auc: 0.755998\n",
      "[1200]\tvalid_0's auc: 0.756542\n",
      "[1400]\tvalid_0's auc: 0.756658\n",
      "[1600]\tvalid_0's auc: 0.756704\n",
      "Early stopping, best iteration is:\n",
      "[1541]\tvalid_0's auc: 0.756804\n"
     ]
    }
   ],
   "source": [
    "import lightgbm as lgb\n",
    "\n",
    "# 訓練・検証データの設定\n",
    "lgb_train = lgb.Dataset(data=X_train, label=y_train)\n",
    "lgb_test = lgb.Dataset(data=X_test, label=y_test)\n",
    "\n",
    "params = {'task': 'train', 'boosting_type': 'gbdt', 'objective': 'binary', 'metric': 'auc', \n",
    "          'learning_rate': 0.01, 'num_leaves': 48, 'num_iteration': 5000, 'verbose': 0 ,\n",
    "          'colsample_bytree':.8, 'subsample':.9, 'max_depth':7, 'reg_alpha':.1, 'reg_lambda':.1, \n",
    "          'min_split_gain':.01, 'min_child_weight':1}\n",
    "\n",
    "model = lgb.train(params, lgb_train, valid_sets=lgb_test, early_stopping_rounds=150, verbose_eval=200)"
   ]
  },
  {
   "cell_type": "code",
   "execution_count": 10,
   "metadata": {},
   "outputs": [
    {
     "data": {
      "image/png": "[encoded data removed]",
      "text/plain": [
       "<Figure size 432x288 with 1 Axes>"
      ]
     },
     "metadata": {},
     "output_type": "display_data"
    }
   ],
   "source": [
    "lgb.plot_importance(model);"
   ]
  },
  {
   "cell_type": "markdown",
   "metadata": {},
   "source": [
    "### ② LightGBM + ４つの新しい特徴量を追加"
   ]
  },
  {
   "cell_type": "code",
   "execution_count": 11,
   "metadata": {},
   "outputs": [],
   "source": [
    "# 新しい特徴量を追加\n",
    "train_data['CREDIT_INCOME_PERCENT'] = train_data['AMT_CREDIT'] / train_data['AMT_INCOME_TOTAL']\n",
    "train_data['ANNUITY_INCOME_PERCENT'] = train_data['AMT_ANNUITY'] / train_data['AMT_INCOME_TOTAL']\n",
    "train_data['CREDIT_TERM'] = train_data['AMT_ANNUITY'] / train_data['AMT_CREDIT']\n",
    "train_data['DAYS_EMPLOYED_PERCENT'] = train_data['DAYS_EMPLOYED'] / train_data['DAYS_BIRTH']"
   ]
  },
  {
   "cell_type": "code",
   "execution_count": 12,
   "metadata": {},
   "outputs": [
    {
     "data": {
      "text/plain": [
       "(230633, 22)"
      ]
     },
     "execution_count": 12,
     "metadata": {},
     "output_type": "execute_result"
    }
   ],
   "source": [
    "X = train_data.iloc[:, 1:]\n",
    "y = train_data[['TARGET']]\n",
    "X_train, X_test, y_train, y_test = train_test_split(X, y, random_state=0)\n",
    "X_train.shape"
   ]
  },
  {
   "cell_type": "code",
   "execution_count": 13,
   "metadata": {},
   "outputs": [
    {
     "name": "stdout",
     "output_type": "stream",
     "text": [
      "Training until validation scores don't improve for 150 rounds\n",
      "[200]\tvalid_0's auc: 0.747358\n",
      "[400]\tvalid_0's auc: 0.756578\n",
      "[600]\tvalid_0's auc: 0.761439\n",
      "[800]\tvalid_0's auc: 0.763436\n",
      "[1000]\tvalid_0's auc: 0.764446\n",
      "[1200]\tvalid_0's auc: 0.764939\n",
      "[1400]\tvalid_0's auc: 0.765275\n",
      "Early stopping, best iteration is:\n",
      "[1370]\tvalid_0's auc: 0.765319\n"
     ]
    }
   ],
   "source": [
    "# 訓練・検証データの設定\n",
    "lgb_train = lgb.Dataset(data=X_train, label=y_train)\n",
    "lgb_test = lgb.Dataset(data=X_test, label=y_test)\n",
    "\n",
    "params = {'task': 'train',\n",
    "          'boosting_type': 'gbdt',\n",
    "          'objective': 'binary',\n",
    "          'metric': 'auc', \n",
    "          'learning_rate': 0.01, \n",
    "          'num_leaves': 48, \n",
    "          'num_iteration': 5000, \n",
    "          'verbose': 0 ,\n",
    "          'colsample_bytree':.8, \n",
    "          'subsample':.9, \n",
    "          'max_depth':7, \n",
    "          'reg_alpha':.1, \n",
    "          'reg_lambda':.1, \n",
    "          'min_split_gain':.01, \n",
    "          'min_child_weight':1\n",
    "         }\n",
    "\n",
    "model = lgb.train(params, \n",
    "                  lgb_train, \n",
    "                  valid_sets=lgb_test, \n",
    "                  early_stopping_rounds=150, \n",
    "                  verbose_eval=200\n",
    "                 )"
   ]
  },
  {
   "cell_type": "markdown",
   "metadata": {},
   "source": [
    ">最高スコアが得られた。"
   ]
  },
  {
   "cell_type": "markdown",
   "metadata": {},
   "source": [
    "### 変更点\n",
    "- LogisticRegression → lightgbm\n",
    "- 新しい特徴量追加\n",
    "\n",
    "### 変更前  \n",
    "train, test: (0.7179156290366462, 0.7183702138007816)  \n",
    "train, test: (0.7179075791360106, 0.71855318040729)  \n",
    "train, test: (0.7191308387844957, 0.7132397897928451)  \n",
    "train, test: (0.7179445880741706, 0.7177207498472623)  \n",
    "train, test: (0.7172061743723687, 0.7207833232639831)  "
   ]
  },
  {
   "cell_type": "code",
   "execution_count": 14,
   "metadata": {},
   "outputs": [
    {
     "data": {
      "image/png": "[encoded data removed]",
      "text/plain": [
       "<Figure size 432x288 with 1 Axes>"
      ]
     },
     "metadata": {},
     "output_type": "display_data"
    }
   ],
   "source": [
    "lgb.plot_importance(model);"
   ]
  },
  {
   "cell_type": "markdown",
   "metadata": {},
   "source": [
    "# 【問題5】最終的なモデルの選定\n",
    "最終的にこれは良いというモデルを選び、推定した結果をKaggleに提出してスコアを確認してください。どういったアイデアを取り入れ、どの程度のスコアになったかを記載してください。"
   ]
  },
  {
   "cell_type": "markdown",
   "metadata": {},
   "source": [
    "### 問題４の②のパターンで提出する。"
   ]
  },
  {
   "cell_type": "code",
   "execution_count": 15,
   "metadata": {},
   "outputs": [],
   "source": [
    "# 前処理\n",
    "test_data = test.copy()\n",
    "cols = ['EXT_SOURCE_3', 'EXT_SOURCE_2',\n",
    "        'EXT_SOURCE_1', 'DAYS_BIRTH', 'REGION_RATING_CLIENT_W_CITY',\n",
    "        'REGION_RATING_CLIENT', 'DAYS_LAST_PHONE_CHANGE', 'DAYS_ID_PUBLISH',\n",
    "        'REG_CITY_NOT_WORK_CITY', 'AMT_CREDIT', 'AMT_ANNUITY',\n",
    "        'DAYS_EMPLOYED', 'AMT_GOODS_PRICE', 'NAME_EDUCATION_TYPE',\n",
    "        'CODE_GENDER', 'NAME_INCOME_TYPE', 'EMERGENCYSTATE_MODE',\n",
    "        'AMT_INCOME_TOTAL']\n",
    "test_data = test_data[cols]\n",
    "\n",
    "le = LabelEncoder()\n",
    "for i in cols:\n",
    "    if test_data[i].dtype=='O':\n",
    "        test_data[i] = test_data[i].fillna('na')\n",
    "        test_data[i] = le.fit_transform(test_data[i].values)\n",
    "    else:\n",
    "        test_data[i] = test_data[i].fillna(0)\n",
    "\n",
    "test_data['CREDIT_INCOME_PERCENT'] = test_data['AMT_CREDIT'] / test_data['AMT_INCOME_TOTAL']\n",
    "test_data['ANNUITY_INCOME_PERCENT'] = test_data['AMT_ANNUITY'] / test_data['AMT_INCOME_TOTAL']\n",
    "test_data['CREDIT_TERM'] = test_data['AMT_ANNUITY'] / test_data['AMT_CREDIT']\n",
    "test_data['DAYS_EMPLOYED_PERCENT'] = test_data['DAYS_EMPLOYED'] / test_data['DAYS_BIRTH']"
   ]
  },
  {
   "cell_type": "code",
   "execution_count": 16,
   "metadata": {},
   "outputs": [],
   "source": [
    "# 推定\n",
    "pred = model.predict(test_data)"
   ]
  },
  {
   "cell_type": "code",
   "execution_count": 17,
   "metadata": {},
   "outputs": [],
   "source": [
    "submission =pd.DataFrame({'SK_ID_CURR': test['SK_ID_CURR'], 'TARGET': pred})\n",
    "submission.to_csv('submission_HomeCredit3.csv', index=False)"
   ]
  },
  {
   "cell_type": "code",
   "execution_count": 18,
   "metadata": {},
   "outputs": [
    {
     "data": {
      "text/html": [
       "<div>\n",
       "<style scoped>\n",
       "    .dataframe tbody tr th:only-of-type {\n",
       "        vertical-align: middle;\n",
       "    }\n",
       "\n",
       "    .dataframe tbody tr th {\n",
       "        vertical-align: top;\n",
       "    }\n",
       "\n",
       "    .dataframe thead th {\n",
       "        text-align: right;\n",
       "    }\n",
       "</style>\n",
       "<table border=\"1\" class=\"dataframe\">\n",
       "  <thead>\n",
       "    <tr style=\"text-align: right;\">\n",
       "      <th></th>\n",
       "      <th>SK_ID_CURR</th>\n",
       "      <th>TARGET</th>\n",
       "    </tr>\n",
       "  </thead>\n",
       "  <tbody>\n",
       "    <tr>\n",
       "      <th>0</th>\n",
       "      <td>100001</td>\n",
       "      <td>0.017648</td>\n",
       "    </tr>\n",
       "    <tr>\n",
       "      <th>1</th>\n",
       "      <td>100005</td>\n",
       "      <td>0.056891</td>\n",
       "    </tr>\n",
       "    <tr>\n",
       "      <th>2</th>\n",
       "      <td>100013</td>\n",
       "      <td>0.017058</td>\n",
       "    </tr>\n",
       "    <tr>\n",
       "      <th>3</th>\n",
       "      <td>100028</td>\n",
       "      <td>0.038054</td>\n",
       "    </tr>\n",
       "    <tr>\n",
       "      <th>4</th>\n",
       "      <td>100038</td>\n",
       "      <td>0.135007</td>\n",
       "    </tr>\n",
       "    <tr>\n",
       "      <th>...</th>\n",
       "      <td>...</td>\n",
       "      <td>...</td>\n",
       "    </tr>\n",
       "    <tr>\n",
       "      <th>48739</th>\n",
       "      <td>456221</td>\n",
       "      <td>0.029242</td>\n",
       "    </tr>\n",
       "    <tr>\n",
       "      <th>48740</th>\n",
       "      <td>456222</td>\n",
       "      <td>0.085182</td>\n",
       "    </tr>\n",
       "    <tr>\n",
       "      <th>48741</th>\n",
       "      <td>456223</td>\n",
       "      <td>0.016775</td>\n",
       "    </tr>\n",
       "    <tr>\n",
       "      <th>48742</th>\n",
       "      <td>456224</td>\n",
       "      <td>0.035912</td>\n",
       "    </tr>\n",
       "    <tr>\n",
       "      <th>48743</th>\n",
       "      <td>456250</td>\n",
       "      <td>0.267335</td>\n",
       "    </tr>\n",
       "  </tbody>\n",
       "</table>\n",
       "<p>48744 rows × 2 columns</p>\n",
       "</div>"
      ],
      "text/plain": [
       "       SK_ID_CURR    TARGET\n",
       "0          100001  0.017648\n",
       "1          100005  0.056891\n",
       "2          100013  0.017058\n",
       "3          100028  0.038054\n",
       "4          100038  0.135007\n",
       "...           ...       ...\n",
       "48739      456221  0.029242\n",
       "48740      456222  0.085182\n",
       "48741      456223  0.016775\n",
       "48742      456224  0.035912\n",
       "48743      456250  0.267335\n",
       "\n",
       "[48744 rows x 2 columns]"
      ]
     },
     "execution_count": 18,
     "metadata": {},
     "output_type": "execute_result"
    }
   ],
   "source": [
    "pd.read_csv('submission_HomeCredit3.csv')"
   ]
  },
  {
   "cell_type": "markdown",
   "metadata": {},
   "source": [
    "![画像](https://gyazo.com/e90b376e0070c97211774b8e2903266d.gng)"
   ]
  },
  {
   "cell_type": "markdown",
   "metadata": {},
   "source": [
    ">汎用性を求めた時の優先すべきは、EDA ＞= 学習モデル種類 ＞ 前処理 ＞ パラメータチューニング という印象であった。"
   ]
  }
 ],
 "metadata": {
  "kernelspec": {
   "display_name": "Python 3",
   "language": "python",
   "name": "python3"
  },
  "language_info": {
   "codemirror_mode": {
    "name": "ipython",
    "version": 3
   },
   "file_extension": ".py",
   "mimetype": "text/x-python",
   "name": "python",
   "nbconvert_exporter": "python",
   "pygments_lexer": "ipython3",
   "version": "3.7.6"
  }
 },
 "nbformat": 4,
 "nbformat_minor": 4
}
