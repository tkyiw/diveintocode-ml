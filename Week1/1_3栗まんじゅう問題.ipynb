{
 "cells": [
  {
   "cell_type": "markdown",
   "metadata": {},
   "source": [
    "# 【introduction】\n",
    "漫画ドラえもんには「バイバイン」という道具が登場する、2のn乗に関する有名なエピソード[1]があります。  \n",
    "\n",
    "[1] 藤子・Ｆ・不二雄(1979)『ドラえもん（１７）』小学館.  \n",
    "\n",
    "「バイバイン」は薬品で、これを振掛けるとその物体は5分ごとに倍に増えるという働きがあります。作中では栗まんじゅうを増やしますが、食べきれなくなったためロケットを使い宇宙に捨てました。  \n",
    "\n",
    "ここで度々話題になるのが、栗まんじゅうはその後宇宙でどのように増えていくのかについてです。様々な議論がされていますが、今回は単純に栗まんじゅうの体積がどう増えるかを計算してみましょう。"
   ]
  },
  {
   "cell_type": "markdown",
   "metadata": {},
   "source": [
    "# 【問題】栗まんじゅうが太陽系を覆う日\n",
    "1個の栗まんじゅうにバイバインを振りかけた場合、太陽系が栗まんじゅうで覆われるのは何分後でしょうか。これを計算するプログラムを作成してください。\n",
    "\n",
    "\n",
    "栗まんじゅうや太陽系の体積を調査した上で仮定して計算してください。栗まんじゅうの隙間や重力などは考えず、問題を単純化して構いません。\n",
    "\n",
    "\n",
    "ボールにバイバインを振りかけた時、東京ドームが一杯になる時間など他の状況にも適用できるような汎用的なプログラムを作成してください。また、グラフを表示するなど分かりやすいノートブックを作成してください。"
   ]
  },
  {
   "cell_type": "code",
   "execution_count": 1,
   "metadata": {},
   "outputs": [],
   "source": [
    "import math"
   ]
  },
  {
   "cell_type": "code",
   "execution_count": 2,
   "metadata": {},
   "outputs": [],
   "source": [
    "# 目的の体積が見つからないので、得られた半径を元に体積を求める。\n",
    "# 栗まんじゅうの体積\n",
    "MANJU = (4/3)*math.pi*0.015**3\n",
    "# 太陽系の体積\n",
    "TAIYOUKEI = (4/3)*math.pi*1.514e+16**3"
   ]
  },
  {
   "cell_type": "code",
   "execution_count": 3,
   "metadata": {},
   "outputs": [],
   "source": [
    "def satisfy_time(start_volume, end_volume):\n",
    "    list_volume = [start_volume]\n",
    "    list_time = [0]\n",
    "    while end_volume > start_volume:\n",
    "        start_volume *= 2\n",
    "        list_volume.append(start_volume)\n",
    "        list_time.append((len(list_volume) - 1)*5)\n",
    "    \n",
    "    return list_volume, list_time"
   ]
  },
  {
   "cell_type": "code",
   "execution_count": 4,
   "metadata": {},
   "outputs": [],
   "source": [
    "_, list_time_manju = satisfy_time(MANJU, TAIYOUKEI) "
   ]
  },
  {
   "cell_type": "code",
   "execution_count": 5,
   "metadata": {},
   "outputs": [
    {
     "name": "stdout",
     "output_type": "stream",
     "text": [
      "太陽系が栗まんじゅうで覆われるのは、900分後です。\n"
     ]
    }
   ],
   "source": [
    "print(f'太陽系が栗まんじゅうで覆われるのは、{list_time_manju[-1]}分後です。')"
   ]
  },
  {
   "cell_type": "code",
   "execution_count": 6,
   "metadata": {},
   "outputs": [],
   "source": [
    "# ボールの体積\n",
    "BALL = (4/3)*math.pi*0.037**3\n",
    "# 東京ドームの体積\n",
    "TOKYO_DOME = 1240000"
   ]
  },
  {
   "cell_type": "code",
   "execution_count": 7,
   "metadata": {},
   "outputs": [],
   "source": [
    "list_volume, list_time_ball = satisfy_time(BALL, TOKYO_DOME)"
   ]
  },
  {
   "cell_type": "code",
   "execution_count": 8,
   "metadata": {},
   "outputs": [
    {
     "name": "stdout",
     "output_type": "stream",
     "text": [
      "東京ドームがボールで覆われるのは、165分後です。\n"
     ]
    }
   ],
   "source": [
    "print(f'東京ドームがボールで覆われるのは、{list_time_ball[-1]}分後です。')"
   ]
  },
  {
   "cell_type": "code",
   "execution_count": 9,
   "metadata": {
    "scrolled": true
   },
   "outputs": [
    {
     "data": {
      "image/png": "[encoded data removed]",
      "text/plain": [
       "<Figure size 432x288 with 1 Axes>"
      ]
     },
     "metadata": {
      "needs_background": "light"
     },
     "output_type": "display_data"
    }
   ],
   "source": [
    "import matplotlib.pyplot as plt\n",
    "%matplotlib inline\n",
    "\n",
    "plt.title('satisfy_time')\n",
    "plt.xlabel('time[min]')\n",
    "plt.ylabel('volume[m^3]')\n",
    "plt.plot(list_time_ball, list_volume, marker='o');"
   ]
  }
 ],
 "metadata": {
  "kernelspec": {
   "display_name": "Python 3",
   "language": "python",
   "name": "python3"
  },
  "language_info": {
   "codemirror_mode": {
    "name": "ipython",
    "version": 3
   },
   "file_extension": ".py",
   "mimetype": "text/x-python",
   "name": "python",
   "nbconvert_exporter": "python",
   "pygments_lexer": "ipython3",
   "version": "3.7.6"
  }
 },
 "nbformat": 4,
 "nbformat_minor": 2
}
