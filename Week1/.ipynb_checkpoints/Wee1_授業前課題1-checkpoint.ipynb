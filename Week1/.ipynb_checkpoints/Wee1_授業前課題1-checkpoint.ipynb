{
 "cells": [
  {
   "cell_type": "markdown",
   "metadata": {},
   "source": [
    "# Week1 授業前課題１　Pythonを使ってみよう"
   ]
  },
  {
   "cell_type": "markdown",
   "metadata": {},
   "source": [
    "### 【問題1】べき乗の算術演算子を使用して作成\n",
    "べき乗の算術演算子を使用したプログラムを作ってください。\n",
    "雛形として紙を1回折った時の厚さを計算するコードを用意しました。これを43回折った時のコードに書き換えてください。"
   ]
  },
  {
   "cell_type": "code",
   "execution_count": 1,
   "metadata": {},
   "outputs": [
    {
     "name": "stdout",
     "output_type": "stream",
     "text": [
      "厚さ： 0.00016メートル\n"
     ]
    }
   ],
   "source": [
    "\"\"\"\n",
    "紙を1回折った時の厚さを計算するコード\n",
    "\"\"\"\n",
    "THICKNESS = 0.00008\n",
    "folded_thickness = THICKNESS*2\n",
    "print(\"厚さ： {}メートル\".format(folded_thickness))"
   ]
  },
  {
   "cell_type": "code",
   "execution_count": 2,
   "metadata": {},
   "outputs": [
    {
     "name": "stdout",
     "output_type": "stream",
     "text": [
      "厚さ： 703687441.77664メートル\n"
     ]
    }
   ],
   "source": [
    "\"\"\"\n",
    "紙を43回折った時の厚さを計算するコード\n",
    "\"\"\"\n",
    "THICKNESS = 0.00008\n",
    "N = 43\n",
    "folded_thickness = THICKNESS*2**N\n",
    "print(\"厚さ： {}メートル\".format(folded_thickness))"
   ]
  },
  {
   "cell_type": "markdown",
   "metadata": {},
   "source": [
    "### 【問題2】単位の変換\n",
    "単位がメートルだと実感が湧きづらいので、◯◯万キロメートル に変換して表示させてください。\n",
    "\n",
    "サンプルとして ◯◯キロメートル に変換したコードを用意したので、参考にして取り組んでください。小数点以下は2桁まで表示されるようにも指定しています。"
   ]
  },
  {
   "cell_type": "code",
   "execution_count": 3,
   "metadata": {},
   "outputs": [
    {
     "name": "stdout",
     "output_type": "stream",
     "text": [
      "厚さ： 703687.44キロメートル\n"
     ]
    }
   ],
   "source": [
    "#サンプルコード\n",
    "# メートルをキロメートルに変換して小数点以下2桁で表示する\n",
    "print(\"厚さ： {:.2f}キロメートル\".format(folded_thickness/1000))"
   ]
  },
  {
   "cell_type": "code",
   "execution_count": 4,
   "metadata": {},
   "outputs": [
    {
     "name": "stdout",
     "output_type": "stream",
     "text": [
      "厚さ: 70.37万キロメートル\n"
     ]
    }
   ],
   "source": [
    "# ◯◯万キロメートル に変換して表示\n",
    "print('厚さ: {:.2f}万キロメートル'.format(folded_thickness/10000000))"
   ]
  },
  {
   "cell_type": "markdown",
   "metadata": {},
   "source": [
    "### 【問題3】for文を使用して作成\n",
    "次に、for文を使用したプログラムを作ってください。\n",
    "\n",
    "\n",
    "べき乗の算術演算子は使ってはいけません。算術演算子は四則演算（+、-、*、/）のみ使えます。"
   ]
  },
  {
   "cell_type": "code",
   "execution_count": 5,
   "metadata": {},
   "outputs": [
    {
     "name": "stdout",
     "output_type": "stream",
     "text": [
      "厚さ: 70.37万キロメートル\n"
     ]
    }
   ],
   "source": [
    "f_THICKNESS = 0.00008\n",
    "N = 43\n",
    "for i in range(N):\n",
    "     f_THICKNESS *= 2\n",
    "    \n",
    "print('厚さ: {:.2f}万キロメートル'.format(f_THICKNESS/10000000))"
   ]
  },
  {
   "cell_type": "markdown",
   "metadata": {},
   "source": [
    "### 【問題4】計算時間の比較\n"
   ]
  },
  {
   "cell_type": "markdown",
   "metadata": {},
   "source": [
    "今回は計算速度を比較してみます。以下の雛形を使用して、2つの方法の計算時間を出力してください。そして、それぞれの計算時間の関係を簡単に説明してください。どちらの書き方が良さそうでしょうか。なお、変数の定義やprint文など、どちらの方法でも使われている部分は除いた範囲の時間を比較してください。\n",
    "\n",
    "《雛形》\n",
    "\n",
    "timeモジュールを用いることで現在の時間を取得できます。比較したい箇所の前後の時間の差を計算することで、実行時間を求めます。"
   ]
  },
  {
   "cell_type": "code",
   "execution_count": 6,
   "metadata": {},
   "outputs": [
    {
     "name": "stdout",
     "output_type": "stream",
     "text": [
      "time : 0.00018095970153808594[s]\n"
     ]
    }
   ],
   "source": [
    "import time\n",
    "start = time.time()\n",
    "#####\n",
    "# ここに比較したいコードを貼り付ける\n",
    "THICKNESS = 0.00008\n",
    "N = 43\n",
    "folded_thickness = THICKNESS*2**N\n",
    "#####\n",
    "elapsed_time = time.time() - start\n",
    "print(\"time : {}[s]\".format(elapsed_time))"
   ]
  },
  {
   "cell_type": "code",
   "execution_count": 7,
   "metadata": {},
   "outputs": [
    {
     "name": "stdout",
     "output_type": "stream",
     "text": [
      "time : 0.00018525123596191406[s]\n"
     ]
    }
   ],
   "source": [
    "import time\n",
    "start = time.time()\n",
    "#####\n",
    "# ここに比較したいコードを貼り付ける\n",
    "THICKNESS = 0.00008\n",
    "N = 43\n",
    "folded_thickness = THICKNESS*2**N\n",
    "#####\n",
    "elapsed_time = time.time() - start\n",
    "print(\"time : {}[s]\".format(elapsed_time))"
   ]
  },
  {
   "cell_type": "markdown",
   "metadata": {},
   "source": [
    "《発展：繰り返し回数を増やす》\n",
    "\n",
    "\n",
    "43回程度では2つの方法の差が出にくいかもしれません。そういった時は、回数をより増やして差を明確にしてみると良いでしょう。\n",
    "\n",
    "\n",
    "《発展：マジックコマンドを使う》\n",
    "\n",
    "\n",
    "計算時間は実行するたびに変化します。そのため、複数回計測することが一般的です。timeモジュールとfor文を組み合わせることで実現できる他、Jupyter Notebookでは%timeitという マジックコマンド でも計測が可能です。マジックコマンドはPythonのプログラムとは別に用意された、Jupyter Notebookを便利にするための機能です。\n",
    "\n",
    "\n",
    "Built-in magic commands — IPython 7.9.0 documentation\n",
    "\n",
    "\n",
    "計測したいコードを書いたセルのはじめに%%timeitと入れて実行します。"
   ]
  },
  {
   "cell_type": "code",
   "execution_count": 8,
   "metadata": {},
   "outputs": [
    {
     "name": "stdout",
     "output_type": "stream",
     "text": [
      "416 ns ± 8.11 ns per loop (mean ± std. dev. of 7 runs, 1000000 loops each)\n"
     ]
    }
   ],
   "source": [
    "%%timeit\n",
    "#####\n",
    "# ここに比較したいコードを貼り付ける\n",
    "THICKNESS = 0.00008\n",
    "N = 43\n",
    "folded_thickness = THICKNESS*2**N\n",
    "#####"
   ]
  },
  {
   "cell_type": "code",
   "execution_count": 9,
   "metadata": {},
   "outputs": [
    {
     "name": "stdout",
     "output_type": "stream",
     "text": [
      "1.83 µs ± 28.5 ns per loop (mean ± std. dev. of 7 runs, 100000 loops each)\n"
     ]
    }
   ],
   "source": [
    "%%timeit\n",
    "#####\n",
    "# ここに比較したいコードを貼り付ける\n",
    "f_THICKNESS = 0.00008\n",
    "N = 43\n",
    "for i in range(N):\n",
    "     f_THICKNESS *= 2\n",
    "#####"
   ]
  },
  {
   "cell_type": "code",
   "execution_count": 17,
   "metadata": {},
   "outputs": [
    {
     "name": "stdout",
     "output_type": "stream",
     "text": [
      "べき算の計算速度はfor文より4.40倍高速である。\n"
     ]
    }
   ],
   "source": [
    "print('べき算の計算速度はfor文より{:.2f}倍高速である。'.format((1.83*10**(-6))/(416*10**(-9))))"
   ]
  },
  {
   "cell_type": "markdown",
   "metadata": {},
   "source": [
    "### 【問題5】リストへの保存\n",
    "ここまでは43回折った後の最後の値だけを使用していましたが、グラフで可視化するためには過程の値も必要です。for文を使用したコードに、過程の値合計44個を記録するコードを加えてください。"
   ]
  },
  {
   "cell_type": "code",
   "execution_count": 11,
   "metadata": {},
   "outputs": [
    {
     "name": "stdout",
     "output_type": "stream",
     "text": [
      "44\n"
     ]
    }
   ],
   "source": [
    "THICKNESS = 0.00008\n",
    "N = 43\n",
    "fold_THICKNESS = []\n",
    "fold_THICKNESS.append(THICKNESS)\n",
    "\n",
    "for _ in range(N):\n",
    "    THICKNESS *= 2\n",
    "    fold_THICKNESS.append(THICKNESS)\n",
    "\n",
    "print(len(fold_THICKNESS))"
   ]
  },
  {
   "cell_type": "markdown",
   "metadata": {},
   "source": [
    "### 【問題6】折れ線グラフの表示\n",
    "グラフの描画には Matplotlib という ライブラリ を用います。リストへ記録するコードの後ろで以下の雛形を使用してください。"
   ]
  },
  {
   "cell_type": "code",
   "execution_count": 12,
   "metadata": {
    "scrolled": true
   },
   "outputs": [
    {
     "data": {
      "image/png": "[encoded data removed]",
      "text/plain": [
       "<Figure size 432x288 with 1 Axes>"
      ]
     },
     "metadata": {
      "needs_background": "light"
     },
     "output_type": "display_data"
    }
   ],
   "source": [
    "\"\"\"\n",
    "グラフを表示する。タイトルと軸ラベル名付き。\n",
    "\"\"\"\n",
    "import matplotlib.pyplot as plt\n",
    "%matplotlib inline\n",
    "plt.title('thickness of folded paper')\n",
    "plt.xlabel('number of folds')\n",
    "plt.ylabel('thickness[m]')\n",
    "plt.plot(fold_THICKNESS);"
   ]
  },
  {
   "cell_type": "markdown",
   "metadata": {},
   "source": [
    "考察：　４０回弱から急激に厚みを増している。"
   ]
  },
  {
   "cell_type": "markdown",
   "metadata": {},
   "source": [
    "### 【問題7】グラフのカスタマイズ"
   ]
  },
  {
   "cell_type": "code",
   "execution_count": 13,
   "metadata": {},
   "outputs": [
    {
     "data": {
      "image/png": "[encoded data removed]",
      "text/plain": [
       "<Figure size 432x288 with 1 Axes>"
      ]
     },
     "metadata": {
      "needs_background": "light"
     },
     "output_type": "display_data"
    }
   ],
   "source": [
    "\"\"\"\n",
    "赤い折れ線グラフを表示する。\n",
    "\"\"\"\n",
    "plt.title(\"thickness of folded paper\")\n",
    "plt.xlabel(\"number of folds\")\n",
    "plt.ylabel(\"thickness[m]\")\n",
    "plt.plot(fold_THICKNESS, color='red')\n",
    "plt.show()"
   ]
  },
  {
   "cell_type": "code",
   "execution_count": 14,
   "metadata": {},
   "outputs": [
    {
     "data": {
      "image/png": "[encoded data removed]",
      "text/plain": [
       "<Figure size 432x288 with 1 Axes>"
      ]
     },
     "metadata": {
      "needs_background": "light"
     },
     "output_type": "display_data"
    }
   ],
   "source": [
    "\"\"\"\n",
    "緑線\n",
    "太線\n",
    "点線\n",
    "値のフォントサイズ変更\n",
    "\"\"\"\n",
    "plt.title(\"thickness of folded paper\")\n",
    "plt.xlabel(\"number of folds\")\n",
    "plt.ylabel(\"thickness[m]\")\n",
    "plt.plot(fold_THICKNESS, linewidth=10.0, linestyle='dotted', color='green')\n",
    "plt.tick_params(labelsize=20) # フォントサイズ変更\n",
    "plt.show()"
   ]
  }
 ],
 "metadata": {
  "kernelspec": {
   "display_name": "Python 3",
   "language": "python",
   "name": "python3"
  },
  "language_info": {
   "codemirror_mode": {
    "name": "ipython",
    "version": 3
   },
   "file_extension": ".py",
   "mimetype": "text/x-python",
   "name": "python",
   "nbconvert_exporter": "python",
   "pygments_lexer": "ipython3",
   "version": "3.7.6"
  }
 },
 "nbformat": 4,
 "nbformat_minor": 2
}
