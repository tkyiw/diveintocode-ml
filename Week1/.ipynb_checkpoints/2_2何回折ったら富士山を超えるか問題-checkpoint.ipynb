{
 "cells": [
  {
   "cell_type": "markdown",
   "metadata": {},
   "source": [
    "# 【問題1】富士山を超える最小の折る回数\n",
    "厚さが「富士山(3776m)」を超えるのは何回紙を折った時か計算するプログラムを作成してください。"
   ]
  },
  {
   "cell_type": "code",
   "execution_count": 1,
   "metadata": {},
   "outputs": [
    {
     "name": "stdout",
     "output_type": "stream",
     "text": [
      "26回\n"
     ]
    }
   ],
   "source": [
    "thickness = 0.00008\n",
    "count = 0\n",
    "\n",
    "while 3776 >= thickness:\n",
    "    count += 1\n",
    "    thickness *= 2\n",
    "print('{}回'.format(count))"
   ]
  },
  {
   "cell_type": "markdown",
   "metadata": {},
   "source": [
    "# 【問題2】任意の厚さに対応した関数を作成\n",
    "距離を入力すると、何回折った時に超えるかを出力する関数を作成してください。引数として、折る前の厚さ$t_0$も設定できるようにしましょう。\n",
    "\n",
    "この関数を利用して、「最も近い太陽以外の恒星」に到達するには紙を何回折る必要があるか計算してください。「最も近い太陽以外の恒星」の距離は調査してください。"
   ]
  },
  {
   "cell_type": "code",
   "execution_count": 2,
   "metadata": {},
   "outputs": [],
   "source": [
    "def fold_times(distance, thickness=0.00008):\n",
    "    count = 0\n",
    "    while distance >= thickness:\n",
    "        count += 1\n",
    "        thickness *= 2\n",
    "    return count"
   ]
  },
  {
   "cell_type": "markdown",
   "metadata": {},
   "source": [
    "最も近い太陽以外の恒星：プロキシマ・ケンタウリ\t4.243光年"
   ]
  },
  {
   "cell_type": "code",
   "execution_count": 3,
   "metadata": {},
   "outputs": [
    {
     "name": "stdout",
     "output_type": "stream",
     "text": [
      "69回\n"
     ]
    }
   ],
   "source": [
    "target_distance = 4.01419e+16 #メートル\n",
    "print(f'{fold_times(target_distance)}回')"
   ]
  },
  {
   "cell_type": "markdown",
   "metadata": {},
   "source": [
    "# 【問題3】必要な紙の長さ\n",
    "実際のところ身近にある紙は43回はおろか10回も折れません。しかし、大きな紙ほどたくさん折ることができ、トイレットペーパーのような長い紙を一方向に折ることを考えた時の折れる回数を求める公式が存在します。  \n",
    "厚さ$t_0$の紙をn回折るために必要な紙の長さLは以下の公式で求まります。\n",
    "$$ L = \\frac{\\pi t_{0}}{6}(2^n + 4)(2^n - 1) $$\n",
    "この公式を利用して、実際に紙を折り任意の厚さに到達するために必要な紙の長さを求める関数を作成してください。  \n",
    "そしてこれを使って「月」「富士山」「最も近い太陽以外の恒星」に届くために必要な紙の長さを求めてください。"
   ]
  },
  {
   "cell_type": "code",
   "execution_count": 4,
   "metadata": {},
   "outputs": [],
   "source": [
    "# 円周率を正確に求めるために、mathモジュールをインポートする。\n",
    "import math"
   ]
  },
  {
   "cell_type": "code",
   "execution_count": 5,
   "metadata": {},
   "outputs": [],
   "source": [
    "def required_length(target_distance, thickness=0.00008):\n",
    "    count = fold_times(target_distance)\n",
    "    length = ((math.pi*thickness)/6)*(2**count + 4)*(2**count - 1)\n",
    "    \n",
    "    return length"
   ]
  },
  {
   "cell_type": "code",
   "execution_count": 6,
   "metadata": {},
   "outputs": [
    {
     "name": "stdout",
     "output_type": "stream",
     "text": [
      "月：324091944417078.1万km\n",
      "富士山：18864.634848724018万km\n",
      "プロキシマ・ケンタウリ：1.4595803601100346e+30万km\n"
     ]
    }
   ],
   "source": [
    "# 「月」「富士山」「最も近い太陽以外の恒星」に届くために必要な紙の長さを求める。\n",
    "moon = 384400*1000\n",
    "mt_fuji = 3776\n",
    "proxima_centaur = 4.01419e+16\n",
    "\n",
    "print('月：{}万km'.format(required_length(moon)/1000/10000))\n",
    "print('富士山：{}万km'.format(required_length(mt_fuji)/1000/10000))\n",
    "print('プロキシマ・ケンタウリ：{}万km'.format(required_length(proxima_centaur)/1000/10000))\n"
   ]
  }
 ],
 "metadata": {
  "kernelspec": {
   "display_name": "Python 3",
   "language": "python",
   "name": "python3"
  },
  "language_info": {
   "codemirror_mode": {
    "name": "ipython",
    "version": 3
   },
   "file_extension": ".py",
   "mimetype": "text/x-python",
   "name": "python",
   "nbconvert_exporter": "python",
   "pygments_lexer": "ipython3",
   "version": "3.7.6"
  }
 },
 "nbformat": 4,
 "nbformat_minor": 2
}
